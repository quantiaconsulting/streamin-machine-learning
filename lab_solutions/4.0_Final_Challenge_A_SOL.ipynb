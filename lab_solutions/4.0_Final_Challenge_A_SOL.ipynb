{
 "cells": [
  {
   "cell_type": "markdown",
   "metadata": {},
   "source": [
    "<div style=\"text-align: center; line-height: 0; padding-top: 2px;\">\n",
    "  <img src=\"https://www.quantiaconsulting.com/logos/quantia_logo_orizz.png\" alt=\"Quantia Consulting\" style=\"width: 600px; height: 250px\">\n",
    "</div>"
   ]
  },
  {
   "cell_type": "markdown",
   "metadata": {},
   "source": [
    "# Final Challenge A - Solution\n",
    "---\n",
    "\n",
    "## Using the KDDCup dataset, find the best SML model"
   ]
  },
  {
   "cell_type": "code",
   "execution_count": 1,
   "metadata": {},
   "outputs": [],
   "source": [
    "import matplotlib.pyplot as plt\n",
    "import numpy as np\n",
    "import pandas as pd"
   ]
  },
  {
   "cell_type": "markdown",
   "metadata": {},
   "source": [
    "The KDDCup intrusion detection data stream records intrusions simulated in a military network environment. The task is to classify network traffic into **normal** (80.31% of the cases) or some kind of **intrusion** (19.69% of the cases) described by *41 features*, of which *34 numeric* and *7 nominal*. The problem of temporal dependence is particularly evident here. Inspecting the raw stream confirms that there are time periods of intrusions rather than single instances of intrusions.\n",
    "The *7 nominal* attributes are:\n",
    "- protocol_type\n",
    "- service\n",
    "- flag\n",
    "- land\n",
    "- logged_in\n",
    "- is_host_login\n",
    "- is_guest_login\n",
    "\n",
    "**Class:** `class` | 0: normal, 1: intrusion\n",
    " \n",
    "**Samples:** 494021\n"
   ]
  },
  {
   "cell_type": "code",
   "execution_count": 2,
   "metadata": {},
   "outputs": [
    {
     "data": {
      "text/plain": [
       "duration                         int64\n",
       "protocol_type                   object\n",
       "service                         object\n",
       "flag                            object\n",
       "src_bytes                        int64\n",
       "dst_bytes                        int64\n",
       "land                             int64\n",
       "wrong_fragment                   int64\n",
       "urgent                           int64\n",
       "hot                              int64\n",
       "num_failed_logins                int64\n",
       "logged_in                        int64\n",
       "num_compromised                  int64\n",
       "root_shell                       int64\n",
       "su_attempted                     int64\n",
       "num_root                         int64\n",
       "num_file_creations               int64\n",
       "num_shells                       int64\n",
       "num_access_files                 int64\n",
       "num_outbound_cmds                int64\n",
       "is_host_login                    int64\n",
       "is_guest_login                   int64\n",
       "count                            int64\n",
       "srv_count                        int64\n",
       "serror_rate                    float64\n",
       "srv_serror_rate                float64\n",
       "rerror_rate                    float64\n",
       "srv_rerror_rate                float64\n",
       "same_srv_rate                  float64\n",
       "diff_srv_rate                  float64\n",
       "srv_diff_host_rate             float64\n",
       "dst_host_count                   int64\n",
       "dst_host_srv_count               int64\n",
       "dst_host_same_srv_rate         float64\n",
       "dst_host_diff_srv_rate         float64\n",
       "dst_host_same_src_port_rate    float64\n",
       "dst_host_srv_diff_host_rate    float64\n",
       "dst_host_serror_rate           float64\n",
       "dst_host_srv_serror_rate       float64\n",
       "dst_host_rerror_rate           float64\n",
       "dst_host_srv_rerror_rate       float64\n",
       "class                            int64\n",
       "dtype: object"
      ]
     },
     "execution_count": 2,
     "metadata": {},
     "output_type": "execute_result"
    }
   ],
   "source": [
    "df = pd.read_csv(\"../datasets/KDDCup.csv\")\n",
    "features = df.columns[:-1]\n",
    "df.dtypes"
   ]
  },
  {
   "cell_type": "markdown",
   "metadata": {},
   "source": [
    "## Plot data distribution\n",
    "---\n",
    "Encode the protocol_type, service and flag attributes and apply the **PCA**"
   ]
  },
  {
   "cell_type": "code",
   "execution_count": 3,
   "metadata": {},
   "outputs": [
    {
     "data": {
      "image/png": "[encoded data removed]",
      "text/plain": [
       "<Figure size 432x288 with 1 Axes>"
      ]
     },
     "metadata": {
      "needs_background": "light"
     },
     "output_type": "display_data"
    }
   ],
   "source": [
    "from sklearn.preprocessing import OrdinalEncoder\n",
    "from sklearn.preprocessing import StandardScaler\n",
    "from sklearn.decomposition import PCA\n",
    "\n",
    "encoder = OrdinalEncoder()\n",
    "encDf = df.copy()\n",
    "encDf[[\"protocol_type\",\"service\",\"flag\"]] = encoder.fit_transform(encDf[[\"protocol_type\",\"service\",\"flag\"]])\n",
    "\n",
    "\n",
    "features = encDf.drop([\"class\"],axis=1)\n",
    "label = encDf[\"class\"]\n",
    "\n",
    "scaled_features = StandardScaler().fit_transform(features)\n",
    "num_components = 2\n",
    "pca = PCA(n_components=num_components)\n",
    "pca_data = pca.fit_transform(scaled_features)\n",
    "pca_data.shape\n",
    "\n",
    "pc_df = pd.DataFrame(data = pca_data,columns = [\"pc1\", \"pc2\"])\n",
    "pc_df[\"class\"] = label\n",
    "\n",
    "normalities = pc_df[pc_df[\"class\"] == 0]\n",
    "intrusions = pc_df[pc_df[\"class\"] == 1]\n",
    "\n",
    "fig = plt.figure()\n",
    "ax1 = fig.add_subplot(111)\n",
    "ax1.scatter(x=normalities[\"pc1\"], y=normalities[\"pc2\"], marker=\"s\", label='Normalities: # ' + str(normalities.shape[0]))\n",
    "ax1.scatter(x=intrusions[\"pc1\"], y=intrusions[\"pc2\"], marker=\"o\", label='Intrusions: # ' + str(intrusions.shape[0]))\n",
    "plt.legend(loc='upper left');\n",
    "fig.tight_layout()\n",
    "plt.show()"
   ]
  },
  {
   "cell_type": "markdown",
   "metadata": {},
   "source": [
    "## Find the best SML model!\n",
    "---\n",
    "### Hint\n",
    "Since the stream is imbalances, the Accuracy is not a reliable metric. Try using [BalancedAccuracy](https://riverml.xyz/latest/api/metrics/BalancedAccuracy/) and [GeometricMean](https://riverml.xyz/latest/api/metrics/GeometricMean/) instead. To combine them, use [Metrics](https://riverml.xyz/latest/api/metrics/Metrics/)"
   ]
  },
  {
   "cell_type": "code",
   "execution_count": 4,
   "metadata": {},
   "outputs": [],
   "source": [
    "from river.stream import iter_pandas\n",
    "from river.evaluate import progressive_val_score\n",
    "from river.metrics import Metrics,Accuracy,BalancedAccuracy,GeometricMean,CohenKappa\n",
    "from river import compose"
   ]
  },
  {
   "cell_type": "markdown",
   "metadata": {},
   "source": [
    "## Naïve Bayes"
   ]
  },
  {
   "cell_type": "code",
   "execution_count": 5,
   "metadata": {},
   "outputs": [
    {
     "name": "stdout",
     "output_type": "stream",
     "text": [
      "[50,000] Accuracy: 87.08%, BalancedAccuracy: 79.69%, GeometricMean: 78.41%, CohenKappa: 62.68%\n",
      "[100,000] Accuracy: 88.41%, BalancedAccuracy: 88.58%, GeometricMean: 88.57%, CohenKappa: 76.62%\n",
      "[150,000] Accuracy: 88.25%, BalancedAccuracy: 87.94%, GeometricMean: 87.71%, CohenKappa: 76.31%\n",
      "[200,000] Accuracy: 91.19%, BalancedAccuracy: 89.05%, GeometricMean: 88.74%, CohenKappa: 80.26%\n",
      "[250,000] Accuracy: 92.95%, BalancedAccuracy: 89.54%, GeometricMean: 89.19%, CohenKappa: 82.05%\n",
      "[300,000] Accuracy: 94.13%, BalancedAccuracy: 89.82%, GeometricMean: 89.45%, CohenKappa: 83.08%\n",
      "[350,000] Accuracy: 93.71%, BalancedAccuracy: 87.85%, GeometricMean: 87.22%, CohenKappa: 80.52%\n",
      "[400,000] Accuracy: 94.34%, BalancedAccuracy: 87.82%, GeometricMean: 87.17%, CohenKappa: 80.83%\n",
      "[450,000] Accuracy: 94.93%, BalancedAccuracy: 87.82%, GeometricMean: 87.13%, CohenKappa: 81.13%\n"
     ]
    },
    {
     "data": {
      "text/plain": [
       "Accuracy: 93.28%, BalancedAccuracy: 84.92%, GeometricMean: 83.79%, CohenKappa: 76.68%"
      ]
     },
     "execution_count": 5,
     "metadata": {},
     "output_type": "execute_result"
    }
   ],
   "source": [
    "from river.naive_bayes import GaussianNB\n",
    "\n",
    "model = (\n",
    "    compose.Discard('protocol_type','service', 'flag') |\n",
    "    GaussianNB()\n",
    ")\n",
    "features = df.columns[:-1]\n",
    "metrics = Metrics(metrics=[Accuracy(),BalancedAccuracy(),GeometricMean(),CohenKappa()])\n",
    "stream = iter_pandas(X=df[features], y=df['class'])\n",
    "\n",
    "progressive_val_score(dataset=stream,\n",
    "                      model=model,\n",
    "                      metric=metrics,\n",
    "                      print_every=50000)"
   ]
  },
  {
   "cell_type": "markdown",
   "metadata": {},
   "source": [
    "## Hoeffding Adaptive Tree"
   ]
  },
  {
   "cell_type": "code",
   "execution_count": 6,
   "metadata": {},
   "outputs": [
    {
     "name": "stdout",
     "output_type": "stream",
     "text": [
      "[50,000] Accuracy: 99.31%, BalancedAccuracy: 98.77%, GeometricMean: 98.77%, CohenKappa: 98.11%\n",
      "[100,000] Accuracy: 99.28%, BalancedAccuracy: 99.24%, GeometricMean: 99.24%, CohenKappa: 98.54%\n",
      "[150,000] Accuracy: 98.91%, BalancedAccuracy: 98.92%, GeometricMean: 98.92%, CohenKappa: 97.81%\n",
      "[200,000] Accuracy: 99.18%, BalancedAccuracy: 99.17%, GeometricMean: 99.17%, CohenKappa: 98.21%\n",
      "[250,000] Accuracy: 99.34%, BalancedAccuracy: 99.29%, GeometricMean: 99.29%, CohenKappa: 98.39%\n",
      "[300,000] Accuracy: 99.45%, BalancedAccuracy: 99.35%, GeometricMean: 99.35%, CohenKappa: 98.49%\n",
      "[350,000] Accuracy: 99.39%, BalancedAccuracy: 99.29%, GeometricMean: 99.29%, CohenKappa: 98.23%\n",
      "[400,000] Accuracy: 99.42%, BalancedAccuracy: 99.28%, GeometricMean: 99.28%, CohenKappa: 98.18%\n",
      "[450,000] Accuracy: 99.47%, BalancedAccuracy: 99.27%, GeometricMean: 99.27%, CohenKappa: 98.17%\n"
     ]
    },
    {
     "data": {
      "text/plain": [
       "Accuracy: 99.42%, BalancedAccuracy: 99.26%, GeometricMean: 99.26%, CohenKappa: 98.17%"
      ]
     },
     "execution_count": 6,
     "metadata": {},
     "output_type": "execute_result"
    }
   ],
   "source": [
    "from river.tree import HoeffdingAdaptiveTreeClassifier\n",
    "\n",
    "model = HoeffdingAdaptiveTreeClassifier(nominal_attributes=['protocol_type','service', 'flag'], seed=42)\n",
    "metrics = Metrics(metrics=[Accuracy(),BalancedAccuracy(),GeometricMean(),CohenKappa()])\n",
    "stream = iter_pandas(X=df[features], y=df['class'])\n",
    "\n",
    "progressive_val_score(dataset=stream, \n",
    "                      model=model, \n",
    "                      metric=metrics, \n",
    "                      print_every=50000)"
   ]
  },
  {
   "cell_type": "markdown",
   "metadata": {},
   "source": [
    "## Adaptive Random Forest"
   ]
  },
  {
   "cell_type": "code",
   "execution_count": 7,
   "metadata": {},
   "outputs": [
    {
     "name": "stdout",
     "output_type": "stream",
     "text": [
      "[50,000] Accuracy: 99.81%, BalancedAccuracy: 99.68%, GeometricMean: 99.68%, CohenKappa: 99.47%\n",
      "[100,000] Accuracy: 99.76%, BalancedAccuracy: 99.74%, GeometricMean: 99.74%, CohenKappa: 99.51%\n",
      "[150,000] Accuracy: 99.68%, BalancedAccuracy: 99.68%, GeometricMean: 99.68%, CohenKappa: 99.35%\n",
      "[200,000] Accuracy: 99.76%, BalancedAccuracy: 99.76%, GeometricMean: 99.76%, CohenKappa: 99.47%\n",
      "[250,000] Accuracy: 99.81%, BalancedAccuracy: 99.80%, GeometricMean: 99.80%, CohenKappa: 99.52%\n",
      "[300,000] Accuracy: 99.84%, BalancedAccuracy: 99.82%, GeometricMean: 99.82%, CohenKappa: 99.55%\n",
      "[350,000] Accuracy: 99.84%, BalancedAccuracy: 99.81%, GeometricMean: 99.81%, CohenKappa: 99.55%\n",
      "[400,000] Accuracy: 99.85%, BalancedAccuracy: 99.80%, GeometricMean: 99.80%, CohenKappa: 99.53%\n",
      "[450,000] Accuracy: 99.87%, BalancedAccuracy: 99.81%, GeometricMean: 99.81%, CohenKappa: 99.54%\n"
     ]
    },
    {
     "data": {
      "text/plain": [
       "Accuracy: 99.84%, BalancedAccuracy: 99.79%, GeometricMean: 99.79%, CohenKappa: 99.50%"
      ]
     },
     "execution_count": 7,
     "metadata": {},
     "output_type": "execute_result"
    }
   ],
   "source": [
    "from river.ensemble import AdaptiveRandomForestClassifier\n",
    "\n",
    "model = AdaptiveRandomForestClassifier(n_models=5,nominal_attributes=['protocol_type','service', 'flag'])\n",
    "metrics = Metrics(metrics=[Accuracy(),BalancedAccuracy(),GeometricMean(),CohenKappa()])\n",
    "stream = iter_pandas(X=df[features], y=df['class'])\n",
    "\n",
    "progressive_val_score(dataset=stream,\n",
    "                      model=model,\n",
    "                      metric=metrics,\n",
    "                      print_every=50000)"
   ]
  },
  {
   "cell_type": "markdown",
   "metadata": {},
   "source": [
    "## ADWIN Online Bagging"
   ]
  },
  {
   "cell_type": "code",
   "execution_count": 8,
   "metadata": {},
   "outputs": [
    {
     "name": "stdout",
     "output_type": "stream",
     "text": [
      "[50,000] Accuracy: 99.57%, BalancedAccuracy: 99.22%, GeometricMean: 99.22%, CohenKappa: 98.83%\n",
      "[100,000] Accuracy: 99.20%, BalancedAccuracy: 99.15%, GeometricMean: 99.15%, CohenKappa: 98.37%\n",
      "[150,000] Accuracy: 98.97%, BalancedAccuracy: 99.00%, GeometricMean: 98.99%, CohenKappa: 97.95%\n",
      "[200,000] Accuracy: 99.23%, BalancedAccuracy: 99.27%, GeometricMean: 99.27%, CohenKappa: 98.33%\n",
      "[250,000] Accuracy: 99.38%, BalancedAccuracy: 99.39%, GeometricMean: 99.39%, CohenKappa: 98.49%\n",
      "[300,000] Accuracy: 99.49%, BalancedAccuracy: 99.46%, GeometricMean: 99.46%, CohenKappa: 98.59%\n",
      "[350,000] Accuracy: 99.40%, BalancedAccuracy: 99.32%, GeometricMean: 99.32%, CohenKappa: 98.27%\n",
      "[400,000] Accuracy: 99.39%, BalancedAccuracy: 99.15%, GeometricMean: 99.15%, CohenKappa: 98.07%\n",
      "[450,000] Accuracy: 99.41%, BalancedAccuracy: 99.05%, GeometricMean: 99.05%, CohenKappa: 97.97%\n"
     ]
    },
    {
     "data": {
      "text/plain": [
       "Accuracy: 99.36%, BalancedAccuracy: 99.09%, GeometricMean: 99.09%, CohenKappa: 97.99%"
      ]
     },
     "execution_count": 8,
     "metadata": {},
     "output_type": "execute_result"
    }
   ],
   "source": [
    "from river.ensemble import ADWINBaggingClassifier\n",
    "from river.tree import HoeffdingTreeClassifier\n",
    "\n",
    "model = ADWINBaggingClassifier(model=HoeffdingTreeClassifier(nominal_attributes=['protocol_type','service', 'flag']),\n",
    "                          n_models=5,\n",
    "                          seed=42)\n",
    "metrics = Metrics(metrics=[Accuracy(),BalancedAccuracy(),GeometricMean(),CohenKappa()])\n",
    "stream = iter_pandas(X=df[features], y=df['class'])\n",
    "\n",
    "progressive_val_score(dataset=stream,\n",
    "                      model=model,\n",
    "                      metric=metrics,\n",
    "                      print_every=50000)\n"
   ]
  },
  {
   "cell_type": "markdown",
   "metadata": {},
   "source": [
    "## Leveraging Bagging"
   ]
  },
  {
   "cell_type": "code",
   "execution_count": 10,
   "metadata": {},
   "outputs": [
    {
     "name": "stdout",
     "output_type": "stream",
     "text": [
      "[50,000] Accuracy: 99.69%, BalancedAccuracy: 99.50%, GeometricMean: 99.50%, CohenKappa: 99.16%\n",
      "[100,000] Accuracy: 99.67%, BalancedAccuracy: 99.65%, GeometricMean: 99.65%, CohenKappa: 99.33%\n",
      "[150,000] Accuracy: 99.47%, BalancedAccuracy: 99.48%, GeometricMean: 99.48%, CohenKappa: 98.94%\n",
      "[200,000] Accuracy: 99.60%, BalancedAccuracy: 99.61%, GeometricMean: 99.61%, CohenKappa: 99.14%\n",
      "[250,000] Accuracy: 99.68%, BalancedAccuracy: 99.67%, GeometricMean: 99.67%, CohenKappa: 99.22%\n",
      "[300,000] Accuracy: 99.74%, BalancedAccuracy: 99.70%, GeometricMean: 99.70%, CohenKappa: 99.27%\n",
      "[350,000] Accuracy: 99.72%, BalancedAccuracy: 99.66%, GeometricMean: 99.66%, CohenKappa: 99.20%\n",
      "[400,000] Accuracy: 99.72%, BalancedAccuracy: 99.64%, GeometricMean: 99.64%, CohenKappa: 99.11%\n",
      "[450,000] Accuracy: 99.75%, BalancedAccuracy: 99.64%, GeometricMean: 99.64%, CohenKappa: 99.12%\n"
     ]
    },
    {
     "data": {
      "text/plain": [
       "Accuracy: 99.73%, BalancedAccuracy: 99.65%, GeometricMean: 99.65%, CohenKappa: 99.16%"
      ]
     },
     "execution_count": 10,
     "metadata": {},
     "output_type": "execute_result"
    }
   ],
   "source": [
    "from river.ensemble import LeveragingBaggingClassifier\n",
    "from river.tree import HoeffdingTreeClassifier\n",
    "\n",
    "model = LeveragingBaggingClassifier(model=HoeffdingTreeClassifier(nominal_attributes=['protocol_type','service', 'flag']),\n",
    "                          n_models=5,\n",
    "                          seed=42)\n",
    "metrics = Metrics(metrics=[Accuracy(),BalancedAccuracy(),GeometricMean(),CohenKappa()])\n",
    "stream = iter_pandas(X=df[features], y=df['class'])\n",
    "\n",
    "progressive_val_score(dataset=stream,\n",
    "                      model=model,\n",
    "                      metric=metrics,\n",
    "                      print_every=50000)"
   ]
  },
  {
   "cell_type": "markdown",
   "metadata": {},
   "source": [
    "## Streaming Random Patches"
   ]
  },
  {
   "cell_type": "code",
   "execution_count": 11,
   "metadata": {},
   "outputs": [
    {
     "name": "stdout",
     "output_type": "stream",
     "text": [
      "[50,000] Accuracy: 99.75%, BalancedAccuracy: 99.51%, GeometricMean: 99.51%, CohenKappa: 99.30%\n",
      "[100,000] Accuracy: 99.64%, BalancedAccuracy: 99.61%, GeometricMean: 99.61%, CohenKappa: 99.27%\n",
      "[150,000] Accuracy: 99.39%, BalancedAccuracy: 99.41%, GeometricMean: 99.41%, CohenKappa: 98.78%\n",
      "[200,000] Accuracy: 99.54%, BalancedAccuracy: 99.57%, GeometricMean: 99.57%, CohenKappa: 99.01%\n",
      "[250,000] Accuracy: 99.64%, BalancedAccuracy: 99.64%, GeometricMean: 99.64%, CohenKappa: 99.11%\n",
      "[300,000] Accuracy: 99.70%, BalancedAccuracy: 99.69%, GeometricMean: 99.69%, CohenKappa: 99.16%\n",
      "[350,000] Accuracy: 99.67%, BalancedAccuracy: 99.63%, GeometricMean: 99.63%, CohenKappa: 99.04%\n",
      "[400,000] Accuracy: 99.69%, BalancedAccuracy: 99.63%, GeometricMean: 99.63%, CohenKappa: 99.03%\n",
      "[450,000] Accuracy: 99.72%, BalancedAccuracy: 99.62%, GeometricMean: 99.62%, CohenKappa: 99.03%\n"
     ]
    },
    {
     "data": {
      "text/plain": [
       "Accuracy: 99.71%, BalancedAccuracy: 99.63%, GeometricMean: 99.63%, CohenKappa: 99.09%"
      ]
     },
     "execution_count": 11,
     "metadata": {},
     "output_type": "execute_result"
    }
   ],
   "source": [
    "from river.ensemble import SRPClassifier\n",
    "from river.tree import HoeffdingTreeClassifier\n",
    "from river.drift import ADWIN\n",
    "\n",
    "model = SRPClassifier(model=HoeffdingTreeClassifier(nominal_attributes=['protocol_type','service', 'flag']),\n",
    "                      n_models=5,\n",
    "                      drift_detector=ADWIN(delta=0.001),\n",
    "                      warning_detector=ADWIN(delta=0.01),\n",
    "                      seed=42)\n",
    "metrics = Metrics(metrics=[Accuracy(),BalancedAccuracy(),GeometricMean(),CohenKappa()])\n",
    "stream = iter_pandas(X=df[features], y=df['class'])\n",
    "\n",
    "progressive_val_score(dataset=stream, \n",
    "                      model=model, \n",
    "                      metric=metrics, \n",
    "                      print_every=50000)"
   ]
  }
 ],
 "metadata": {
  "kernelspec": {
   "display_name": "Python 3 (ipykernel)",
   "language": "python",
   "name": "python3"
  },
  "language_info": {
   "codemirror_mode": {
    "name": "ipython",
    "version": 3
   },
   "file_extension": ".py",
   "mimetype": "text/x-python",
   "name": "python",
   "nbconvert_exporter": "python",
   "pygments_lexer": "ipython3",
   "version": "3.10.2"
  }
 },
 "nbformat": 4,
 "nbformat_minor": 4
}
