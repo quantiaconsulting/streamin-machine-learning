{
 "cells": [
  {
   "cell_type": "markdown",
   "metadata": {},
   "source": [
    "<div style=\"text-align: center; line-height: 0; padding-top: 2px;\">\n",
    "  <img src=\"https://www.quantiaconsulting.com/logos/quantia_logo_orizz.png\" alt=\"Quantia Consulting\" style=\"width: 600px; height: 250px\">\n",
    "</div>"
   ]
  },
  {
   "cell_type": "markdown",
   "metadata": {},
   "source": [
    "# Stream Classification\n",
    "---\n",
    "\n",
    "## `NEWeather` dataset\n",
    "\n",
    "**Description:** The National Oceanic and Atmospheric Administration (NOAA),\n",
    "has compiled a database of weather measurements from over 7,000 weather \n",
    "stations worldwide. Records date back to the mid-1900s. Daily measurements\n",
    "include a variety of features (temperature, pressure, wind speed, etc.) as\n",
    "well as a series of indicators for precipitation and other weather-related\n",
    "events. The `NEweather` dataset contains data from this database, specifically\n",
    "from the Offutt Air Force Base in Bellevue, Nebraska ranging for over 50 years\n",
    "(1949-1999).\n",
    "\n",
    "**Features:** 8 Daily weather measurements\n",
    " \n",
    "|       Attribute      | Description |\n",
    "|:--------------------:|:-----------------------------|\n",
    "| `temp`                   | Temperature\n",
    "| `dew_pnt`                | Dew Point\n",
    "| `sea_lvl_press`          | Sea Level Pressure\n",
    "| `visibility`             | Visibility\n",
    "| `avg_wind_spd`           | Average Wind Speed\n",
    "| `max_sustained_wind_spd` | Maximum Sustained Wind Speed\n",
    "| `max_temp`               | Maximum Temperature\n",
    "| `min_temp`               | Minimum Temperature\n",
    "\n",
    "\n",
    "**Class:** `rain` | 0: no rain, 1: rain\n",
    " \n",
    "**Samples:** 18,159\n"
   ]
  },
  {
   "cell_type": "code",
   "execution_count": 1,
   "metadata": {},
   "outputs": [],
   "source": [
    "import pandas as pd\n",
    "from river.stream import iter_pandas\n",
    "from river.metrics import Rolling,Metrics,Accuracy,BalancedAccuracy,CohenKappa,GeometricMean\n",
    "from river.evaluate import progressive_val_score"
   ]
  },
  {
   "cell_type": "code",
   "execution_count": 2,
   "metadata": {},
   "outputs": [],
   "source": [
    "data = pd.read_csv(\"../datasets/NEweather.csv\")\n",
    "features = data.columns[:-1]"
   ]
  },
  {
   "cell_type": "markdown",
   "metadata": {},
   "source": [
    "In this example, we load the data from a csv file with `pandas.read_csv`, and we use the [iter_pandas](https://riverml.xyz/latest/api/stream/iter-pandas/) utility method to iterate over the `DataFrame`."
   ]
  },
  {
   "cell_type": "code",
   "execution_count": 3,
   "metadata": {},
   "outputs": [],
   "source": [
    "stream = iter_pandas(X=data[features], y=data['rain'])"
   ]
  },
  {
   "cell_type": "markdown",
   "metadata": {},
   "source": [
    "## Naïve Bayes\n",
    "---\n",
    "[GaussianNB](https://riverml.xyz/latest/api/naive-bayes/GaussianNB/) maintains a Gaussian distribution $G_{cf}$ is maintained for each class $c$ and each feature $f$. Each Gaussian is updated using the amount associated with each feature; the details can be be found in proba.Gaussian. The joint log-likelihood is then obtained by summing the log probabilities of each feature associated with each class."
   ]
  },
  {
   "cell_type": "code",
   "execution_count": 4,
   "metadata": {},
   "outputs": [
    {
     "name": "stdout",
     "output_type": "stream",
     "text": [
      "[1,000] Accuracy: 71.27%, BalancedAccuracy: 71.96%, GeometricMean: 71.93%, CohenKappa: 40.19%\n",
      "[2,000] Accuracy: 69.88%, BalancedAccuracy: 70.38%, GeometricMean: 70.37%, CohenKappa: 36.23%\n",
      "[3,000] Accuracy: 68.99%, BalancedAccuracy: 69.64%, GeometricMean: 69.62%, CohenKappa: 34.23%\n",
      "[4,000] Accuracy: 68.82%, BalancedAccuracy: 68.87%, GeometricMean: 68.87%, CohenKappa: 33.48%\n",
      "[5,000] Accuracy: 69.09%, BalancedAccuracy: 67.97%, GeometricMean: 67.92%, CohenKappa: 32.70%\n",
      "[6,000] Accuracy: 69.13%, BalancedAccuracy: 67.87%, GeometricMean: 67.80%, CohenKappa: 32.65%\n",
      "[7,000] Accuracy: 69.15%, BalancedAccuracy: 67.89%, GeometricMean: 67.82%, CohenKappa: 32.62%\n",
      "[8,000] Accuracy: 68.50%, BalancedAccuracy: 67.31%, GeometricMean: 67.25%, CohenKappa: 31.56%\n",
      "[9,000] Accuracy: 68.65%, BalancedAccuracy: 66.69%, GeometricMean: 66.50%, CohenKappa: 30.97%\n",
      "[10,000] Accuracy: 69.04%, BalancedAccuracy: 66.36%, GeometricMean: 66.01%, CohenKappa: 30.75%\n",
      "[11,000] Accuracy: 69.52%, BalancedAccuracy: 66.52%, GeometricMean: 66.11%, CohenKappa: 31.17%\n",
      "[12,000] Accuracy: 69.74%, BalancedAccuracy: 66.57%, GeometricMean: 66.13%, CohenKappa: 31.25%\n",
      "[13,000] Accuracy: 69.79%, BalancedAccuracy: 66.23%, GeometricMean: 65.65%, CohenKappa: 30.97%\n",
      "[14,000] Accuracy: 69.88%, BalancedAccuracy: 66.23%, GeometricMean: 65.57%, CohenKappa: 31.31%\n",
      "[15,000] Accuracy: 70.14%, BalancedAccuracy: 66.38%, GeometricMean: 65.68%, CohenKappa: 31.72%\n",
      "[16,000] Accuracy: 70.05%, BalancedAccuracy: 66.31%, GeometricMean: 65.58%, CohenKappa: 31.79%\n",
      "[17,000] Accuracy: 69.70%, BalancedAccuracy: 66.25%, GeometricMean: 65.61%, CohenKappa: 31.50%\n",
      "[18,000] Accuracy: 69.36%, BalancedAccuracy: 66.36%, GeometricMean: 65.86%, CohenKappa: 31.54%\n"
     ]
    },
    {
     "data": {
      "text/plain": [
       "Accuracy: 69.21%, BalancedAccuracy: 66.27%, GeometricMean: 65.80%, CohenKappa: 31.28%"
      ]
     },
     "execution_count": 4,
     "metadata": {},
     "output_type": "execute_result"
    }
   ],
   "source": [
    "from river.naive_bayes import GaussianNB\n",
    "\n",
    "model = GaussianNB()\n",
    "metrics = Metrics(metrics=[Accuracy(),BalancedAccuracy(),GeometricMean(),CohenKappa()])\n",
    "\n",
    "progressive_val_score(dataset=stream,\n",
    "                      model=model,\n",
    "                      metric=metrics,\n",
    "                      print_every=1000)"
   ]
  },
  {
   "cell_type": "markdown",
   "metadata": {},
   "source": [
    "## K-Nearest Neighbors\n",
    "---\n",
    "[KNN](https://riverml.xyz/latest/api/neighbors/KNNClassifier/) is a non-parametric classification method that keeps track of the last window_size training samples. The predicted class-label for a given query sample is obtained in two steps:\n",
    "\n",
    "- Find the closest n_neighbors to the query sample in the data window. \n",
    "- Aggregate the class-labels of the n_neighbors to define the predicted class for the query sample."
   ]
  },
  {
   "cell_type": "code",
   "execution_count": 5,
   "metadata": {},
   "outputs": [
    {
     "name": "stdout",
     "output_type": "stream",
     "text": [
      "[1,000] Accuracy: 77.18%, BalancedAccuracy: 71.52%, GeometricMean: 69.63%, CohenKappa: 45.32%\n",
      "[2,000] Accuracy: 78.34%, BalancedAccuracy: 71.07%, GeometricMean: 68.71%, CohenKappa: 44.95%\n",
      "[3,000] Accuracy: 78.86%, BalancedAccuracy: 70.49%, GeometricMean: 67.63%, CohenKappa: 44.34%\n",
      "[4,000] Accuracy: 78.29%, BalancedAccuracy: 70.44%, GeometricMean: 67.78%, CohenKappa: 43.93%\n",
      "[5,000] Accuracy: 78.06%, BalancedAccuracy: 70.37%, GeometricMean: 67.77%, CohenKappa: 43.68%\n",
      "[6,000] Accuracy: 77.95%, BalancedAccuracy: 70.53%, GeometricMean: 68.08%, CohenKappa: 43.80%\n",
      "[7,000] Accuracy: 78.24%, BalancedAccuracy: 70.95%, GeometricMean: 68.65%, CohenKappa: 44.55%\n",
      "[8,000] Accuracy: 77.96%, BalancedAccuracy: 70.85%, GeometricMean: 68.60%, CohenKappa: 44.26%\n",
      "[9,000] Accuracy: 78.12%, BalancedAccuracy: 71.08%, GeometricMean: 68.83%, CohenKappa: 44.81%\n",
      "[10,000] Accuracy: 78.16%, BalancedAccuracy: 71.12%, GeometricMean: 68.91%, CohenKappa: 44.84%\n",
      "[11,000] Accuracy: 78.35%, BalancedAccuracy: 71.33%, GeometricMean: 69.19%, CohenKappa: 45.14%\n",
      "[12,000] Accuracy: 78.47%, BalancedAccuracy: 71.21%, GeometricMean: 69.01%, CohenKappa: 44.99%\n",
      "[13,000] Accuracy: 78.36%, BalancedAccuracy: 71.19%, GeometricMean: 68.97%, CohenKappa: 44.98%\n",
      "[14,000] Accuracy: 78.26%, BalancedAccuracy: 71.63%, GeometricMean: 69.60%, CohenKappa: 45.70%\n",
      "[15,000] Accuracy: 78.36%, BalancedAccuracy: 71.83%, GeometricMean: 69.86%, CohenKappa: 46.06%\n",
      "[16,000] Accuracy: 78.24%, BalancedAccuracy: 72.12%, GeometricMean: 70.30%, CohenKappa: 46.52%\n",
      "[17,000] Accuracy: 78.10%, BalancedAccuracy: 72.07%, GeometricMean: 70.28%, CohenKappa: 46.37%\n",
      "[18,000] Accuracy: 77.90%, BalancedAccuracy: 72.07%, GeometricMean: 70.33%, CohenKappa: 46.29%\n"
     ]
    },
    {
     "data": {
      "text/plain": [
       "Accuracy: 77.91%, BalancedAccuracy: 72.06%, GeometricMean: 70.33%, CohenKappa: 46.24%"
      ]
     },
     "execution_count": 5,
     "metadata": {},
     "output_type": "execute_result"
    }
   ],
   "source": [
    "from river.neighbors import KNNClassifier\n",
    "\n",
    "model = KNNClassifier(n_neighbors=5, window_size=1000)\n",
    "metrics = Metrics(metrics=[Accuracy(),BalancedAccuracy(),GeometricMean(),CohenKappa()])\n",
    "stream = iter_pandas(X=data[features], y=data['rain'])\n",
    "\n",
    "progressive_val_score(dataset=stream,\n",
    "                      model=model,\n",
    "                      metric=metrics,\n",
    "                      print_every=1000)"
   ]
  },
  {
   "cell_type": "markdown",
   "metadata": {},
   "source": [
    "## Hoeffding Tree\n",
    "---\n",
    "\n",
    "[Hoeffding Tree](https://riverml.xyz/latest/api/tree/HoeffdingTreeClassifier/) "
   ]
  },
  {
   "cell_type": "markdown",
   "metadata": {},
   "source": [
    "Tree-based models are popular due to their interpretability. They use a tree data structure to model the data. When a sample arrives, it traverses the tree until it reaches a leaf node. Internal nodes define the path for a data sample based on the values of its features. Leaf nodes are models that provide predictions for unlabeled-samples and can update their internal state using the labels from labeled samples."
   ]
  },
  {
   "cell_type": "code",
   "execution_count": 6,
   "metadata": {},
   "outputs": [
    {
     "name": "stdout",
     "output_type": "stream",
     "text": [
      "[1,000] Accuracy: 70.87%, BalancedAccuracy: 71.11%, GeometricMean: 71.10%, CohenKappa: 38.92%\n",
      "[2,000] Accuracy: 69.73%, BalancedAccuracy: 68.12%, GeometricMean: 68.01%, CohenKappa: 33.45%\n",
      "[3,000] Accuracy: 70.89%, BalancedAccuracy: 63.00%, GeometricMean: 60.16%, CohenKappa: 26.85%\n",
      "[4,000] Accuracy: 71.29%, BalancedAccuracy: 61.85%, GeometricMean: 57.40%, CohenKappa: 25.57%\n",
      "[5,000] Accuracy: 71.79%, BalancedAccuracy: 62.23%, GeometricMean: 57.58%, CohenKappa: 26.59%\n",
      "[6,000] Accuracy: 72.13%, BalancedAccuracy: 62.56%, GeometricMean: 57.88%, CohenKappa: 27.40%\n",
      "[7,000] Accuracy: 72.82%, BalancedAccuracy: 64.11%, GeometricMean: 60.42%, CohenKappa: 30.23%\n",
      "[8,000] Accuracy: 72.58%, BalancedAccuracy: 64.31%, GeometricMean: 60.90%, CohenKappa: 30.45%\n",
      "[9,000] Accuracy: 72.80%, BalancedAccuracy: 63.98%, GeometricMean: 59.98%, CohenKappa: 30.21%\n",
      "[10,000] Accuracy: 72.85%, BalancedAccuracy: 63.64%, GeometricMean: 59.32%, CohenKappa: 29.69%\n",
      "[11,000] Accuracy: 73.30%, BalancedAccuracy: 63.81%, GeometricMean: 59.37%, CohenKappa: 30.17%\n",
      "[12,000] Accuracy: 73.55%, BalancedAccuracy: 63.96%, GeometricMean: 59.58%, CohenKappa: 30.46%\n",
      "[13,000] Accuracy: 73.80%, BalancedAccuracy: 64.28%, GeometricMean: 59.85%, CohenKappa: 31.27%\n",
      "[14,000] Accuracy: 73.73%, BalancedAccuracy: 64.51%, GeometricMean: 60.07%, CohenKappa: 31.84%\n",
      "[15,000] Accuracy: 73.99%, BalancedAccuracy: 64.80%, GeometricMean: 60.39%, CohenKappa: 32.51%\n",
      "[16,000] Accuracy: 74.03%, BalancedAccuracy: 65.36%, GeometricMean: 61.24%, CohenKappa: 33.60%\n",
      "[17,000] Accuracy: 73.93%, BalancedAccuracy: 65.82%, GeometricMean: 62.22%, CohenKappa: 34.24%\n",
      "[18,000] Accuracy: 73.58%, BalancedAccuracy: 65.92%, GeometricMean: 62.60%, CohenKappa: 34.20%\n"
     ]
    },
    {
     "data": {
      "text/plain": [
       "Accuracy: 73.55%, BalancedAccuracy: 65.87%, GeometricMean: 62.56%, CohenKappa: 34.07%"
      ]
     },
     "execution_count": 6,
     "metadata": {},
     "output_type": "execute_result"
    }
   ],
   "source": [
    "from river.tree import HoeffdingTreeClassifier\n",
    "\n",
    "model = HoeffdingTreeClassifier()\n",
    "metrics = Metrics(metrics=[Accuracy(),BalancedAccuracy(),GeometricMean(),CohenKappa()])\n",
    "stream = iter_pandas(X=data[features], y=data['rain'])\n",
    "\n",
    "progressive_val_score(dataset=stream,\n",
    "                      model=model,\n",
    "                      metric=metrics,\n",
    "                      print_every=1000)"
   ]
  },
  {
   "cell_type": "markdown",
   "metadata": {},
   "source": [
    "## Hoeffding Adaptive Tree\n",
    "---\n",
    "The [HAT](https://riverml.xyz/latest/api/tree/HoeffdingAdaptiveTreeClassifier/) model uses `ADWIN` to detect changes. If change is detected in a given branch, an alternate branch is created and eventually replaces the original branch if it shows better performance on new data."
   ]
  },
  {
   "cell_type": "code",
   "execution_count": 7,
   "metadata": {},
   "outputs": [
    {
     "name": "stdout",
     "output_type": "stream",
     "text": [
      "[1,000] Accuracy: 68.37%, BalancedAccuracy: 65.29%, GeometricMean: 64.69%, CohenKappa: 29.83%\n",
      "[2,000] Accuracy: 69.48%, BalancedAccuracy: 63.36%, GeometricMean: 61.49%, CohenKappa: 26.88%\n",
      "[3,000] Accuracy: 71.09%, BalancedAccuracy: 60.64%, GeometricMean: 55.35%, CohenKappa: 23.23%\n",
      "[4,000] Accuracy: 72.02%, BalancedAccuracy: 62.12%, GeometricMean: 57.23%, CohenKappa: 26.49%\n",
      "[5,000] Accuracy: 72.85%, BalancedAccuracy: 63.23%, GeometricMean: 58.61%, CohenKappa: 28.94%\n",
      "[6,000] Accuracy: 73.33%, BalancedAccuracy: 64.41%, GeometricMean: 60.49%, CohenKappa: 31.15%\n",
      "[7,000] Accuracy: 73.91%, BalancedAccuracy: 65.10%, GeometricMean: 61.40%, CohenKappa: 32.57%\n",
      "[8,000] Accuracy: 73.51%, BalancedAccuracy: 64.66%, GeometricMean: 60.77%, CohenKappa: 31.71%\n",
      "[9,000] Accuracy: 73.81%, BalancedAccuracy: 64.68%, GeometricMean: 60.44%, CohenKappa: 32.08%\n",
      "[10,000] Accuracy: 73.85%, BalancedAccuracy: 64.78%, GeometricMean: 60.66%, CohenKappa: 32.20%\n",
      "[11,000] Accuracy: 74.03%, BalancedAccuracy: 64.61%, GeometricMean: 60.30%, CohenKappa: 31.98%\n",
      "[12,000] Accuracy: 74.16%, BalancedAccuracy: 64.38%, GeometricMean: 59.86%, CohenKappa: 31.59%\n",
      "[13,000] Accuracy: 74.14%, BalancedAccuracy: 64.35%, GeometricMean: 59.66%, CohenKappa: 31.67%\n",
      "[14,000] Accuracy: 73.96%, BalancedAccuracy: 64.67%, GeometricMean: 60.17%, CohenKappa: 32.28%\n",
      "[15,000] Accuracy: 74.28%, BalancedAccuracy: 65.20%, GeometricMean: 60.94%, CohenKappa: 33.35%\n",
      "[16,000] Accuracy: 74.34%, BalancedAccuracy: 65.81%, GeometricMean: 61.87%, CohenKappa: 34.52%\n",
      "[17,000] Accuracy: 74.12%, BalancedAccuracy: 66.31%, GeometricMean: 62.99%, CohenKappa: 35.08%\n",
      "[18,000] Accuracy: 73.69%, BalancedAccuracy: 66.61%, GeometricMean: 63.81%, CohenKappa: 35.25%\n"
     ]
    },
    {
     "data": {
      "text/plain": [
       "Accuracy: 73.73%, BalancedAccuracy: 66.59%, GeometricMean: 63.77%, CohenKappa: 35.22%"
      ]
     },
     "execution_count": 7,
     "metadata": {},
     "output_type": "execute_result"
    }
   ],
   "source": [
    "from river.tree import HoeffdingAdaptiveTreeClassifier\n",
    "\n",
    "model = HoeffdingAdaptiveTreeClassifier(seed=42)\n",
    "metrics = Metrics(metrics=[Accuracy(),BalancedAccuracy(),GeometricMean(),CohenKappa()])\n",
    "stream = iter_pandas(X=data[features], y=data['rain'])\n",
    "\n",
    "progressive_val_score(dataset=stream, \n",
    "                      model=model, \n",
    "                      metric=metrics, \n",
    "                      print_every=1000)"
   ]
  },
  {
   "cell_type": "markdown",
   "metadata": {},
   "source": [
    "## Concept Drift Impact\n",
    "\n",
    "Concept drift can negatively impact learning methods if not properly handled. Multiple real-world applications suffer **model degradation** as the models can not adapt to changes in the data.\n",
    "\n",
    "---\n",
    "## `AGRAWAL` dataset\n",
    "\n",
    "We will load the data from a csv file. The data was generated using the `AGRAWAL` data generator with 3 **gradual drifts** at the 5k, 10k, and 15k marks. It contains 9 features, 6 numeric and 3 categorical.\n",
    "\n",
    "There are 10 functions for generating binary class labels from the features. These functions determine whether a **loan** should be approved.\n",
    "\n",
    "| Feature    | Description            | Values                                                                |\n",
    "|------------|------------------------|-----------------------------------------------------------------------|\n",
    "| `salary`     | salary                 | uniformly distributed from 20k to 150k                                |\n",
    "| `commission` | commission             | if (salary <   75k) then 0 else uniformly distributed from 10k to 75k |\n",
    "| `age`        | age                    | uniformly distributed from 20 to 80                                   |\n",
    "| `elevel`     | education level        | uniformly chosen from 0 to 4                                          |\n",
    "| `car`        | car maker              | uniformly chosen from 1 to 20                                         |\n",
    "| `zipcode`    | zip code of the town   | uniformly chosen from 0 to 8                                          |\n",
    "| `hvalue`     | value of the house     | uniformly distributed from 50k x zipcode to 100k x zipcode            |\n",
    "| `hyears`     | years house owned      | uniformly distributed from 1 to 30                                    |\n",
    "| `loan`       | total loan amount      | uniformly distributed from 0 to 500k                                  |\n",
    "\n",
    "**Class:** `y` | 0: no loan, 1: loan\n",
    " \n",
    "**Samples:** 20,000\n",
    "\n",
    "`elevel`, `car`, and `zipcode` are categorical features."
   ]
  },
  {
   "cell_type": "code",
   "execution_count": 8,
   "metadata": {},
   "outputs": [],
   "source": [
    "data = pd.read_csv(\"../datasets/agr_a_20k.csv\")\n",
    "features = data.columns[:-1]"
   ]
  },
  {
   "cell_type": "markdown",
   "metadata": {},
   "source": [
    "## Naïve Bayes"
   ]
  },
  {
   "cell_type": "code",
   "execution_count": 9,
   "metadata": {},
   "outputs": [
    {
     "name": "stdout",
     "output_type": "stream",
     "text": [
      "[500] Accuracy: 81.76%, BalancedAccuracy: 74.69%, GeometricMean: 71.56%, CohenKappa: 54.66%\t(rolling 500)\n",
      "[1,000] Accuracy: 86.20%, BalancedAccuracy: 79.37%, GeometricMean: 76.72%, CohenKappa: 65.37%\t(rolling 500)\n",
      "[1,500] Accuracy: 87.80%, BalancedAccuracy: 82.87%, GeometricMean: 81.07%, CohenKappa: 71.19%\t(rolling 500)\n",
      "[2,000] Accuracy: 89.40%, BalancedAccuracy: 84.41%, GeometricMean: 82.96%, CohenKappa: 74.45%\t(rolling 500)\n",
      "[2,500] Accuracy: 89.80%, BalancedAccuracy: 84.49%, GeometricMean: 83.16%, CohenKappa: 74.70%\t(rolling 500)\n",
      "[3,000] Accuracy: 87.00%, BalancedAccuracy: 80.54%, GeometricMean: 78.15%, CohenKappa: 67.64%\t(rolling 500)\n",
      "[3,500] Accuracy: 87.60%, BalancedAccuracy: 79.87%, GeometricMean: 77.29%, CohenKappa: 67.25%\t(rolling 500)\n",
      "[4,000] Accuracy: 90.80%, BalancedAccuracy: 85.44%, GeometricMean: 84.19%, CohenKappa: 76.91%\t(rolling 500)\n",
      "[4,500] Accuracy: 87.00%, BalancedAccuracy: 80.91%, GeometricMean: 78.70%, CohenKappa: 68.03%\t(rolling 500)\n",
      "[5,000] Accuracy: 86.80%, BalancedAccuracy: 80.98%, GeometricMean: 78.86%, CohenKappa: 67.87%\t(rolling 500)\n",
      "[5,500] Accuracy: 47.60%, BalancedAccuracy: 52.32%, GeometricMean: 44.93%, CohenKappa: 4.11%\t(rolling 500)\n",
      "[6,000] Accuracy: 44.20%, BalancedAccuracy: 49.70%, GeometricMean: 42.39%, CohenKappa: -0.52%\t(rolling 500)\n",
      "[6,500] Accuracy: 39.00%, BalancedAccuracy: 45.61%, GeometricMean: 38.12%, CohenKappa: -7.17%\t(rolling 500)\n",
      "[7,000] Accuracy: 41.00%, BalancedAccuracy: 46.13%, GeometricMean: 39.54%, CohenKappa: -6.66%\t(rolling 500)\n",
      "[7,500] Accuracy: 46.00%, BalancedAccuracy: 50.58%, GeometricMean: 44.03%, CohenKappa: 1.03%\t(rolling 500)\n",
      "[8,000] Accuracy: 42.00%, BalancedAccuracy: 47.00%, GeometricMean: 42.61%, CohenKappa: -5.09%\t(rolling 500)\n",
      "[8,500] Accuracy: 42.20%, BalancedAccuracy: 47.63%, GeometricMean: 42.65%, CohenKappa: -3.99%\t(rolling 500)\n",
      "[9,000] Accuracy: 48.00%, BalancedAccuracy: 52.65%, GeometricMean: 49.31%, CohenKappa: 4.56%\t(rolling 500)\n",
      "[9,500] Accuracy: 51.00%, BalancedAccuracy: 54.13%, GeometricMean: 52.00%, CohenKappa: 7.47%\t(rolling 500)\n",
      "[10,000] Accuracy: 49.80%, BalancedAccuracy: 52.19%, GeometricMean: 51.05%, CohenKappa: 3.99%\t(rolling 500)\n",
      "[10,500] Accuracy: 70.40%, BalancedAccuracy: 67.78%, GeometricMean: 67.32%, CohenKappa: 34.83%\t(rolling 500)\n",
      "[11,000] Accuracy: 73.20%, BalancedAccuracy: 70.09%, GeometricMean: 69.48%, CohenKappa: 39.94%\t(rolling 500)\n",
      "[11,500] Accuracy: 71.00%, BalancedAccuracy: 68.64%, GeometricMean: 68.14%, CohenKappa: 37.14%\t(rolling 500)\n",
      "[12,000] Accuracy: 75.60%, BalancedAccuracy: 73.03%, GeometricMean: 72.59%, CohenKappa: 45.79%\t(rolling 500)\n",
      "[12,500] Accuracy: 76.00%, BalancedAccuracy: 71.74%, GeometricMean: 70.69%, CohenKappa: 44.33%\t(rolling 500)\n",
      "[13,000] Accuracy: 75.80%, BalancedAccuracy: 72.56%, GeometricMean: 71.93%, CohenKappa: 45.19%\t(rolling 500)\n",
      "[13,500] Accuracy: 79.60%, BalancedAccuracy: 73.97%, GeometricMean: 72.54%, CohenKappa: 49.96%\t(rolling 500)\n",
      "[14,000] Accuracy: 78.20%, BalancedAccuracy: 73.32%, GeometricMean: 72.03%, CohenKappa: 48.30%\t(rolling 500)\n",
      "[14,500] Accuracy: 75.20%, BalancedAccuracy: 70.04%, GeometricMean: 68.29%, CohenKappa: 41.82%\t(rolling 500)\n",
      "[15,000] Accuracy: 78.80%, BalancedAccuracy: 75.52%, GeometricMean: 74.72%, CohenKappa: 52.27%\t(rolling 500)\n",
      "[15,500] Accuracy: 55.60%, BalancedAccuracy: 59.99%, GeometricMean: 54.29%, CohenKappa: 17.92%\t(rolling 500)\n",
      "[16,000] Accuracy: 52.20%, BalancedAccuracy: 56.71%, GeometricMean: 51.62%, CohenKappa: 11.91%\t(rolling 500)\n",
      "[16,500] Accuracy: 53.20%, BalancedAccuracy: 58.80%, GeometricMean: 55.58%, CohenKappa: 14.67%\t(rolling 500)\n",
      "[17,000] Accuracy: 53.60%, BalancedAccuracy: 57.93%, GeometricMean: 55.15%, CohenKappa: 13.84%\t(rolling 500)\n",
      "[17,500] Accuracy: 57.00%, BalancedAccuracy: 60.58%, GeometricMean: 57.64%, CohenKappa: 19.15%\t(rolling 500)\n",
      "[18,000] Accuracy: 58.00%, BalancedAccuracy: 61.30%, GeometricMean: 59.93%, CohenKappa: 20.09%\t(rolling 500)\n",
      "[18,500] Accuracy: 53.60%, BalancedAccuracy: 58.13%, GeometricMean: 56.24%, CohenKappa: 13.69%\t(rolling 500)\n",
      "[19,000] Accuracy: 58.20%, BalancedAccuracy: 60.94%, GeometricMean: 59.70%, CohenKappa: 19.92%\t(rolling 500)\n",
      "[19,500] Accuracy: 59.60%, BalancedAccuracy: 63.01%, GeometricMean: 61.59%, CohenKappa: 23.14%\t(rolling 500)\n",
      "[20,000] Accuracy: 57.80%, BalancedAccuracy: 60.46%, GeometricMean: 59.40%, CohenKappa: 18.97%\t(rolling 500)\n"
     ]
    },
    {
     "data": {
      "text/plain": [
       "Accuracy: 57.80%, BalancedAccuracy: 60.46%, GeometricMean: 59.40%, CohenKappa: 18.97%\t(rolling 500)"
      ]
     },
     "execution_count": 9,
     "metadata": {},
     "output_type": "execute_result"
    }
   ],
   "source": [
    "from river.naive_bayes import GaussianNB\n",
    "\n",
    "model = GaussianNB()\n",
    "metrics = Rolling(metric=Metrics(metrics=[Accuracy(),BalancedAccuracy(),GeometricMean(),CohenKappa()]),window_size=500)\n",
    "stream = iter_pandas(X=data[features], y=data['class'])\n",
    "\n",
    "progressive_val_score(dataset=stream,\n",
    "                      model=model,\n",
    "                      metric=metrics,\n",
    "                      print_every=500)"
   ]
  },
  {
   "cell_type": "markdown",
   "metadata": {},
   "source": [
    "## KNN with ADWIN\n",
    "---\n",
    "\n",
    "This classifier is an improvement from the regular kNN method, as it is resistant to concept drift. It uses the ADWIN change detector to decide which samples to keep and which ones to forget, and by doing so it regulates the sample window size."
   ]
  },
  {
   "cell_type": "code",
   "execution_count": 11,
   "metadata": {},
   "outputs": [
    {
     "name": "stdout",
     "output_type": "stream",
     "text": [
      "[500] Accuracy: 58.92%, BalancedAccuracy: 50.82%, GeometricMean: 44.54%, CohenKappa: 1.76%\t(rolling 500)\n",
      "[1,000] Accuracy: 57.40%, BalancedAccuracy: 48.27%, GeometricMean: 39.88%, CohenKappa: -3.74%\t(rolling 500)\n",
      "[1,500] Accuracy: 58.00%, BalancedAccuracy: 50.18%, GeometricMean: 42.20%, CohenKappa: 0.39%\t(rolling 500)\n",
      "[2,000] Accuracy: 58.00%, BalancedAccuracy: 50.93%, GeometricMean: 45.88%, CohenKappa: 1.94%\t(rolling 500)\n",
      "[2,500] Accuracy: 61.00%, BalancedAccuracy: 51.18%, GeometricMean: 43.12%, CohenKappa: 2.58%\t(rolling 500)\n",
      "[3,000] Accuracy: 59.00%, BalancedAccuracy: 49.97%, GeometricMean: 41.91%, CohenKappa: -0.07%\t(rolling 500)\n",
      "[3,500] Accuracy: 63.00%, BalancedAccuracy: 52.91%, GeometricMean: 45.92%, CohenKappa: 6.28%\t(rolling 500)\n",
      "[4,000] Accuracy: 61.20%, BalancedAccuracy: 50.19%, GeometricMean: 40.28%, CohenKappa: 0.41%\t(rolling 500)\n",
      "[4,500] Accuracy: 61.00%, BalancedAccuracy: 51.86%, GeometricMean: 43.53%, CohenKappa: 4.10%\t(rolling 500)\n",
      "[5,000] Accuracy: 62.40%, BalancedAccuracy: 55.00%, GeometricMean: 49.76%, CohenKappa: 10.69%\t(rolling 500)\n",
      "[5,500] Accuracy: 53.60%, BalancedAccuracy: 56.40%, GeometricMean: 54.11%, CohenKappa: 11.80%\t(rolling 500)\n",
      "[6,000] Accuracy: 60.00%, BalancedAccuracy: 59.27%, GeometricMean: 59.17%, CohenKappa: 18.13%\t(rolling 500)\n",
      "[6,500] Accuracy: 64.60%, BalancedAccuracy: 62.23%, GeometricMean: 61.58%, CohenKappa: 24.33%\t(rolling 500)\n",
      "[7,000] Accuracy: 69.60%, BalancedAccuracy: 67.66%, GeometricMean: 67.06%, CohenKappa: 35.64%\t(rolling 500)\n",
      "[7,500] Accuracy: 65.60%, BalancedAccuracy: 64.39%, GeometricMean: 64.06%, CohenKappa: 28.79%\t(rolling 500)\n",
      "[8,000] Accuracy: 67.40%, BalancedAccuracy: 64.60%, GeometricMean: 63.63%, CohenKappa: 29.54%\t(rolling 500)\n",
      "[8,500] Accuracy: 68.00%, BalancedAccuracy: 66.08%, GeometricMean: 65.66%, CohenKappa: 31.96%\t(rolling 500)\n",
      "[9,000] Accuracy: 67.00%, BalancedAccuracy: 64.28%, GeometricMean: 63.36%, CohenKappa: 28.84%\t(rolling 500)\n",
      "[9,500] Accuracy: 65.00%, BalancedAccuracy: 62.85%, GeometricMean: 62.00%, CohenKappa: 26.00%\t(rolling 500)\n",
      "[10,000] Accuracy: 65.60%, BalancedAccuracy: 63.11%, GeometricMean: 62.09%, CohenKappa: 26.61%\t(rolling 500)\n",
      "[10,500] Accuracy: 45.60%, BalancedAccuracy: 45.88%, GeometricMean: 45.87%, CohenKappa: -7.23%\t(rolling 500)\n",
      "[11,000] Accuracy: 55.20%, BalancedAccuracy: 50.10%, GeometricMean: 47.75%, CohenKappa: 0.21%\t(rolling 500)\n",
      "[11,500] Accuracy: 58.00%, BalancedAccuracy: 50.36%, GeometricMean: 42.58%, CohenKappa: 0.78%\t(rolling 500)\n",
      "[12,000] Accuracy: 58.20%, BalancedAccuracy: 50.91%, GeometricMean: 45.66%, CohenKappa: 1.91%\t(rolling 500)\n",
      "[12,500] Accuracy: 60.60%, BalancedAccuracy: 50.97%, GeometricMean: 42.82%, CohenKappa: 2.13%\t(rolling 500)\n",
      "[13,000] Accuracy: 59.00%, BalancedAccuracy: 49.87%, GeometricMean: 42.03%, CohenKappa: -0.27%\t(rolling 500)\n",
      "[13,500] Accuracy: 63.20%, BalancedAccuracy: 53.02%, GeometricMean: 46.08%, CohenKappa: 6.52%\t(rolling 500)\n",
      "[14,000] Accuracy: 61.00%, BalancedAccuracy: 50.20%, GeometricMean: 40.01%, CohenKappa: 0.45%\t(rolling 500)\n",
      "[14,500] Accuracy: 61.40%, BalancedAccuracy: 52.22%, GeometricMean: 44.28%, CohenKappa: 4.86%\t(rolling 500)\n",
      "[15,000] Accuracy: 61.60%, BalancedAccuracy: 54.51%, GeometricMean: 49.11%, CohenKappa: 9.65%\t(rolling 500)\n",
      "[15,500] Accuracy: 57.40%, BalancedAccuracy: 60.18%, GeometricMean: 57.97%, CohenKappa: 18.82%\t(rolling 500)\n",
      "[16,000] Accuracy: 72.60%, BalancedAccuracy: 72.15%, GeometricMean: 72.11%, CohenKappa: 43.78%\t(rolling 500)\n",
      "[16,500] Accuracy: 76.60%, BalancedAccuracy: 75.76%, GeometricMean: 75.70%, CohenKappa: 50.17%\t(rolling 500)\n",
      "[17,000] Accuracy: 78.80%, BalancedAccuracy: 77.67%, GeometricMean: 77.53%, CohenKappa: 55.10%\t(rolling 500)\n",
      "[17,500] Accuracy: 77.00%, BalancedAccuracy: 76.16%, GeometricMean: 76.03%, CohenKappa: 52.28%\t(rolling 500)\n",
      "[18,000] Accuracy: 78.60%, BalancedAccuracy: 76.61%, GeometricMean: 76.21%, CohenKappa: 53.74%\t(rolling 500)\n",
      "[18,500] Accuracy: 75.20%, BalancedAccuracy: 73.69%, GeometricMean: 73.53%, CohenKappa: 46.37%\t(rolling 500)\n",
      "[19,000] Accuracy: 78.20%, BalancedAccuracy: 76.44%, GeometricMean: 76.03%, CohenKappa: 53.53%\t(rolling 500)\n",
      "[19,500] Accuracy: 78.20%, BalancedAccuracy: 76.73%, GeometricMean: 76.51%, CohenKappa: 53.39%\t(rolling 500)\n",
      "[20,000] Accuracy: 73.60%, BalancedAccuracy: 71.44%, GeometricMean: 70.86%, CohenKappa: 43.41%\t(rolling 500)\n"
     ]
    },
    {
     "data": {
      "text/plain": [
       "Accuracy: 73.60%, BalancedAccuracy: 71.44%, GeometricMean: 70.86%, CohenKappa: 43.41%\t(rolling 500)"
      ]
     },
     "execution_count": 11,
     "metadata": {},
     "output_type": "execute_result"
    }
   ],
   "source": [
    "from river.neighbors import KNNADWINClassifier\n",
    "from river import compose\n",
    "\n",
    "model = (\n",
    "    compose.Discard('elevel', 'car', 'zipcode') |\n",
    "    KNNADWINClassifier(n_neighbors=5, window_size=1000)\n",
    ")\n",
    "metrics = Rolling(metric=Metrics(metrics=[Accuracy(),BalancedAccuracy(),GeometricMean(),CohenKappa()]),window_size=500)\n",
    "stream = iter_pandas(X=data[features], y=data['class'])\n",
    "\n",
    "progressive_val_score(dataset=stream,\n",
    "                      model=model,\n",
    "                      metric=metrics,\n",
    "                      print_every=500)"
   ]
  },
  {
   "cell_type": "markdown",
   "metadata": {},
   "source": [
    "## Hoeffding Tree"
   ]
  },
  {
   "cell_type": "code",
   "execution_count": 12,
   "metadata": {},
   "outputs": [
    {
     "name": "stdout",
     "output_type": "stream",
     "text": [
      "[500] Accuracy: 79.76%, BalancedAccuracy: 72.89%, GeometricMean: 69.86%, CohenKappa: 50.18%\t(rolling 500)\n",
      "[1,000] Accuracy: 83.60%, BalancedAccuracy: 75.91%, GeometricMean: 72.37%, CohenKappa: 58.36%\t(rolling 500)\n",
      "[1,500] Accuracy: 78.80%, BalancedAccuracy: 76.25%, GeometricMean: 75.74%, CohenKappa: 53.18%\t(rolling 500)\n",
      "[2,000] Accuracy: 87.00%, BalancedAccuracy: 90.15%, GeometricMean: 89.61%, CohenKappa: 73.49%\t(rolling 500)\n",
      "[2,500] Accuracy: 83.20%, BalancedAccuracy: 87.61%, GeometricMean: 86.73%, CohenKappa: 66.16%\t(rolling 500)\n",
      "[3,000] Accuracy: 88.60%, BalancedAccuracy: 91.44%, GeometricMean: 91.04%, CohenKappa: 76.38%\t(rolling 500)\n",
      "[3,500] Accuracy: 89.00%, BalancedAccuracy: 91.51%, GeometricMean: 91.28%, CohenKappa: 76.29%\t(rolling 500)\n",
      "[4,000] Accuracy: 91.40%, BalancedAccuracy: 92.69%, GeometricMean: 92.63%, CohenKappa: 81.10%\t(rolling 500)\n",
      "[4,500] Accuracy: 89.80%, BalancedAccuracy: 91.43%, GeometricMean: 91.29%, CohenKappa: 78.43%\t(rolling 500)\n",
      "[5,000] Accuracy: 90.80%, BalancedAccuracy: 92.17%, GeometricMean: 92.07%, CohenKappa: 80.49%\t(rolling 500)\n",
      "[5,500] Accuracy: 49.40%, BalancedAccuracy: 50.87%, GeometricMean: 50.18%, CohenKappa: 1.64%\t(rolling 500)\n",
      "[6,000] Accuracy: 50.20%, BalancedAccuracy: 51.90%, GeometricMean: 51.28%, CohenKappa: 3.51%\t(rolling 500)\n",
      "[6,500] Accuracy: 53.00%, BalancedAccuracy: 53.51%, GeometricMean: 53.47%, CohenKappa: 6.49%\t(rolling 500)\n",
      "[7,000] Accuracy: 53.60%, BalancedAccuracy: 53.69%, GeometricMean: 53.68%, CohenKappa: 7.04%\t(rolling 500)\n",
      "[7,500] Accuracy: 57.80%, BalancedAccuracy: 57.73%, GeometricMean: 57.73%, CohenKappa: 15.04%\t(rolling 500)\n",
      "[8,000] Accuracy: 59.80%, BalancedAccuracy: 58.31%, GeometricMean: 58.01%, CohenKappa: 16.22%\t(rolling 500)\n",
      "[8,500] Accuracy: 64.00%, BalancedAccuracy: 65.64%, GeometricMean: 65.33%, CohenKappa: 28.87%\t(rolling 500)\n",
      "[9,000] Accuracy: 75.80%, BalancedAccuracy: 78.52%, GeometricMean: 77.77%, CohenKappa: 52.46%\t(rolling 500)\n",
      "[9,500] Accuracy: 76.00%, BalancedAccuracy: 77.18%, GeometricMean: 76.97%, CohenKappa: 52.00%\t(rolling 500)\n",
      "[10,000] Accuracy: 77.40%, BalancedAccuracy: 78.89%, GeometricMean: 78.60%, CohenKappa: 54.88%\t(rolling 500)\n",
      "[10,500] Accuracy: 64.00%, BalancedAccuracy: 64.02%, GeometricMean: 64.02%, CohenKappa: 25.73%\t(rolling 500)\n",
      "[11,000] Accuracy: 67.40%, BalancedAccuracy: 72.57%, GeometricMean: 70.92%, CohenKappa: 38.05%\t(rolling 500)\n",
      "[11,500] Accuracy: 72.80%, BalancedAccuracy: 78.82%, GeometricMean: 75.92%, CohenKappa: 49.34%\t(rolling 500)\n",
      "[12,000] Accuracy: 73.80%, BalancedAccuracy: 80.21%, GeometricMean: 77.73%, CohenKappa: 50.79%\t(rolling 500)\n",
      "[12,500] Accuracy: 76.40%, BalancedAccuracy: 82.49%, GeometricMean: 80.61%, CohenKappa: 54.75%\t(rolling 500)\n",
      "[13,000] Accuracy: 80.40%, BalancedAccuracy: 85.37%, GeometricMean: 84.11%, CohenKappa: 61.48%\t(rolling 500)\n",
      "[13,500] Accuracy: 82.80%, BalancedAccuracy: 87.61%, GeometricMean: 86.73%, CohenKappa: 65.00%\t(rolling 500)\n",
      "[14,000] Accuracy: 83.60%, BalancedAccuracy: 87.91%, GeometricMean: 87.07%, CohenKappa: 66.87%\t(rolling 500)\n",
      "[14,500] Accuracy: 84.40%, BalancedAccuracy: 88.29%, GeometricMean: 87.51%, CohenKappa: 68.59%\t(rolling 500)\n",
      "[15,000] Accuracy: 85.40%, BalancedAccuracy: 88.37%, GeometricMean: 87.82%, CohenKappa: 70.52%\t(rolling 500)\n",
      "[15,500] Accuracy: 50.60%, BalancedAccuracy: 50.76%, GeometricMean: 50.75%, CohenKappa: 1.47%\t(rolling 500)\n",
      "[16,000] Accuracy: 54.20%, BalancedAccuracy: 55.20%, GeometricMean: 54.95%, CohenKappa: 9.85%\t(rolling 500)\n",
      "[16,500] Accuracy: 57.60%, BalancedAccuracy: 57.22%, GeometricMean: 57.21%, CohenKappa: 13.48%\t(rolling 500)\n",
      "[17,000] Accuracy: 57.00%, BalancedAccuracy: 55.99%, GeometricMean: 55.84%, CohenKappa: 11.58%\t(rolling 500)\n",
      "[17,500] Accuracy: 63.20%, BalancedAccuracy: 62.51%, GeometricMean: 62.41%, CohenKappa: 24.66%\t(rolling 500)\n",
      "[18,000] Accuracy: 66.60%, BalancedAccuracy: 64.20%, GeometricMean: 63.52%, CohenKappa: 28.44%\t(rolling 500)\n",
      "[18,500] Accuracy: 63.80%, BalancedAccuracy: 61.30%, GeometricMean: 60.76%, CohenKappa: 22.03%\t(rolling 500)\n",
      "[19,000] Accuracy: 69.00%, BalancedAccuracy: 66.65%, GeometricMean: 65.83%, CohenKappa: 33.79%\t(rolling 500)\n",
      "[19,500] Accuracy: 69.00%, BalancedAccuracy: 66.55%, GeometricMean: 65.86%, CohenKappa: 33.29%\t(rolling 500)\n",
      "[20,000] Accuracy: 67.20%, BalancedAccuracy: 66.57%, GeometricMean: 66.51%, CohenKappa: 32.29%\t(rolling 500)\n"
     ]
    },
    {
     "data": {
      "text/plain": [
       "Accuracy: 67.20%, BalancedAccuracy: 66.57%, GeometricMean: 66.51%, CohenKappa: 32.29%\t(rolling 500)"
      ]
     },
     "execution_count": 12,
     "metadata": {},
     "output_type": "execute_result"
    }
   ],
   "source": [
    "from river.tree import HoeffdingTreeClassifier\n",
    "\n",
    "model = HoeffdingTreeClassifier(nominal_attributes=['elevel', 'car', 'zipcode'])\n",
    "metrics = Rolling(metric=Metrics(metrics=[Accuracy(),BalancedAccuracy(),GeometricMean(),CohenKappa()]),window_size=500)\n",
    "stream = iter_pandas(X=data[features], y=data['class'])\n",
    "\n",
    "progressive_val_score(dataset=stream,\n",
    "                      model=model,\n",
    "                      metric=metrics,\n",
    "                      print_every=500)"
   ]
  },
  {
   "cell_type": "markdown",
   "metadata": {},
   "source": [
    "## Hoeffding Adaptive Tree"
   ]
  },
  {
   "cell_type": "code",
   "execution_count": 13,
   "metadata": {},
   "outputs": [
    {
     "name": "stdout",
     "output_type": "stream",
     "text": [
      "[500] Accuracy: 81.16%, BalancedAccuracy: 74.83%, GeometricMean: 72.34%, CohenKappa: 54.00%\t(rolling 500)\n",
      "[1,000] Accuracy: 85.40%, BalancedAccuracy: 80.74%, GeometricMean: 79.54%, CohenKappa: 65.13%\t(rolling 500)\n",
      "[1,500] Accuracy: 90.80%, BalancedAccuracy: 92.10%, GeometricMean: 91.99%, CohenKappa: 80.76%\t(rolling 500)\n",
      "[2,000] Accuracy: 91.80%, BalancedAccuracy: 92.79%, GeometricMean: 92.74%, CohenKappa: 82.41%\t(rolling 500)\n",
      "[2,500] Accuracy: 90.60%, BalancedAccuracy: 92.74%, GeometricMean: 92.55%, CohenKappa: 79.88%\t(rolling 500)\n",
      "[3,000] Accuracy: 92.20%, BalancedAccuracy: 93.55%, GeometricMean: 93.46%, CohenKappa: 83.24%\t(rolling 500)\n",
      "[3,500] Accuracy: 93.00%, BalancedAccuracy: 94.40%, GeometricMean: 94.33%, CohenKappa: 84.39%\t(rolling 500)\n",
      "[4,000] Accuracy: 95.20%, BalancedAccuracy: 96.49%, GeometricMean: 96.43%, CohenKappa: 89.33%\t(rolling 500)\n",
      "[4,500] Accuracy: 92.20%, BalancedAccuracy: 93.10%, GeometricMean: 93.05%, CohenKappa: 83.18%\t(rolling 500)\n",
      "[5,000] Accuracy: 92.80%, BalancedAccuracy: 94.25%, GeometricMean: 94.14%, CohenKappa: 84.69%\t(rolling 500)\n",
      "[5,500] Accuracy: 53.40%, BalancedAccuracy: 54.56%, GeometricMean: 54.16%, CohenKappa: 8.66%\t(rolling 500)\n",
      "[6,000] Accuracy: 63.60%, BalancedAccuracy: 61.80%, GeometricMean: 61.21%, CohenKappa: 23.64%\t(rolling 500)\n",
      "[6,500] Accuracy: 60.80%, BalancedAccuracy: 57.41%, GeometricMean: 55.95%, CohenKappa: 14.95%\t(rolling 500)\n",
      "[7,000] Accuracy: 64.80%, BalancedAccuracy: 61.90%, GeometricMean: 60.42%, CohenKappa: 24.37%\t(rolling 500)\n",
      "[7,500] Accuracy: 65.20%, BalancedAccuracy: 61.54%, GeometricMean: 58.24%, CohenKappa: 24.27%\t(rolling 500)\n",
      "[8,000] Accuracy: 69.00%, BalancedAccuracy: 66.09%, GeometricMean: 65.07%, CohenKappa: 32.71%\t(rolling 500)\n",
      "[8,500] Accuracy: 65.80%, BalancedAccuracy: 63.57%, GeometricMean: 62.96%, CohenKappa: 27.04%\t(rolling 500)\n",
      "[9,000] Accuracy: 71.40%, BalancedAccuracy: 73.50%, GeometricMean: 73.02%, CohenKappa: 43.48%\t(rolling 500)\n",
      "[9,500] Accuracy: 68.80%, BalancedAccuracy: 71.74%, GeometricMean: 70.33%, CohenKappa: 40.00%\t(rolling 500)\n",
      "[10,000] Accuracy: 65.20%, BalancedAccuracy: 68.79%, GeometricMean: 66.83%, CohenKappa: 33.95%\t(rolling 500)\n",
      "[10,500] Accuracy: 58.40%, BalancedAccuracy: 52.20%, GeometricMean: 48.75%, CohenKappa: 4.50%\t(rolling 500)\n",
      "[11,000] Accuracy: 63.20%, BalancedAccuracy: 53.52%, GeometricMean: 45.10%, CohenKappa: 7.82%\t(rolling 500)\n",
      "[11,500] Accuracy: 67.00%, BalancedAccuracy: 58.24%, GeometricMean: 49.39%, CohenKappa: 18.66%\t(rolling 500)\n",
      "[12,000] Accuracy: 75.20%, BalancedAccuracy: 67.95%, GeometricMean: 64.15%, CohenKappa: 39.31%\t(rolling 500)\n",
      "[12,500] Accuracy: 77.20%, BalancedAccuracy: 70.89%, GeometricMean: 68.53%, CohenKappa: 44.61%\t(rolling 500)\n",
      "[13,000] Accuracy: 81.60%, BalancedAccuracy: 75.20%, GeometricMean: 72.80%, CohenKappa: 54.77%\t(rolling 500)\n",
      "[13,500] Accuracy: 80.00%, BalancedAccuracy: 70.79%, GeometricMean: 66.69%, CohenKappa: 46.90%\t(rolling 500)\n",
      "[14,000] Accuracy: 83.80%, BalancedAccuracy: 78.27%, GeometricMean: 76.71%, CohenKappa: 60.38%\t(rolling 500)\n",
      "[14,500] Accuracy: 82.60%, BalancedAccuracy: 76.49%, GeometricMean: 74.24%, CohenKappa: 57.53%\t(rolling 500)\n",
      "[15,000] Accuracy: 83.20%, BalancedAccuracy: 78.24%, GeometricMean: 76.48%, CohenKappa: 60.47%\t(rolling 500)\n",
      "[15,500] Accuracy: 56.00%, BalancedAccuracy: 59.05%, GeometricMean: 56.32%, CohenKappa: 16.65%\t(rolling 500)\n",
      "[16,000] Accuracy: 61.40%, BalancedAccuracy: 62.91%, GeometricMean: 62.42%, CohenKappa: 24.37%\t(rolling 500)\n",
      "[16,500] Accuracy: 68.20%, BalancedAccuracy: 66.70%, GeometricMean: 66.51%, CohenKappa: 32.46%\t(rolling 500)\n",
      "[17,000] Accuracy: 75.20%, BalancedAccuracy: 73.84%, GeometricMean: 73.63%, CohenKappa: 47.48%\t(rolling 500)\n",
      "[17,500] Accuracy: 79.60%, BalancedAccuracy: 78.66%, GeometricMean: 78.51%, CohenKappa: 57.50%\t(rolling 500)\n",
      "[18,000] Accuracy: 78.60%, BalancedAccuracy: 78.58%, GeometricMean: 78.58%, CohenKappa: 55.51%\t(rolling 500)\n",
      "[18,500] Accuracy: 77.20%, BalancedAccuracy: 79.30%, GeometricMean: 79.01%, CohenKappa: 53.77%\t(rolling 500)\n",
      "[19,000] Accuracy: 81.20%, BalancedAccuracy: 83.41%, GeometricMean: 82.83%, CohenKappa: 62.80%\t(rolling 500)\n",
      "[19,500] Accuracy: 80.00%, BalancedAccuracy: 82.43%, GeometricMean: 81.88%, CohenKappa: 60.24%\t(rolling 500)\n",
      "[20,000] Accuracy: 77.60%, BalancedAccuracy: 79.18%, GeometricMean: 78.90%, CohenKappa: 55.16%\t(rolling 500)\n"
     ]
    },
    {
     "data": {
      "text/plain": [
       "Accuracy: 77.60%, BalancedAccuracy: 79.18%, GeometricMean: 78.90%, CohenKappa: 55.16%\t(rolling 500)"
      ]
     },
     "execution_count": 13,
     "metadata": {},
     "output_type": "execute_result"
    }
   ],
   "source": [
    "from river.tree import HoeffdingAdaptiveTreeClassifier\n",
    "\n",
    "model = HoeffdingAdaptiveTreeClassifier(nominal_attributes=['elevel', 'car', 'zipcode'], seed=42)\n",
    "metrics = Rolling(metric=Metrics(metrics=[Accuracy(),BalancedAccuracy(),GeometricMean(),CohenKappa()]),window_size=500)\n",
    "stream = iter_pandas(X=data[features], y=data['class'])\n",
    "\n",
    "progressive_val_score(dataset=stream, \n",
    "                      model=model, \n",
    "                      metric=metrics, \n",
    "                      print_every=500)"
   ]
  },
  {
   "cell_type": "markdown",
   "metadata": {},
   "source": [
    "##### ![Quantia Tiny Logo](https://www.quantiaconsulting.com/logos/quantia_logo_tiny.png) Quantia Consulting, srl. All rights reserved."
   ]
  }
 ],
 "metadata": {
  "kernelspec": {
   "display_name": "Python 3 (ipykernel)",
   "language": "python",
   "name": "python3"
  },
  "language_info": {
   "codemirror_mode": {
    "name": "ipython",
    "version": 3
   },
   "file_extension": ".py",
   "mimetype": "text/x-python",
   "name": "python",
   "nbconvert_exporter": "python",
   "pygments_lexer": "ipython3",
   "version": "3.11.3"
  }
 },
 "nbformat": 4,
 "nbformat_minor": 4
}
