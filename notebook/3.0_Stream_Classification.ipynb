{
 "cells": [
  {
   "cell_type": "markdown",
   "metadata": {},
   "source": [
    "<div style=\"text-align: center; line-height: 0; padding-top: 2px;\">\n",
    "  <img src=\"https://www.quantiaconsulting.com/logos/quantia_logo_orizz.png\" alt=\"Quantia Consulting\" style=\"width: 600px; height: 250px\">\n",
    "</div>"
   ]
  },
  {
   "cell_type": "markdown",
   "metadata": {},
   "source": [
    "# Stream Classification\n",
    "---\n",
    "\n",
    "## `NEWeather` dataset\n",
    "\n",
    "**Description:** The National Oceanic and Atmospheric Administration (NOAA),\n",
    "has compiled a database of weather measurements from over 7,000 weather \n",
    "stations worldwide. Records date back to the mid-1900s. Daily measurements\n",
    "include a variety of features (temperature, pressure, wind speed, etc.) as\n",
    "well as a series of indicators for precipitation and other weather-related\n",
    "events. The `NEweather` dataset contains data from this database, specifically\n",
    "from the Offutt Air Force Base in Bellevue, Nebraska ranging for over 50 years\n",
    "(1949-1999).\n",
    "\n",
    "**Features:** 8 Daily weather measurements\n",
    " \n",
    "|       Attribute      | Description |\n",
    "|:--------------------:|:-----------------------------|\n",
    "| `temp`                   | Temperature\n",
    "| `dew_pnt`                | Dew Point\n",
    "| `sea_lvl_press`          | Sea Level Pressure\n",
    "| `visibility`             | Visibility\n",
    "| `avg_wind_spd`           | Average Wind Speed\n",
    "| `max_sustained_wind_spd` | Maximum Sustained Wind Speed\n",
    "| `max_temp`               | Maximum Temperature\n",
    "| `min_temp`               | Minimum Temperature\n",
    "\n",
    "\n",
    "**Class:** `rain` | 0: no rain, 1: rain\n",
    " \n",
    "**Samples:** 18,159\n"
   ]
  },
  {
   "cell_type": "code",
   "execution_count": 1,
   "metadata": {},
   "outputs": [],
   "source": [
    "import pandas as pd\n",
    "from river.stream import iter_pandas\n",
    "from river.metrics import Metrics,Accuracy,BalancedAccuracy,CohenKappa,GeometricMean\n",
    "from river.evaluate import progressive_val_score"
   ]
  },
  {
   "cell_type": "code",
   "execution_count": 2,
   "metadata": {},
   "outputs": [],
   "source": [
    "data = pd.read_csv(\"../datasets/NEweather.csv\")\n",
    "features = data.columns[:-1]"
   ]
  },
  {
   "cell_type": "markdown",
   "metadata": {},
   "source": [
    "In this example, we load the data from a csv file with `pandas.read_csv`, and we use the [iter_pandas](https://riverml.xyz/latest/api/stream/iter-pandas/) utility method to iterate over the `DataFrame`."
   ]
  },
  {
   "cell_type": "code",
   "execution_count": 3,
   "metadata": {},
   "outputs": [],
   "source": [
    "stream = iter_pandas(X=data[features], y=data['rain'])"
   ]
  },
  {
   "cell_type": "markdown",
   "metadata": {},
   "source": [
    "## Naïve Bayes\n",
    "---\n",
    "[GaussianNB](https://riverml.xyz/latest/api/naive-bayes/GaussianNB/) maintains a Gaussian distribution $G_{cf}$ is maintained for each class $c$ and each feature $f$. Each Gaussian is updated using the amount associated with each feature; the details can be be found in proba.Gaussian. The joint log-likelihood is then obtained by summing the log probabilities of each feature associated with each class."
   ]
  },
  {
   "cell_type": "code",
   "execution_count": 4,
   "metadata": {},
   "outputs": [
    {
     "name": "stdout",
     "output_type": "stream",
     "text": [
      "[1,000] Accuracy: 71.27%, BalancedAccuracy: 71.96%, GeometricMean: 0.719288, CohenKappa: 0.401927\n",
      "[2,000] Accuracy: 69.88%, BalancedAccuracy: 70.38%, GeometricMean: 0.703702, CohenKappa: 0.36229\n",
      "[3,000] Accuracy: 68.99%, BalancedAccuracy: 69.64%, GeometricMean: 0.696182, CohenKappa: 0.34233\n",
      "[4,000] Accuracy: 68.82%, BalancedAccuracy: 68.87%, GeometricMean: 0.688653, CohenKappa: 0.334827\n",
      "[5,000] Accuracy: 69.09%, BalancedAccuracy: 67.97%, GeometricMean: 0.679167, CohenKappa: 0.327016\n",
      "[6,000] Accuracy: 69.13%, BalancedAccuracy: 67.87%, GeometricMean: 0.677979, CohenKappa: 0.326471\n",
      "[7,000] Accuracy: 69.15%, BalancedAccuracy: 67.89%, GeometricMean: 0.678197, CohenKappa: 0.326151\n",
      "[8,000] Accuracy: 68.50%, BalancedAccuracy: 67.31%, GeometricMean: 0.672467, CohenKappa: 0.315621\n",
      "[9,000] Accuracy: 68.65%, BalancedAccuracy: 66.69%, GeometricMean: 0.665023, CohenKappa: 0.309668\n",
      "[10,000] Accuracy: 69.04%, BalancedAccuracy: 66.36%, GeometricMean: 0.660147, CohenKappa: 0.307472\n",
      "[11,000] Accuracy: 69.52%, BalancedAccuracy: 66.52%, GeometricMean: 0.661078, CohenKappa: 0.311698\n",
      "[12,000] Accuracy: 69.74%, BalancedAccuracy: 66.57%, GeometricMean: 0.661278, CohenKappa: 0.312469\n",
      "[13,000] Accuracy: 69.79%, BalancedAccuracy: 66.23%, GeometricMean: 0.656511, CohenKappa: 0.309697\n",
      "[14,000] Accuracy: 69.88%, BalancedAccuracy: 66.23%, GeometricMean: 0.6557, CohenKappa: 0.313058\n",
      "[15,000] Accuracy: 70.14%, BalancedAccuracy: 66.38%, GeometricMean: 0.656783, CohenKappa: 0.317169\n",
      "[16,000] Accuracy: 70.05%, BalancedAccuracy: 66.31%, GeometricMean: 0.655764, CohenKappa: 0.317936\n",
      "[17,000] Accuracy: 69.70%, BalancedAccuracy: 66.25%, GeometricMean: 0.656106, CohenKappa: 0.315024\n",
      "[18,000] Accuracy: 69.36%, BalancedAccuracy: 66.36%, GeometricMean: 0.658602, CohenKappa: 0.315357\n"
     ]
    },
    {
     "data": {
      "text/plain": [
       "Accuracy: 69.21%, BalancedAccuracy: 66.27%, GeometricMean: 0.657997, CohenKappa: 0.312843"
      ]
     },
     "execution_count": 4,
     "metadata": {},
     "output_type": "execute_result"
    }
   ],
   "source": [
    "from river.naive_bayes import GaussianNB\n",
    "\n",
    "model = GaussianNB()\n",
    "metrics = Metrics(metrics=[Accuracy(),BalancedAccuracy(),GeometricMean(),CohenKappa()])\n",
    "\n",
    "progressive_val_score(dataset=stream,\n",
    "                      model=model,\n",
    "                      metric=metrics,\n",
    "                      print_every=1000)"
   ]
  },
  {
   "cell_type": "markdown",
   "metadata": {},
   "source": [
    "## K-Nearest Neighbors\n",
    "---\n",
    "[KNN](https://riverml.xyz/latest/api/neighbors/KNNClassifier/) is a non-parametric classification method that keeps track of the last window_size training samples. The predicted class-label for a given query sample is obtained in two steps:\n",
    "\n",
    "- Find the closest n_neighbors to the query sample in the data window. \n",
    "- Aggregate the class-labels of the n_neighbors to define the predicted class for the query sample."
   ]
  },
  {
   "cell_type": "code",
   "execution_count": 5,
   "metadata": {},
   "outputs": [
    {
     "name": "stdout",
     "output_type": "stream",
     "text": [
      "[1,000] Accuracy: 77.18%, BalancedAccuracy: 71.52%, GeometricMean: 0.696328, CohenKappa: 0.453244\n",
      "[2,000] Accuracy: 78.34%, BalancedAccuracy: 71.07%, GeometricMean: 0.687121, CohenKappa: 0.449479\n",
      "[3,000] Accuracy: 78.86%, BalancedAccuracy: 70.49%, GeometricMean: 0.676328, CohenKappa: 0.443403\n",
      "[4,000] Accuracy: 78.29%, BalancedAccuracy: 70.44%, GeometricMean: 0.677807, CohenKappa: 0.439294\n",
      "[5,000] Accuracy: 78.06%, BalancedAccuracy: 70.37%, GeometricMean: 0.67768, CohenKappa: 0.436813\n",
      "[6,000] Accuracy: 77.95%, BalancedAccuracy: 70.53%, GeometricMean: 0.680824, CohenKappa: 0.438008\n",
      "[7,000] Accuracy: 78.24%, BalancedAccuracy: 70.95%, GeometricMean: 0.686521, CohenKappa: 0.44553\n",
      "[8,000] Accuracy: 77.96%, BalancedAccuracy: 70.85%, GeometricMean: 0.686013, CohenKappa: 0.442612\n",
      "[9,000] Accuracy: 78.12%, BalancedAccuracy: 71.08%, GeometricMean: 0.688297, CohenKappa: 0.448102\n",
      "[10,000] Accuracy: 78.16%, BalancedAccuracy: 71.12%, GeometricMean: 0.689098, CohenKappa: 0.448404\n",
      "[11,000] Accuracy: 78.35%, BalancedAccuracy: 71.33%, GeometricMean: 0.691917, CohenKappa: 0.451437\n",
      "[12,000] Accuracy: 78.47%, BalancedAccuracy: 71.21%, GeometricMean: 0.690064, CohenKappa: 0.449903\n",
      "[13,000] Accuracy: 78.36%, BalancedAccuracy: 71.19%, GeometricMean: 0.689656, CohenKappa: 0.449804\n",
      "[14,000] Accuracy: 78.26%, BalancedAccuracy: 71.63%, GeometricMean: 0.696013, CohenKappa: 0.457031\n",
      "[15,000] Accuracy: 78.36%, BalancedAccuracy: 71.83%, GeometricMean: 0.6986, CohenKappa: 0.460586\n",
      "[16,000] Accuracy: 78.24%, BalancedAccuracy: 72.12%, GeometricMean: 0.70299, CohenKappa: 0.465159\n",
      "[17,000] Accuracy: 78.10%, BalancedAccuracy: 72.07%, GeometricMean: 0.702761, CohenKappa: 0.463659\n",
      "[18,000] Accuracy: 77.90%, BalancedAccuracy: 72.07%, GeometricMean: 0.703342, CohenKappa: 0.462866\n"
     ]
    },
    {
     "data": {
      "text/plain": [
       "Accuracy: 77.91%, BalancedAccuracy: 72.06%, GeometricMean: 0.703281, CohenKappa: 0.462426"
      ]
     },
     "execution_count": 5,
     "metadata": {},
     "output_type": "execute_result"
    }
   ],
   "source": [
    "from river.neighbors import KNNClassifier\n",
    "\n",
    "model = KNNClassifier(n_neighbors=5, window_size=1000)\n",
    "metrics = Metrics(metrics=[Accuracy(),BalancedAccuracy(),GeometricMean(),CohenKappa()])\n",
    "stream = iter_pandas(X=data[features], y=data['rain'])\n",
    "\n",
    "progressive_val_score(dataset=stream,\n",
    "                      model=model,\n",
    "                      metric=metrics,\n",
    "                      print_every=1000)"
   ]
  },
  {
   "cell_type": "markdown",
   "metadata": {},
   "source": [
    "## Hoeffding Tree\n",
    "---\n",
    "\n",
    "[Hoeffding Tree](https://riverml.xyz/latest/api/tree/HoeffdingTreeClassifier/) "
   ]
  },
  {
   "cell_type": "markdown",
   "metadata": {},
   "source": [
    "Tree-based models are popular due to their interpretability. They use a tree data structure to model the data. When a sample arrives, it traverses the tree until it reaches a leaf node. Internal nodes define the path for a data sample based on the values of its features. Leaf nodes are models that provide predictions for unlabeled-samples and can update their internal state using the labels from labeled samples."
   ]
  },
  {
   "cell_type": "code",
   "execution_count": 6,
   "metadata": {},
   "outputs": [
    {
     "name": "stdout",
     "output_type": "stream",
     "text": [
      "[1,000] Accuracy: 70.87%, BalancedAccuracy: 71.11%, GeometricMean: 0.711018, CohenKappa: 0.389171\n",
      "[2,000] Accuracy: 69.73%, BalancedAccuracy: 68.12%, GeometricMean: 0.680063, CohenKappa: 0.334537\n",
      "[3,000] Accuracy: 70.89%, BalancedAccuracy: 63.00%, GeometricMean: 0.601571, CohenKappa: 0.268525\n",
      "[4,000] Accuracy: 71.29%, BalancedAccuracy: 61.85%, GeometricMean: 0.574005, CohenKappa: 0.255662\n",
      "[5,000] Accuracy: 71.79%, BalancedAccuracy: 62.23%, GeometricMean: 0.575773, CohenKappa: 0.265883\n",
      "[6,000] Accuracy: 72.13%, BalancedAccuracy: 62.56%, GeometricMean: 0.578828, CohenKappa: 0.273963\n",
      "[7,000] Accuracy: 72.82%, BalancedAccuracy: 64.11%, GeometricMean: 0.6042, CohenKappa: 0.30228\n",
      "[8,000] Accuracy: 72.58%, BalancedAccuracy: 64.31%, GeometricMean: 0.608998, CohenKappa: 0.304549\n",
      "[9,000] Accuracy: 72.80%, BalancedAccuracy: 63.98%, GeometricMean: 0.599835, CohenKappa: 0.302127\n",
      "[10,000] Accuracy: 72.85%, BalancedAccuracy: 63.64%, GeometricMean: 0.593219, CohenKappa: 0.29692\n",
      "[11,000] Accuracy: 73.30%, BalancedAccuracy: 63.81%, GeometricMean: 0.593683, CohenKappa: 0.301666\n",
      "[12,000] Accuracy: 73.55%, BalancedAccuracy: 63.96%, GeometricMean: 0.595833, CohenKappa: 0.304552\n",
      "[13,000] Accuracy: 73.80%, BalancedAccuracy: 64.28%, GeometricMean: 0.598513, CohenKappa: 0.312683\n",
      "[14,000] Accuracy: 73.73%, BalancedAccuracy: 64.51%, GeometricMean: 0.600731, CohenKappa: 0.318386\n",
      "[15,000] Accuracy: 73.99%, BalancedAccuracy: 64.80%, GeometricMean: 0.603898, CohenKappa: 0.325083\n",
      "[16,000] Accuracy: 74.03%, BalancedAccuracy: 65.36%, GeometricMean: 0.612431, CohenKappa: 0.336024\n",
      "[17,000] Accuracy: 73.93%, BalancedAccuracy: 65.82%, GeometricMean: 0.622156, CohenKappa: 0.34236\n",
      "[18,000] Accuracy: 73.58%, BalancedAccuracy: 65.92%, GeometricMean: 0.626027, CohenKappa: 0.342009\n"
     ]
    },
    {
     "data": {
      "text/plain": [
       "Accuracy: 73.55%, BalancedAccuracy: 65.87%, GeometricMean: 0.625562, CohenKappa: 0.340681"
      ]
     },
     "execution_count": 6,
     "metadata": {},
     "output_type": "execute_result"
    }
   ],
   "source": [
    "from hoeffding_tree_classifier import HoeffdingTreeClassifier\n",
    "\n",
    "model = HoeffdingTreeClassifier()\n",
    "metrics = Metrics(metrics=[Accuracy(),BalancedAccuracy(),GeometricMean(),CohenKappa()])\n",
    "stream = iter_pandas(X=data[features], y=data['rain'])\n",
    "\n",
    "progressive_val_score(dataset=stream,\n",
    "                      model=model,\n",
    "                      metric=metrics,\n",
    "                      print_every=1000)"
   ]
  },
  {
   "cell_type": "markdown",
   "metadata": {},
   "source": [
    "## Hoeffding Adaptive Tree\n",
    "---\n",
    "The [HAT](https://riverml.xyz/latest/api/tree/HoeffdingAdaptiveTreeClassifier/) model uses `ADWIN` to detect changes. If change is detected in a given branch, an alternate branch is created and eventually replaces the original branch if it shows better performance on new data."
   ]
  },
  {
   "cell_type": "code",
   "execution_count": 7,
   "metadata": {},
   "outputs": [
    {
     "name": "stdout",
     "output_type": "stream",
     "text": [
      "[1,000] Accuracy: 68.37%, BalancedAccuracy: 65.29%, GeometricMean: 0.646908, CohenKappa: 0.298324\n",
      "[2,000] Accuracy: 69.48%, BalancedAccuracy: 63.36%, GeometricMean: 0.614911, CohenKappa: 0.26877\n",
      "[3,000] Accuracy: 71.09%, BalancedAccuracy: 60.64%, GeometricMean: 0.553518, CohenKappa: 0.232311\n",
      "[4,000] Accuracy: 72.02%, BalancedAccuracy: 62.12%, GeometricMean: 0.572311, CohenKappa: 0.264893\n",
      "[5,000] Accuracy: 72.85%, BalancedAccuracy: 63.23%, GeometricMean: 0.586106, CohenKappa: 0.289428\n",
      "[6,000] Accuracy: 73.33%, BalancedAccuracy: 64.41%, GeometricMean: 0.604926, CohenKappa: 0.311497\n",
      "[7,000] Accuracy: 73.91%, BalancedAccuracy: 65.10%, GeometricMean: 0.613959, CohenKappa: 0.325733\n",
      "[8,000] Accuracy: 73.51%, BalancedAccuracy: 64.66%, GeometricMean: 0.607665, CohenKappa: 0.317075\n",
      "[9,000] Accuracy: 73.81%, BalancedAccuracy: 64.68%, GeometricMean: 0.604427, CohenKappa: 0.320774\n",
      "[10,000] Accuracy: 73.85%, BalancedAccuracy: 64.78%, GeometricMean: 0.606611, CohenKappa: 0.321975\n",
      "[11,000] Accuracy: 74.03%, BalancedAccuracy: 64.61%, GeometricMean: 0.603011, CohenKappa: 0.319809\n",
      "[12,000] Accuracy: 74.16%, BalancedAccuracy: 64.38%, GeometricMean: 0.5986, CohenKappa: 0.31591\n",
      "[13,000] Accuracy: 74.14%, BalancedAccuracy: 64.35%, GeometricMean: 0.596644, CohenKappa: 0.316666\n",
      "[14,000] Accuracy: 73.96%, BalancedAccuracy: 64.67%, GeometricMean: 0.601748, CohenKappa: 0.322778\n",
      "[15,000] Accuracy: 74.28%, BalancedAccuracy: 65.20%, GeometricMean: 0.609366, CohenKappa: 0.33347\n",
      "[16,000] Accuracy: 74.34%, BalancedAccuracy: 65.81%, GeometricMean: 0.618718, CohenKappa: 0.345246\n",
      "[17,000] Accuracy: 74.12%, BalancedAccuracy: 66.31%, GeometricMean: 0.629896, CohenKappa: 0.350818\n",
      "[18,000] Accuracy: 73.69%, BalancedAccuracy: 66.61%, GeometricMean: 0.638123, CohenKappa: 0.352545\n"
     ]
    },
    {
     "data": {
      "text/plain": [
       "Accuracy: 73.73%, BalancedAccuracy: 66.59%, GeometricMean: 0.63769, CohenKappa: 0.352226"
      ]
     },
     "execution_count": 7,
     "metadata": {},
     "output_type": "execute_result"
    }
   ],
   "source": [
    "from hoeffding_adaptive_tree_classifier import HoeffdingAdaptiveTreeClassifier\n",
    "\n",
    "model = HoeffdingAdaptiveTreeClassifier(seed=42)\n",
    "metrics = Metrics(metrics=[Accuracy(),BalancedAccuracy(),GeometricMean(),CohenKappa()])\n",
    "stream = iter_pandas(X=data[features], y=data['rain'])\n",
    "\n",
    "progressive_val_score(dataset=stream, \n",
    "                      model=model, \n",
    "                      metric=metrics, \n",
    "                      print_every=1000)"
   ]
  },
  {
   "cell_type": "markdown",
   "metadata": {},
   "source": [
    "## Concept Drift Impact\n",
    "\n",
    "Concept drift can negatively impact learning methods if not properly handled. Multiple real-world applications suffer **model degradation** as the models can not adapt to changes in the data.\n",
    "\n",
    "---\n",
    "## `AGRAWAL` dataset\n",
    "\n",
    "We will load the data from a csv file. The data was generated using the `AGRAWAL` data generator with 3 **gradual drifts** at the 5k, 10k, and 15k marks. It contains 9 features, 6 numeric and 3 categorical.\n",
    "\n",
    "There are 10 functions for generating binary class labels from the features. These functions determine whether a **loan** should be approved.\n",
    "\n",
    "| Feature    | Description            | Values                                                                |\n",
    "|------------|------------------------|-----------------------------------------------------------------------|\n",
    "| `salary`     | salary                 | uniformly distributed from 20k to 150k                                |\n",
    "| `commission` | commission             | if (salary <   75k) then 0 else uniformly distributed from 10k to 75k |\n",
    "| `age`        | age                    | uniformly distributed from 20 to 80                                   |\n",
    "| `elevel`     | education level        | uniformly chosen from 0 to 4                                          |\n",
    "| `car`        | car maker              | uniformly chosen from 1 to 20                                         |\n",
    "| `zipcode`    | zip code of the town   | uniformly chosen from 0 to 8                                          |\n",
    "| `hvalue`     | value of the house     | uniformly distributed from 50k x zipcode to 100k x zipcode            |\n",
    "| `hyears`     | years house owned      | uniformly distributed from 1 to 30                                    |\n",
    "| `loan`       | total loan amount      | uniformly distributed from 0 to 500k                                  |\n",
    "\n",
    "**Class:** `y` | 0: no loan, 1: loan\n",
    " \n",
    "**Samples:** 20,000\n",
    "\n",
    "`elevel`, `car`, and `zipcode` are categorical features."
   ]
  },
  {
   "cell_type": "code",
   "execution_count": 8,
   "metadata": {},
   "outputs": [],
   "source": [
    "data = pd.read_csv(\"../datasets/agr_a_20k.csv\")\n",
    "features = data.columns[:-1]"
   ]
  },
  {
   "cell_type": "markdown",
   "metadata": {},
   "source": [
    "## Naïve Bayes"
   ]
  },
  {
   "cell_type": "code",
   "execution_count": 9,
   "metadata": {},
   "outputs": [
    {
     "name": "stdout",
     "output_type": "stream",
     "text": [
      "[1,000] Accuracy: 83.98%, BalancedAccuracy: 77.03%, GeometricMean: 0.741456, CohenKappa: 0.6\n",
      "[2,000] Accuracy: 86.29%, BalancedAccuracy: 80.38%, GeometricMean: 0.782075, CohenKappa: 0.665697\n",
      "[3,000] Accuracy: 87.00%, BalancedAccuracy: 81.06%, GeometricMean: 0.790111, CohenKappa: 0.680837\n",
      "[4,000] Accuracy: 87.55%, BalancedAccuracy: 81.46%, GeometricMean: 0.794563, CohenKappa: 0.6909\n",
      "[5,000] Accuracy: 87.42%, BalancedAccuracy: 81.35%, GeometricMean: 0.79319, CohenKappa: 0.688606\n",
      "[6,000] Accuracy: 80.50%, BalancedAccuracy: 75.06%, GeometricMean: 0.717605, CohenKappa: 0.546748\n",
      "[7,000] Accuracy: 74.71%, BalancedAccuracy: 70.42%, GeometricMean: 0.661399, CohenKappa: 0.438805\n",
      "[8,000] Accuracy: 70.87%, BalancedAccuracy: 67.68%, GeometricMean: 0.62937, CohenKappa: 0.373843\n",
      "[9,000] Accuracy: 68.01%, BalancedAccuracy: 65.87%, GeometricMean: 0.609456, CohenKappa: 0.329905\n",
      "[10,000] Accuracy: 66.25%, BalancedAccuracy: 64.90%, GeometricMean: 0.602605, CohenKappa: 0.305641\n",
      "[11,000] Accuracy: 66.75%, BalancedAccuracy: 64.90%, GeometricMean: 0.607599, CohenKappa: 0.308099\n",
      "[12,000] Accuracy: 67.30%, BalancedAccuracy: 65.13%, GeometricMean: 0.614042, CohenKappa: 0.314212\n",
      "[13,000] Accuracy: 67.96%, BalancedAccuracy: 65.47%, GeometricMean: 0.61997, CohenKappa: 0.322497\n",
      "[14,000] Accuracy: 68.74%, BalancedAccuracy: 65.92%, GeometricMean: 0.625817, CohenKappa: 0.333177\n",
      "[15,000] Accuracy: 69.29%, BalancedAccuracy: 66.28%, GeometricMean: 0.630977, CohenKappa: 0.341423\n",
      "[16,000] Accuracy: 68.33%, BalancedAccuracy: 65.68%, GeometricMean: 0.623275, CohenKappa: 0.327521\n",
      "[17,000] Accuracy: 67.45%, BalancedAccuracy: 65.28%, GeometricMean: 0.619, CohenKappa: 0.317127\n",
      "[18,000] Accuracy: 66.90%, BalancedAccuracy: 65.13%, GeometricMean: 0.618054, CohenKappa: 0.312038\n",
      "[19,000] Accuracy: 66.32%, BalancedAccuracy: 64.95%, GeometricMean: 0.617082, CohenKappa: 0.306401\n",
      "[20,000] Accuracy: 65.94%, BalancedAccuracy: 64.90%, GeometricMean: 0.617772, CohenKappa: 0.303782\n"
     ]
    },
    {
     "data": {
      "text/plain": [
       "Accuracy: 65.94%, BalancedAccuracy: 64.90%, GeometricMean: 0.617772, CohenKappa: 0.303782"
      ]
     },
     "execution_count": 9,
     "metadata": {},
     "output_type": "execute_result"
    }
   ],
   "source": [
    "from river.naive_bayes import GaussianNB\n",
    "\n",
    "model = GaussianNB()\n",
    "metrics = Metrics(metrics=[Accuracy(),BalancedAccuracy(),GeometricMean(),CohenKappa()])\n",
    "stream = iter_pandas(X=data[features], y=data['class'])\n",
    "\n",
    "progressive_val_score(dataset=stream,\n",
    "                      model=model,\n",
    "                      metric=metrics,\n",
    "                      print_every=1000)"
   ]
  },
  {
   "cell_type": "markdown",
   "metadata": {},
   "source": [
    "## KNN with ADWIN\n",
    "---\n",
    "\n",
    "This classifier is an improvement from the regular kNN method, as it is resistant to concept drift. It uses the ADWIN change detector to decide which samples to keep and which ones to forget, and by doing so it regulates the sample window size."
   ]
  },
  {
   "cell_type": "code",
   "execution_count": 10,
   "metadata": {},
   "outputs": [
    {
     "name": "stdout",
     "output_type": "stream",
     "text": [
      "[1,000] Accuracy: 58.16%, BalancedAccuracy: 49.55%, GeometricMean: 0.422869, CohenKappa: -0.009662\n",
      "[2,000] Accuracy: 58.08%, BalancedAccuracy: 50.04%, GeometricMean: 0.432183, CohenKappa: 0.000878\n",
      "[3,000] Accuracy: 58.72%, BalancedAccuracy: 50.23%, GeometricMean: 0.430091, CohenKappa: 0.004976\n",
      "[4,000] Accuracy: 59.56%, BalancedAccuracy: 50.57%, GeometricMean: 0.430737, CohenKappa: 0.012374\n",
      "[5,000] Accuracy: 59.99%, BalancedAccuracy: 51.15%, GeometricMean: 0.438449, CohenKappa: 0.024936\n",
      "[6,000] Accuracy: 59.46%, BalancedAccuracy: 54.00%, GeometricMean: 0.492866, CohenKappa: 0.08485\n",
      "[7,000] Accuracy: 60.55%, BalancedAccuracy: 57.60%, GeometricMean: 0.551442, CohenKappa: 0.157202\n",
      "[8,000] Accuracy: 61.30%, BalancedAccuracy: 59.63%, GeometricMean: 0.581953, CohenKappa: 0.196598\n",
      "[9,000] Accuracy: 61.98%, BalancedAccuracy: 61.11%, GeometricMean: 0.602393, CohenKappa: 0.224807\n",
      "[10,000] Accuracy: 62.32%, BalancedAccuracy: 61.87%, GeometricMean: 0.613391, CohenKappa: 0.238926\n",
      "[11,000] Accuracy: 61.23%, BalancedAccuracy: 60.61%, GeometricMean: 0.601255, CohenKappa: 0.2138\n",
      "[12,000] Accuracy: 60.97%, BalancedAccuracy: 60.09%, GeometricMean: 0.594267, CohenKappa: 0.203752\n",
      "[13,000] Accuracy: 60.88%, BalancedAccuracy: 59.69%, GeometricMean: 0.588284, CohenKappa: 0.196249\n",
      "[14,000] Accuracy: 60.97%, BalancedAccuracy: 59.44%, GeometricMean: 0.583721, CohenKappa: 0.191797\n",
      "[15,000] Accuracy: 61.00%, BalancedAccuracy: 59.21%, GeometricMean: 0.579663, CohenKappa: 0.18765\n",
      "[16,000] Accuracy: 61.25%, BalancedAccuracy: 59.77%, GeometricMean: 0.586351, CohenKappa: 0.198761\n",
      "[17,000] Accuracy: 62.22%, BalancedAccuracy: 61.15%, GeometricMean: 0.602748, CohenKappa: 0.225894\n",
      "[18,000] Accuracy: 63.09%, BalancedAccuracy: 62.30%, GeometricMean: 0.616367, CohenKappa: 0.248578\n",
      "[19,000] Accuracy: 63.80%, BalancedAccuracy: 63.26%, GeometricMean: 0.627474, CohenKappa: 0.267202\n",
      "[20,000] Accuracy: 64.41%, BalancedAccuracy: 64.04%, GeometricMean: 0.636468, CohenKappa: 0.282327\n"
     ]
    },
    {
     "data": {
      "text/plain": [
       "Accuracy: 64.41%, BalancedAccuracy: 64.04%, GeometricMean: 0.636468, CohenKappa: 0.282327"
      ]
     },
     "execution_count": 10,
     "metadata": {},
     "output_type": "execute_result"
    }
   ],
   "source": [
    "from river.neighbors import KNNADWINClassifier\n",
    "from river import compose\n",
    "\n",
    "model = (\n",
    "    compose.Discard('elevel', 'car', 'zipcode') |\n",
    "    KNNADWINClassifier(n_neighbors=5, window_size=1000)\n",
    ")\n",
    "metrics = Metrics(metrics=[Accuracy(),BalancedAccuracy(),GeometricMean(),CohenKappa()])\n",
    "stream = iter_pandas(X=data[features], y=data['class'])\n",
    "\n",
    "progressive_val_score(dataset=stream,\n",
    "                      model=model,\n",
    "                      metric=metrics,\n",
    "                      print_every=1000)"
   ]
  },
  {
   "cell_type": "markdown",
   "metadata": {},
   "source": [
    "## Hoeffding Tree"
   ]
  },
  {
   "cell_type": "code",
   "execution_count": 12,
   "metadata": {},
   "outputs": [
    {
     "name": "stdout",
     "output_type": "stream",
     "text": [
      "[1,000] Accuracy: 81.68%, BalancedAccuracy: 74.40%, GeometricMean: 0.711195, CohenKappa: 0.542118\n",
      "[2,000] Accuracy: 82.29%, BalancedAccuracy: 78.91%, GeometricMean: 0.781873, CohenKappa: 0.594572\n",
      "[3,000] Accuracy: 83.49%, BalancedAccuracy: 82.29%, GeometricMean: 0.822033, CohenKappa: 0.635939\n",
      "[4,000] Accuracy: 85.17%, BalancedAccuracy: 84.61%, GeometricMean: 0.845969, CohenKappa: 0.673779\n",
      "[5,000] Accuracy: 86.20%, BalancedAccuracy: 86.08%, GeometricMean: 0.860795, CohenKappa: 0.698778\n",
      "[6,000] Accuracy: 80.13%, BalancedAccuracy: 79.01%, GeometricMean: 0.788828, CohenKappa: 0.578215\n",
      "[7,000] Accuracy: 76.30%, BalancedAccuracy: 75.31%, GeometricMean: 0.751008, CohenKappa: 0.508355\n",
      "[8,000] Accuracy: 74.11%, BalancedAccuracy: 73.44%, GeometricMean: 0.732605, CohenKappa: 0.471077\n",
      "[9,000] Accuracy: 73.64%, BalancedAccuracy: 73.16%, GeometricMean: 0.729417, CohenKappa: 0.465858\n",
      "[10,000] Accuracy: 73.95%, BalancedAccuracy: 73.64%, GeometricMean: 0.734276, CohenKappa: 0.474926\n",
      "[11,000] Accuracy: 73.20%, BalancedAccuracy: 72.85%, GeometricMean: 0.727287, CohenKappa: 0.458596\n",
      "[12,000] Accuracy: 73.21%, BalancedAccuracy: 72.97%, GeometricMean: 0.729342, CohenKappa: 0.459125\n",
      "[13,000] Accuracy: 73.61%, BalancedAccuracy: 73.47%, GeometricMean: 0.734586, CohenKappa: 0.467139\n",
      "[14,000] Accuracy: 74.29%, BalancedAccuracy: 74.23%, GeometricMean: 0.742236, CohenKappa: 0.480445\n",
      "[15,000] Accuracy: 75.00%, BalancedAccuracy: 75.01%, GeometricMean: 0.750117, CohenKappa: 0.494528\n",
      "[16,000] Accuracy: 73.59%, BalancedAccuracy: 73.52%, GeometricMean: 0.735138, CohenKappa: 0.466874\n",
      "[17,000] Accuracy: 72.63%, BalancedAccuracy: 72.55%, GeometricMean: 0.725487, CohenKappa: 0.449008\n",
      "[18,000] Accuracy: 72.20%, BalancedAccuracy: 72.16%, GeometricMean: 0.721565, CohenKappa: 0.441675\n",
      "[19,000] Accuracy: 71.89%, BalancedAccuracy: 71.89%, GeometricMean: 0.718868, CohenKappa: 0.436662\n",
      "[20,000] Accuracy: 71.70%, BalancedAccuracy: 71.71%, GeometricMean: 0.717109, CohenKappa: 0.433489\n"
     ]
    },
    {
     "data": {
      "text/plain": [
       "Accuracy: 71.70%, BalancedAccuracy: 71.71%, GeometricMean: 0.717109, CohenKappa: 0.433489"
      ]
     },
     "execution_count": 12,
     "metadata": {},
     "output_type": "execute_result"
    }
   ],
   "source": [
    "from hoeffding_tree_classifier import HoeffdingTreeClassifier\n",
    "\n",
    "model = HoeffdingTreeClassifier(nominal_attributes=['elevel', 'car', 'zipcode'])\n",
    "metrics = Metrics(metrics=[Accuracy(),BalancedAccuracy(),GeometricMean(),CohenKappa()])\n",
    "stream = iter_pandas(X=data[features], y=data['class'])\n",
    "\n",
    "progressive_val_score(dataset=stream,\n",
    "                      model=model,\n",
    "                      metric=metrics,\n",
    "                      print_every=1000)"
   ]
  },
  {
   "cell_type": "markdown",
   "metadata": {},
   "source": [
    "## Hoeffding Adaptive Tree"
   ]
  },
  {
   "cell_type": "code",
   "execution_count": 11,
   "metadata": {},
   "outputs": [
    {
     "name": "stdout",
     "output_type": "stream",
     "text": [
      "[1,000] Accuracy: 83.28%, BalancedAccuracy: 77.78%, GeometricMean: 0.760039, CohenKappa: 0.596293\n",
      "[2,000] Accuracy: 87.29%, BalancedAccuracy: 85.33%, GeometricMean: 0.851014, CohenKappa: 0.714108\n",
      "[3,000] Accuracy: 88.66%, BalancedAccuracy: 87.84%, GeometricMean: 0.87806, CohenKappa: 0.748789\n",
      "[4,000] Accuracy: 90.02%, BalancedAccuracy: 89.65%, GeometricMean: 0.896477, CohenKappa: 0.778601\n",
      "[5,000] Accuracy: 90.52%, BalancedAccuracy: 90.48%, GeometricMean: 0.904801, CohenKappa: 0.791178\n",
      "[6,000] Accuracy: 85.18%, BalancedAccuracy: 84.58%, GeometricMean: 0.845457, CohenKappa: 0.686609\n",
      "[7,000] Accuracy: 81.98%, BalancedAccuracy: 81.70%, GeometricMean: 0.816877, CohenKappa: 0.630195\n",
      "[8,000] Accuracy: 80.12%, BalancedAccuracy: 80.11%, GeometricMean: 0.801098, CohenKappa: 0.598378\n",
      "[9,000] Accuracy: 78.84%, BalancedAccuracy: 78.80%, GeometricMean: 0.787972, CohenKappa: 0.574675\n",
      "[10,000] Accuracy: 77.66%, BalancedAccuracy: 77.53%, GeometricMean: 0.775013, CohenKappa: 0.551273\n",
      "[11,000] Accuracy: 76.13%, BalancedAccuracy: 75.84%, GeometricMean: 0.757511, CohenKappa: 0.518076\n",
      "[12,000] Accuracy: 75.71%, BalancedAccuracy: 75.18%, GeometricMean: 0.750005, CohenKappa: 0.506503\n",
      "[13,000] Accuracy: 75.99%, BalancedAccuracy: 75.26%, GeometricMean: 0.750008, CohenKappa: 0.509128\n",
      "[14,000] Accuracy: 76.41%, BalancedAccuracy: 75.44%, GeometricMean: 0.751063, CohenKappa: 0.514216\n",
      "[15,000] Accuracy: 76.85%, BalancedAccuracy: 75.69%, GeometricMean: 0.752831, CohenKappa: 0.520356\n",
      "[16,000] Accuracy: 75.71%, BalancedAccuracy: 74.64%, GeometricMean: 0.741589, CohenKappa: 0.499418\n",
      "[17,000] Accuracy: 75.48%, BalancedAccuracy: 74.67%, GeometricMean: 0.742768, CohenKappa: 0.498752\n",
      "[18,000] Accuracy: 75.68%, BalancedAccuracy: 75.07%, GeometricMean: 0.747401, CohenKappa: 0.505688\n",
      "[19,000] Accuracy: 75.86%, BalancedAccuracy: 75.39%, GeometricMean: 0.75063, CohenKappa: 0.511471\n",
      "[20,000] Accuracy: 76.01%, BalancedAccuracy: 75.65%, GeometricMean: 0.753245, CohenKappa: 0.515992\n"
     ]
    },
    {
     "data": {
      "text/plain": [
       "Accuracy: 76.01%, BalancedAccuracy: 75.65%, GeometricMean: 0.753245, CohenKappa: 0.515992"
      ]
     },
     "execution_count": 11,
     "metadata": {},
     "output_type": "execute_result"
    }
   ],
   "source": [
    "from hoeffding_adaptive_tree_classifier import HoeffdingAdaptiveTreeClassifier\n",
    "\n",
    "model = HoeffdingAdaptiveTreeClassifier(nominal_attributes=['elevel', 'car', 'zipcode'], seed=42)\n",
    "metrics = Metrics(metrics=[Accuracy(),BalancedAccuracy(),GeometricMean(),CohenKappa()])\n",
    "stream = iter_pandas(X=data[features], y=data['class'])\n",
    "\n",
    "progressive_val_score(dataset=stream, \n",
    "                      model=model, \n",
    "                      metric=metrics, \n",
    "                      print_every=1000)"
   ]
  },
  {
   "cell_type": "markdown",
   "metadata": {},
   "source": [
    "##### ![Quantia Tiny Logo](https://www.quantiaconsulting.com/logos/quantia_logo_tiny.png) Quantia Consulting, srl. All rights reserved."
   ]
  }
 ],
 "metadata": {
  "kernelspec": {
   "display_name": "Python 3 (ipykernel)",
   "language": "python",
   "name": "python3"
  },
  "language_info": {
   "codemirror_mode": {
    "name": "ipython",
    "version": 3
   },
   "file_extension": ".py",
   "mimetype": "text/x-python",
   "name": "python",
   "nbconvert_exporter": "python",
   "pygments_lexer": "ipython3",
   "version": "3.10.2"
  }
 },
 "nbformat": 4,
 "nbformat_minor": 4
}
