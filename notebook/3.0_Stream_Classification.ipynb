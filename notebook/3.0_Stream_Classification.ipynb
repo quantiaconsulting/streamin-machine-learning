{
 "cells": [
  {
   "cell_type": "markdown",
   "metadata": {},
   "source": [
    "<div style=\"text-align: center; line-height: 0; padding-top: 2px;\">\n",
    "  <img src=\"https://www.quantiaconsulting.com/logos/quantia_logo_orizz.png\" alt=\"Quantia Consulting\" style=\"width: 600px; height: 250px\">\n",
    "</div>"
   ]
  },
  {
   "cell_type": "markdown",
   "metadata": {},
   "source": [
    "# Stream Classification\n",
    "---\n",
    "\n",
    "## `NEWeather` dataset\n",
    "\n",
    "**Description:** The National Oceanic and Atmospheric Administration (NOAA),\n",
    "has compiled a database of weather measurements from over 7,000 weather \n",
    "stations worldwide. Records date back to the mid-1900s. Daily measurements\n",
    "include a variety of features (temperature, pressure, wind speed, etc.) as\n",
    "well as a series of indicators for precipitation and other weather-related\n",
    "events. The `NEweather` dataset contains data from this database, specifically\n",
    "from the Offutt Air Force Base in Bellevue, Nebraska ranging for over 50 years\n",
    "(1949-1999).\n",
    "\n",
    "**Features:** 8 Daily weather measurements\n",
    " \n",
    "|       Attribute      | Description |\n",
    "|:--------------------:|:-----------------------------|\n",
    "| `temp`                   | Temperature\n",
    "| `dew_pnt`                | Dew Point\n",
    "| `sea_lvl_press`          | Sea Level Pressure\n",
    "| `visibility`             | Visibility\n",
    "| `avg_wind_spd`           | Average Wind Speed\n",
    "| `max_sustained_wind_spd` | Maximum Sustained Wind Speed\n",
    "| `max_temp`               | Maximum Temperature\n",
    "| `min_temp`               | Minimum Temperature\n",
    "\n",
    "\n",
    "**Class:** `rain` | 0: no rain, 1: rain\n",
    " \n",
    "**Samples:** 18,159\n"
   ]
  },
  {
   "cell_type": "code",
   "execution_count": 13,
   "metadata": {},
   "outputs": [],
   "source": [
    "import pandas as pd\n",
    "from river.stream import iter_pandas\n",
    "from river.metrics import Metrics,Accuracy,BalancedAccuracy,CohenKappa,GeometricMean\n",
    "from river.evaluate import progressive_val_score"
   ]
  },
  {
   "cell_type": "code",
   "execution_count": 14,
   "metadata": {},
   "outputs": [],
   "source": [
    "data = pd.read_csv(\"../datasets/NEweather.csv\")\n",
    "features = data.columns[:-1]"
   ]
  },
  {
   "cell_type": "markdown",
   "metadata": {},
   "source": [
    "In this example, we load the data from a csv file with `pandas.read_csv`, and we use the [iter_pandas](https://riverml.xyz/latest/api/stream/iter-pandas/) utility method to iterate over the `DataFrame`."
   ]
  },
  {
   "cell_type": "code",
   "execution_count": 15,
   "metadata": {},
   "outputs": [],
   "source": [
    "stream = iter_pandas(X=data[features], y=data['rain'])"
   ]
  },
  {
   "cell_type": "markdown",
   "metadata": {},
   "source": [
    "## Naïve Bayes\n",
    "---\n",
    "[GaussianNB](https://riverml.xyz/latest/api/naive-bayes/GaussianNB/) maintains a Gaussian distribution $G_{cf}$ is maintained for each class $c$ and each feature $f$. Each Gaussian is updated using the amount associated with each feature; the details can be be found in proba.Gaussian. The joint log-likelihood is then obtained by summing the log probabilities of each feature associated with each class."
   ]
  },
  {
   "cell_type": "code",
   "execution_count": 16,
   "metadata": {},
   "outputs": [
    {
     "name": "stdout",
     "output_type": "stream",
     "text": [
      "[1,000] Accuracy: 71.27%, BalancedAccuracy: 71.96%, GeometricMean: 71.93%, CohenKappa: 40.19%\n",
      "[2,000] Accuracy: 69.88%, BalancedAccuracy: 70.38%, GeometricMean: 70.37%, CohenKappa: 36.23%\n",
      "[3,000] Accuracy: 68.99%, BalancedAccuracy: 69.64%, GeometricMean: 69.62%, CohenKappa: 34.23%\n",
      "[4,000] Accuracy: 68.82%, BalancedAccuracy: 68.87%, GeometricMean: 68.87%, CohenKappa: 33.48%\n",
      "[5,000] Accuracy: 69.09%, BalancedAccuracy: 67.97%, GeometricMean: 67.92%, CohenKappa: 32.70%\n",
      "[6,000] Accuracy: 69.13%, BalancedAccuracy: 67.87%, GeometricMean: 67.80%, CohenKappa: 32.65%\n",
      "[7,000] Accuracy: 69.15%, BalancedAccuracy: 67.89%, GeometricMean: 67.82%, CohenKappa: 32.62%\n",
      "[8,000] Accuracy: 68.50%, BalancedAccuracy: 67.31%, GeometricMean: 67.25%, CohenKappa: 31.56%\n",
      "[9,000] Accuracy: 68.65%, BalancedAccuracy: 66.69%, GeometricMean: 66.50%, CohenKappa: 30.97%\n",
      "[10,000] Accuracy: 69.04%, BalancedAccuracy: 66.36%, GeometricMean: 66.01%, CohenKappa: 30.75%\n",
      "[11,000] Accuracy: 69.52%, BalancedAccuracy: 66.52%, GeometricMean: 66.11%, CohenKappa: 31.17%\n",
      "[12,000] Accuracy: 69.74%, BalancedAccuracy: 66.57%, GeometricMean: 66.13%, CohenKappa: 31.25%\n",
      "[13,000] Accuracy: 69.79%, BalancedAccuracy: 66.23%, GeometricMean: 65.65%, CohenKappa: 30.97%\n",
      "[14,000] Accuracy: 69.88%, BalancedAccuracy: 66.23%, GeometricMean: 65.57%, CohenKappa: 31.31%\n",
      "[15,000] Accuracy: 70.14%, BalancedAccuracy: 66.38%, GeometricMean: 65.68%, CohenKappa: 31.72%\n",
      "[16,000] Accuracy: 70.05%, BalancedAccuracy: 66.31%, GeometricMean: 65.58%, CohenKappa: 31.79%\n",
      "[17,000] Accuracy: 69.70%, BalancedAccuracy: 66.25%, GeometricMean: 65.61%, CohenKappa: 31.50%\n",
      "[18,000] Accuracy: 69.36%, BalancedAccuracy: 66.36%, GeometricMean: 65.86%, CohenKappa: 31.54%\n"
     ]
    },
    {
     "data": {
      "text/plain": [
       "Accuracy: 69.21%, BalancedAccuracy: 66.27%, GeometricMean: 65.80%, CohenKappa: 31.28%"
      ]
     },
     "execution_count": 16,
     "metadata": {},
     "output_type": "execute_result"
    }
   ],
   "source": [
    "from river.naive_bayes import GaussianNB\n",
    "\n",
    "model = GaussianNB()\n",
    "metrics = Metrics(metrics=[Accuracy(),BalancedAccuracy(),GeometricMean(),CohenKappa()])\n",
    "\n",
    "progressive_val_score(dataset=stream,\n",
    "                      model=model,\n",
    "                      metric=metrics,\n",
    "                      print_every=1000)"
   ]
  },
  {
   "cell_type": "markdown",
   "metadata": {},
   "source": [
    "## K-Nearest Neighbors\n",
    "---\n",
    "[KNN](https://riverml.xyz/latest/api/neighbors/KNNClassifier/) is a non-parametric classification method that keeps track of the last window_size training samples. The predicted class-label for a given query sample is obtained in two steps:\n",
    "\n",
    "- Find the closest n_neighbors to the query sample in the data window. \n",
    "- Aggregate the class-labels of the n_neighbors to define the predicted class for the query sample."
   ]
  },
  {
   "cell_type": "code",
   "execution_count": 17,
   "metadata": {},
   "outputs": [
    {
     "name": "stdout",
     "output_type": "stream",
     "text": [
      "[1,000] Accuracy: 77.18%, BalancedAccuracy: 71.52%, GeometricMean: 69.63%, CohenKappa: 45.32%\n",
      "[2,000] Accuracy: 78.34%, BalancedAccuracy: 71.07%, GeometricMean: 68.71%, CohenKappa: 44.95%\n",
      "[3,000] Accuracy: 78.86%, BalancedAccuracy: 70.49%, GeometricMean: 67.63%, CohenKappa: 44.34%\n",
      "[4,000] Accuracy: 78.29%, BalancedAccuracy: 70.44%, GeometricMean: 67.78%, CohenKappa: 43.93%\n",
      "[5,000] Accuracy: 78.06%, BalancedAccuracy: 70.37%, GeometricMean: 67.77%, CohenKappa: 43.68%\n",
      "[6,000] Accuracy: 77.95%, BalancedAccuracy: 70.53%, GeometricMean: 68.08%, CohenKappa: 43.80%\n",
      "[7,000] Accuracy: 78.24%, BalancedAccuracy: 70.95%, GeometricMean: 68.65%, CohenKappa: 44.55%\n",
      "[8,000] Accuracy: 77.96%, BalancedAccuracy: 70.85%, GeometricMean: 68.60%, CohenKappa: 44.26%\n",
      "[9,000] Accuracy: 78.12%, BalancedAccuracy: 71.08%, GeometricMean: 68.83%, CohenKappa: 44.81%\n",
      "[10,000] Accuracy: 78.16%, BalancedAccuracy: 71.12%, GeometricMean: 68.91%, CohenKappa: 44.84%\n",
      "[11,000] Accuracy: 78.35%, BalancedAccuracy: 71.33%, GeometricMean: 69.19%, CohenKappa: 45.14%\n",
      "[12,000] Accuracy: 78.47%, BalancedAccuracy: 71.21%, GeometricMean: 69.01%, CohenKappa: 44.99%\n",
      "[13,000] Accuracy: 78.36%, BalancedAccuracy: 71.19%, GeometricMean: 68.97%, CohenKappa: 44.98%\n",
      "[14,000] Accuracy: 78.26%, BalancedAccuracy: 71.63%, GeometricMean: 69.60%, CohenKappa: 45.70%\n",
      "[15,000] Accuracy: 78.36%, BalancedAccuracy: 71.83%, GeometricMean: 69.86%, CohenKappa: 46.06%\n",
      "[16,000] Accuracy: 78.24%, BalancedAccuracy: 72.12%, GeometricMean: 70.30%, CohenKappa: 46.52%\n",
      "[17,000] Accuracy: 78.10%, BalancedAccuracy: 72.07%, GeometricMean: 70.28%, CohenKappa: 46.37%\n",
      "[18,000] Accuracy: 77.90%, BalancedAccuracy: 72.07%, GeometricMean: 70.33%, CohenKappa: 46.29%\n"
     ]
    },
    {
     "data": {
      "text/plain": [
       "Accuracy: 77.91%, BalancedAccuracy: 72.06%, GeometricMean: 70.33%, CohenKappa: 46.24%"
      ]
     },
     "execution_count": 17,
     "metadata": {},
     "output_type": "execute_result"
    }
   ],
   "source": [
    "from river.neighbors import KNNClassifier\n",
    "\n",
    "model = KNNClassifier(n_neighbors=5, window_size=1000)\n",
    "metrics = Metrics(metrics=[Accuracy(),BalancedAccuracy(),GeometricMean(),CohenKappa()])\n",
    "stream = iter_pandas(X=data[features], y=data['rain'])\n",
    "\n",
    "progressive_val_score(dataset=stream,\n",
    "                      model=model,\n",
    "                      metric=metrics,\n",
    "                      print_every=1000)"
   ]
  },
  {
   "cell_type": "markdown",
   "metadata": {},
   "source": [
    "## Hoeffding Tree\n",
    "---\n",
    "\n",
    "[Hoeffding Tree](https://riverml.xyz/latest/api/tree/HoeffdingTreeClassifier/) "
   ]
  },
  {
   "cell_type": "markdown",
   "metadata": {},
   "source": [
    "Tree-based models are popular due to their interpretability. They use a tree data structure to model the data. When a sample arrives, it traverses the tree until it reaches a leaf node. Internal nodes define the path for a data sample based on the values of its features. Leaf nodes are models that provide predictions for unlabeled-samples and can update their internal state using the labels from labeled samples."
   ]
  },
  {
   "cell_type": "code",
   "execution_count": 18,
   "metadata": {},
   "outputs": [
    {
     "name": "stdout",
     "output_type": "stream",
     "text": [
      "[1,000] Accuracy: 70.87%, BalancedAccuracy: 71.11%, GeometricMean: 71.10%, CohenKappa: 38.92%\n",
      "[2,000] Accuracy: 69.73%, BalancedAccuracy: 68.12%, GeometricMean: 68.01%, CohenKappa: 33.45%\n",
      "[3,000] Accuracy: 70.89%, BalancedAccuracy: 63.00%, GeometricMean: 60.16%, CohenKappa: 26.85%\n",
      "[4,000] Accuracy: 71.29%, BalancedAccuracy: 61.85%, GeometricMean: 57.40%, CohenKappa: 25.57%\n",
      "[5,000] Accuracy: 71.79%, BalancedAccuracy: 62.23%, GeometricMean: 57.58%, CohenKappa: 26.59%\n",
      "[6,000] Accuracy: 72.13%, BalancedAccuracy: 62.56%, GeometricMean: 57.88%, CohenKappa: 27.40%\n",
      "[7,000] Accuracy: 72.82%, BalancedAccuracy: 64.11%, GeometricMean: 60.42%, CohenKappa: 30.23%\n",
      "[8,000] Accuracy: 72.58%, BalancedAccuracy: 64.31%, GeometricMean: 60.90%, CohenKappa: 30.45%\n",
      "[9,000] Accuracy: 72.80%, BalancedAccuracy: 63.98%, GeometricMean: 59.98%, CohenKappa: 30.21%\n",
      "[10,000] Accuracy: 72.85%, BalancedAccuracy: 63.64%, GeometricMean: 59.32%, CohenKappa: 29.69%\n",
      "[11,000] Accuracy: 73.30%, BalancedAccuracy: 63.81%, GeometricMean: 59.37%, CohenKappa: 30.17%\n",
      "[12,000] Accuracy: 73.55%, BalancedAccuracy: 63.96%, GeometricMean: 59.58%, CohenKappa: 30.46%\n",
      "[13,000] Accuracy: 73.80%, BalancedAccuracy: 64.28%, GeometricMean: 59.85%, CohenKappa: 31.27%\n",
      "[14,000] Accuracy: 73.73%, BalancedAccuracy: 64.51%, GeometricMean: 60.07%, CohenKappa: 31.84%\n",
      "[15,000] Accuracy: 73.99%, BalancedAccuracy: 64.80%, GeometricMean: 60.39%, CohenKappa: 32.51%\n",
      "[16,000] Accuracy: 74.03%, BalancedAccuracy: 65.36%, GeometricMean: 61.24%, CohenKappa: 33.60%\n",
      "[17,000] Accuracy: 73.93%, BalancedAccuracy: 65.82%, GeometricMean: 62.22%, CohenKappa: 34.24%\n",
      "[18,000] Accuracy: 73.58%, BalancedAccuracy: 65.92%, GeometricMean: 62.60%, CohenKappa: 34.20%\n"
     ]
    },
    {
     "data": {
      "text/plain": [
       "Accuracy: 73.55%, BalancedAccuracy: 65.87%, GeometricMean: 62.56%, CohenKappa: 34.07%"
      ]
     },
     "execution_count": 18,
     "metadata": {},
     "output_type": "execute_result"
    }
   ],
   "source": [
    "from river.tree import HoeffdingTreeClassifier\n",
    "\n",
    "model = HoeffdingTreeClassifier()\n",
    "metrics = Metrics(metrics=[Accuracy(),BalancedAccuracy(),GeometricMean(),CohenKappa()])\n",
    "stream = iter_pandas(X=data[features], y=data['rain'])\n",
    "\n",
    "progressive_val_score(dataset=stream,\n",
    "                      model=model,\n",
    "                      metric=metrics,\n",
    "                      print_every=1000)"
   ]
  },
  {
   "cell_type": "markdown",
   "metadata": {},
   "source": [
    "## Hoeffding Adaptive Tree\n",
    "---\n",
    "The [HAT](https://riverml.xyz/latest/api/tree/HoeffdingAdaptiveTreeClassifier/) model uses `ADWIN` to detect changes. If change is detected in a given branch, an alternate branch is created and eventually replaces the original branch if it shows better performance on new data."
   ]
  },
  {
   "cell_type": "code",
   "execution_count": 19,
   "metadata": {},
   "outputs": [
    {
     "name": "stdout",
     "output_type": "stream",
     "text": [
      "[1,000] Accuracy: 68.37%, BalancedAccuracy: 65.29%, GeometricMean: 64.69%, CohenKappa: 29.83%\n",
      "[2,000] Accuracy: 69.48%, BalancedAccuracy: 63.36%, GeometricMean: 61.49%, CohenKappa: 26.88%\n",
      "[3,000] Accuracy: 71.09%, BalancedAccuracy: 60.64%, GeometricMean: 55.35%, CohenKappa: 23.23%\n",
      "[4,000] Accuracy: 72.02%, BalancedAccuracy: 62.12%, GeometricMean: 57.23%, CohenKappa: 26.49%\n",
      "[5,000] Accuracy: 72.85%, BalancedAccuracy: 63.23%, GeometricMean: 58.61%, CohenKappa: 28.94%\n",
      "[6,000] Accuracy: 73.33%, BalancedAccuracy: 64.41%, GeometricMean: 60.49%, CohenKappa: 31.15%\n",
      "[7,000] Accuracy: 73.91%, BalancedAccuracy: 65.10%, GeometricMean: 61.40%, CohenKappa: 32.57%\n",
      "[8,000] Accuracy: 73.51%, BalancedAccuracy: 64.66%, GeometricMean: 60.77%, CohenKappa: 31.71%\n",
      "[9,000] Accuracy: 73.81%, BalancedAccuracy: 64.68%, GeometricMean: 60.44%, CohenKappa: 32.08%\n",
      "[10,000] Accuracy: 73.85%, BalancedAccuracy: 64.78%, GeometricMean: 60.66%, CohenKappa: 32.20%\n",
      "[11,000] Accuracy: 74.03%, BalancedAccuracy: 64.61%, GeometricMean: 60.30%, CohenKappa: 31.98%\n",
      "[12,000] Accuracy: 74.16%, BalancedAccuracy: 64.38%, GeometricMean: 59.86%, CohenKappa: 31.59%\n",
      "[13,000] Accuracy: 74.14%, BalancedAccuracy: 64.35%, GeometricMean: 59.66%, CohenKappa: 31.67%\n",
      "[14,000] Accuracy: 73.96%, BalancedAccuracy: 64.67%, GeometricMean: 60.17%, CohenKappa: 32.28%\n",
      "[15,000] Accuracy: 74.28%, BalancedAccuracy: 65.20%, GeometricMean: 60.94%, CohenKappa: 33.35%\n",
      "[16,000] Accuracy: 74.34%, BalancedAccuracy: 65.81%, GeometricMean: 61.87%, CohenKappa: 34.52%\n",
      "[17,000] Accuracy: 74.12%, BalancedAccuracy: 66.31%, GeometricMean: 62.99%, CohenKappa: 35.08%\n",
      "[18,000] Accuracy: 73.69%, BalancedAccuracy: 66.61%, GeometricMean: 63.81%, CohenKappa: 35.25%\n"
     ]
    },
    {
     "data": {
      "text/plain": [
       "Accuracy: 73.73%, BalancedAccuracy: 66.59%, GeometricMean: 63.77%, CohenKappa: 35.22%"
      ]
     },
     "execution_count": 19,
     "metadata": {},
     "output_type": "execute_result"
    }
   ],
   "source": [
    "from river.tree import HoeffdingAdaptiveTreeClassifier\n",
    "\n",
    "model = HoeffdingAdaptiveTreeClassifier(seed=42)\n",
    "metrics = Metrics(metrics=[Accuracy(),BalancedAccuracy(),GeometricMean(),CohenKappa()])\n",
    "stream = iter_pandas(X=data[features], y=data['rain'])\n",
    "\n",
    "progressive_val_score(dataset=stream, \n",
    "                      model=model, \n",
    "                      metric=metrics, \n",
    "                      print_every=1000)"
   ]
  },
  {
   "cell_type": "markdown",
   "metadata": {},
   "source": [
    "## Concept Drift Impact\n",
    "\n",
    "Concept drift can negatively impact learning methods if not properly handled. Multiple real-world applications suffer **model degradation** as the models can not adapt to changes in the data.\n",
    "\n",
    "---\n",
    "## `AGRAWAL` dataset\n",
    "\n",
    "We will load the data from a csv file. The data was generated using the `AGRAWAL` data generator with 3 **gradual drifts** at the 5k, 10k, and 15k marks. It contains 9 features, 6 numeric and 3 categorical.\n",
    "\n",
    "There are 10 functions for generating binary class labels from the features. These functions determine whether a **loan** should be approved.\n",
    "\n",
    "| Feature    | Description            | Values                                                                |\n",
    "|------------|------------------------|-----------------------------------------------------------------------|\n",
    "| `salary`     | salary                 | uniformly distributed from 20k to 150k                                |\n",
    "| `commission` | commission             | if (salary <   75k) then 0 else uniformly distributed from 10k to 75k |\n",
    "| `age`        | age                    | uniformly distributed from 20 to 80                                   |\n",
    "| `elevel`     | education level        | uniformly chosen from 0 to 4                                          |\n",
    "| `car`        | car maker              | uniformly chosen from 1 to 20                                         |\n",
    "| `zipcode`    | zip code of the town   | uniformly chosen from 0 to 8                                          |\n",
    "| `hvalue`     | value of the house     | uniformly distributed from 50k x zipcode to 100k x zipcode            |\n",
    "| `hyears`     | years house owned      | uniformly distributed from 1 to 30                                    |\n",
    "| `loan`       | total loan amount      | uniformly distributed from 0 to 500k                                  |\n",
    "\n",
    "**Class:** `y` | 0: no loan, 1: loan\n",
    " \n",
    "**Samples:** 20,000\n",
    "\n",
    "`elevel`, `car`, and `zipcode` are categorical features."
   ]
  },
  {
   "cell_type": "code",
   "execution_count": 20,
   "metadata": {},
   "outputs": [],
   "source": [
    "data = pd.read_csv(\"../datasets/agr_a_20k.csv\")\n",
    "features = data.columns[:-1]"
   ]
  },
  {
   "cell_type": "markdown",
   "metadata": {},
   "source": [
    "## Naïve Bayes"
   ]
  },
  {
   "cell_type": "code",
   "execution_count": 21,
   "metadata": {},
   "outputs": [
    {
     "name": "stdout",
     "output_type": "stream",
     "text": [
      "[1,000] Accuracy: 83.98%, BalancedAccuracy: 77.03%, GeometricMean: 74.15%, CohenKappa: 60.00%\n",
      "[2,000] Accuracy: 86.29%, BalancedAccuracy: 80.38%, GeometricMean: 78.21%, CohenKappa: 66.57%\n",
      "[3,000] Accuracy: 87.00%, BalancedAccuracy: 81.06%, GeometricMean: 79.01%, CohenKappa: 68.08%\n",
      "[4,000] Accuracy: 87.55%, BalancedAccuracy: 81.46%, GeometricMean: 79.46%, CohenKappa: 69.09%\n",
      "[5,000] Accuracy: 87.42%, BalancedAccuracy: 81.35%, GeometricMean: 79.32%, CohenKappa: 68.86%\n",
      "[6,000] Accuracy: 80.50%, BalancedAccuracy: 75.06%, GeometricMean: 71.76%, CohenKappa: 54.67%\n",
      "[7,000] Accuracy: 74.71%, BalancedAccuracy: 70.42%, GeometricMean: 66.14%, CohenKappa: 43.88%\n",
      "[8,000] Accuracy: 70.87%, BalancedAccuracy: 67.68%, GeometricMean: 62.94%, CohenKappa: 37.38%\n",
      "[9,000] Accuracy: 68.01%, BalancedAccuracy: 65.87%, GeometricMean: 60.95%, CohenKappa: 32.99%\n",
      "[10,000] Accuracy: 66.25%, BalancedAccuracy: 64.90%, GeometricMean: 60.26%, CohenKappa: 30.56%\n",
      "[11,000] Accuracy: 66.75%, BalancedAccuracy: 64.90%, GeometricMean: 60.76%, CohenKappa: 30.81%\n",
      "[12,000] Accuracy: 67.30%, BalancedAccuracy: 65.13%, GeometricMean: 61.40%, CohenKappa: 31.42%\n",
      "[13,000] Accuracy: 67.96%, BalancedAccuracy: 65.47%, GeometricMean: 62.00%, CohenKappa: 32.25%\n",
      "[14,000] Accuracy: 68.74%, BalancedAccuracy: 65.92%, GeometricMean: 62.58%, CohenKappa: 33.32%\n",
      "[15,000] Accuracy: 69.29%, BalancedAccuracy: 66.28%, GeometricMean: 63.10%, CohenKappa: 34.14%\n",
      "[16,000] Accuracy: 68.33%, BalancedAccuracy: 65.68%, GeometricMean: 62.33%, CohenKappa: 32.75%\n",
      "[17,000] Accuracy: 67.45%, BalancedAccuracy: 65.28%, GeometricMean: 61.90%, CohenKappa: 31.71%\n",
      "[18,000] Accuracy: 66.90%, BalancedAccuracy: 65.13%, GeometricMean: 61.81%, CohenKappa: 31.20%\n",
      "[19,000] Accuracy: 66.32%, BalancedAccuracy: 64.95%, GeometricMean: 61.71%, CohenKappa: 30.64%\n",
      "[20,000] Accuracy: 65.94%, BalancedAccuracy: 64.90%, GeometricMean: 61.78%, CohenKappa: 30.38%\n"
     ]
    },
    {
     "data": {
      "text/plain": [
       "Accuracy: 65.94%, BalancedAccuracy: 64.90%, GeometricMean: 61.78%, CohenKappa: 30.38%"
      ]
     },
     "execution_count": 21,
     "metadata": {},
     "output_type": "execute_result"
    }
   ],
   "source": [
    "from river.naive_bayes import GaussianNB\n",
    "\n",
    "model = GaussianNB()\n",
    "metrics = Metrics(metrics=[Accuracy(),BalancedAccuracy(),GeometricMean(),CohenKappa()])\n",
    "stream = iter_pandas(X=data[features], y=data['class'])\n",
    "\n",
    "progressive_val_score(dataset=stream,\n",
    "                      model=model,\n",
    "                      metric=metrics,\n",
    "                      print_every=1000)"
   ]
  },
  {
   "cell_type": "markdown",
   "metadata": {},
   "source": [
    "## KNN with ADWIN\n",
    "---\n",
    "\n",
    "This classifier is an improvement from the regular kNN method, as it is resistant to concept drift. It uses the ADWIN change detector to decide which samples to keep and which ones to forget, and by doing so it regulates the sample window size."
   ]
  },
  {
   "cell_type": "code",
   "execution_count": 22,
   "metadata": {},
   "outputs": [
    {
     "name": "stdout",
     "output_type": "stream",
     "text": [
      "[1,000] Accuracy: 58.16%, BalancedAccuracy: 49.55%, GeometricMean: 42.29%, CohenKappa: -0.97%\n",
      "[2,000] Accuracy: 58.08%, BalancedAccuracy: 50.04%, GeometricMean: 43.22%, CohenKappa: 0.09%\n",
      "[3,000] Accuracy: 58.72%, BalancedAccuracy: 50.23%, GeometricMean: 43.01%, CohenKappa: 0.50%\n",
      "[4,000] Accuracy: 59.56%, BalancedAccuracy: 50.57%, GeometricMean: 43.07%, CohenKappa: 1.24%\n",
      "[5,000] Accuracy: 59.99%, BalancedAccuracy: 51.15%, GeometricMean: 43.84%, CohenKappa: 2.49%\n",
      "[6,000] Accuracy: 59.46%, BalancedAccuracy: 54.00%, GeometricMean: 49.29%, CohenKappa: 8.49%\n",
      "[7,000] Accuracy: 60.55%, BalancedAccuracy: 57.60%, GeometricMean: 55.14%, CohenKappa: 15.72%\n",
      "[8,000] Accuracy: 61.30%, BalancedAccuracy: 59.63%, GeometricMean: 58.20%, CohenKappa: 19.66%\n",
      "[9,000] Accuracy: 61.98%, BalancedAccuracy: 61.11%, GeometricMean: 60.24%, CohenKappa: 22.48%\n",
      "[10,000] Accuracy: 62.32%, BalancedAccuracy: 61.87%, GeometricMean: 61.34%, CohenKappa: 23.89%\n",
      "[11,000] Accuracy: 61.23%, BalancedAccuracy: 60.61%, GeometricMean: 60.13%, CohenKappa: 21.38%\n",
      "[12,000] Accuracy: 60.97%, BalancedAccuracy: 60.09%, GeometricMean: 59.43%, CohenKappa: 20.38%\n",
      "[13,000] Accuracy: 60.88%, BalancedAccuracy: 59.69%, GeometricMean: 58.83%, CohenKappa: 19.62%\n",
      "[14,000] Accuracy: 60.97%, BalancedAccuracy: 59.44%, GeometricMean: 58.37%, CohenKappa: 19.18%\n",
      "[15,000] Accuracy: 61.00%, BalancedAccuracy: 59.21%, GeometricMean: 57.97%, CohenKappa: 18.76%\n",
      "[16,000] Accuracy: 61.25%, BalancedAccuracy: 59.77%, GeometricMean: 58.64%, CohenKappa: 19.88%\n",
      "[17,000] Accuracy: 62.22%, BalancedAccuracy: 61.15%, GeometricMean: 60.27%, CohenKappa: 22.59%\n",
      "[18,000] Accuracy: 63.09%, BalancedAccuracy: 62.30%, GeometricMean: 61.64%, CohenKappa: 24.86%\n",
      "[19,000] Accuracy: 63.80%, BalancedAccuracy: 63.26%, GeometricMean: 62.75%, CohenKappa: 26.72%\n",
      "[20,000] Accuracy: 64.41%, BalancedAccuracy: 64.04%, GeometricMean: 63.65%, CohenKappa: 28.23%\n"
     ]
    },
    {
     "data": {
      "text/plain": [
       "Accuracy: 64.41%, BalancedAccuracy: 64.04%, GeometricMean: 63.65%, CohenKappa: 28.23%"
      ]
     },
     "execution_count": 22,
     "metadata": {},
     "output_type": "execute_result"
    }
   ],
   "source": [
    "from river.neighbors import KNNADWINClassifier\n",
    "from river import compose\n",
    "\n",
    "model = (\n",
    "    compose.Discard('elevel', 'car', 'zipcode') |\n",
    "    KNNADWINClassifier(n_neighbors=5, window_size=1000)\n",
    ")\n",
    "metrics = Metrics(metrics=[Accuracy(),BalancedAccuracy(),GeometricMean(),CohenKappa()])\n",
    "stream = iter_pandas(X=data[features], y=data['class'])\n",
    "\n",
    "progressive_val_score(dataset=stream,\n",
    "                      model=model,\n",
    "                      metric=metrics,\n",
    "                      print_every=1000)"
   ]
  },
  {
   "cell_type": "markdown",
   "metadata": {},
   "source": [
    "## Hoeffding Tree"
   ]
  },
  {
   "cell_type": "code",
   "execution_count": 23,
   "metadata": {},
   "outputs": [
    {
     "name": "stdout",
     "output_type": "stream",
     "text": [
      "[1,000] Accuracy: 81.68%, BalancedAccuracy: 74.40%, GeometricMean: 71.12%, CohenKappa: 54.21%\n",
      "[2,000] Accuracy: 82.29%, BalancedAccuracy: 78.91%, GeometricMean: 78.19%, CohenKappa: 59.46%\n",
      "[3,000] Accuracy: 83.49%, BalancedAccuracy: 82.29%, GeometricMean: 82.20%, CohenKappa: 63.59%\n",
      "[4,000] Accuracy: 85.17%, BalancedAccuracy: 84.61%, GeometricMean: 84.60%, CohenKappa: 67.38%\n",
      "[5,000] Accuracy: 86.20%, BalancedAccuracy: 86.08%, GeometricMean: 86.08%, CohenKappa: 69.88%\n",
      "[6,000] Accuracy: 80.13%, BalancedAccuracy: 79.01%, GeometricMean: 78.88%, CohenKappa: 57.82%\n",
      "[7,000] Accuracy: 76.30%, BalancedAccuracy: 75.31%, GeometricMean: 75.10%, CohenKappa: 50.84%\n",
      "[8,000] Accuracy: 74.11%, BalancedAccuracy: 73.44%, GeometricMean: 73.26%, CohenKappa: 47.11%\n",
      "[9,000] Accuracy: 73.64%, BalancedAccuracy: 73.16%, GeometricMean: 72.94%, CohenKappa: 46.59%\n",
      "[10,000] Accuracy: 73.95%, BalancedAccuracy: 73.64%, GeometricMean: 73.43%, CohenKappa: 47.49%\n",
      "[11,000] Accuracy: 73.20%, BalancedAccuracy: 72.85%, GeometricMean: 72.73%, CohenKappa: 45.86%\n",
      "[12,000] Accuracy: 73.21%, BalancedAccuracy: 72.97%, GeometricMean: 72.93%, CohenKappa: 45.91%\n",
      "[13,000] Accuracy: 73.61%, BalancedAccuracy: 73.47%, GeometricMean: 73.46%, CohenKappa: 46.71%\n",
      "[14,000] Accuracy: 74.29%, BalancedAccuracy: 74.23%, GeometricMean: 74.22%, CohenKappa: 48.04%\n",
      "[15,000] Accuracy: 75.00%, BalancedAccuracy: 75.01%, GeometricMean: 75.01%, CohenKappa: 49.45%\n",
      "[16,000] Accuracy: 73.59%, BalancedAccuracy: 73.52%, GeometricMean: 73.51%, CohenKappa: 46.69%\n",
      "[17,000] Accuracy: 72.63%, BalancedAccuracy: 72.55%, GeometricMean: 72.55%, CohenKappa: 44.90%\n",
      "[18,000] Accuracy: 72.20%, BalancedAccuracy: 72.16%, GeometricMean: 72.16%, CohenKappa: 44.17%\n",
      "[19,000] Accuracy: 71.89%, BalancedAccuracy: 71.89%, GeometricMean: 71.89%, CohenKappa: 43.67%\n",
      "[20,000] Accuracy: 71.70%, BalancedAccuracy: 71.71%, GeometricMean: 71.71%, CohenKappa: 43.35%\n"
     ]
    },
    {
     "data": {
      "text/plain": [
       "Accuracy: 71.70%, BalancedAccuracy: 71.71%, GeometricMean: 71.71%, CohenKappa: 43.35%"
      ]
     },
     "execution_count": 23,
     "metadata": {},
     "output_type": "execute_result"
    }
   ],
   "source": [
    "from river.tree import HoeffdingTreeClassifier\n",
    "\n",
    "model = HoeffdingTreeClassifier(nominal_attributes=['elevel', 'car', 'zipcode'])\n",
    "metrics = Metrics(metrics=[Accuracy(),BalancedAccuracy(),GeometricMean(),CohenKappa()])\n",
    "stream = iter_pandas(X=data[features], y=data['class'])\n",
    "\n",
    "progressive_val_score(dataset=stream,\n",
    "                      model=model,\n",
    "                      metric=metrics,\n",
    "                      print_every=1000)"
   ]
  },
  {
   "cell_type": "markdown",
   "metadata": {},
   "source": [
    "## Hoeffding Adaptive Tree"
   ]
  },
  {
   "cell_type": "code",
   "execution_count": 24,
   "metadata": {},
   "outputs": [
    {
     "name": "stdout",
     "output_type": "stream",
     "text": [
      "[1,000] Accuracy: 83.28%, BalancedAccuracy: 77.78%, GeometricMean: 76.00%, CohenKappa: 59.63%\n",
      "[2,000] Accuracy: 87.29%, BalancedAccuracy: 85.33%, GeometricMean: 85.10%, CohenKappa: 71.41%\n",
      "[3,000] Accuracy: 88.66%, BalancedAccuracy: 87.84%, GeometricMean: 87.81%, CohenKappa: 74.88%\n",
      "[4,000] Accuracy: 90.02%, BalancedAccuracy: 89.65%, GeometricMean: 89.65%, CohenKappa: 77.86%\n",
      "[5,000] Accuracy: 90.52%, BalancedAccuracy: 90.48%, GeometricMean: 90.48%, CohenKappa: 79.12%\n",
      "[6,000] Accuracy: 85.18%, BalancedAccuracy: 84.58%, GeometricMean: 84.55%, CohenKappa: 68.66%\n",
      "[7,000] Accuracy: 81.98%, BalancedAccuracy: 81.70%, GeometricMean: 81.69%, CohenKappa: 63.02%\n",
      "[8,000] Accuracy: 80.12%, BalancedAccuracy: 80.11%, GeometricMean: 80.11%, CohenKappa: 59.84%\n",
      "[9,000] Accuracy: 78.84%, BalancedAccuracy: 78.80%, GeometricMean: 78.80%, CohenKappa: 57.47%\n",
      "[10,000] Accuracy: 77.66%, BalancedAccuracy: 77.53%, GeometricMean: 77.50%, CohenKappa: 55.13%\n",
      "[11,000] Accuracy: 76.13%, BalancedAccuracy: 75.84%, GeometricMean: 75.75%, CohenKappa: 51.81%\n",
      "[12,000] Accuracy: 75.71%, BalancedAccuracy: 75.18%, GeometricMean: 75.00%, CohenKappa: 50.65%\n",
      "[13,000] Accuracy: 75.99%, BalancedAccuracy: 75.26%, GeometricMean: 75.00%, CohenKappa: 50.91%\n",
      "[14,000] Accuracy: 76.41%, BalancedAccuracy: 75.44%, GeometricMean: 75.11%, CohenKappa: 51.42%\n",
      "[15,000] Accuracy: 76.85%, BalancedAccuracy: 75.69%, GeometricMean: 75.28%, CohenKappa: 52.04%\n",
      "[16,000] Accuracy: 75.71%, BalancedAccuracy: 74.64%, GeometricMean: 74.16%, CohenKappa: 49.94%\n",
      "[17,000] Accuracy: 75.48%, BalancedAccuracy: 74.67%, GeometricMean: 74.28%, CohenKappa: 49.88%\n",
      "[18,000] Accuracy: 75.68%, BalancedAccuracy: 75.07%, GeometricMean: 74.74%, CohenKappa: 50.57%\n",
      "[19,000] Accuracy: 75.86%, BalancedAccuracy: 75.39%, GeometricMean: 75.06%, CohenKappa: 51.15%\n",
      "[20,000] Accuracy: 76.01%, BalancedAccuracy: 75.65%, GeometricMean: 75.32%, CohenKappa: 51.60%\n"
     ]
    },
    {
     "data": {
      "text/plain": [
       "Accuracy: 76.01%, BalancedAccuracy: 75.65%, GeometricMean: 75.32%, CohenKappa: 51.60%"
      ]
     },
     "execution_count": 24,
     "metadata": {},
     "output_type": "execute_result"
    }
   ],
   "source": [
    "from river.tree import HoeffdingAdaptiveTreeClassifier\n",
    "\n",
    "model = HoeffdingAdaptiveTreeClassifier(nominal_attributes=['elevel', 'car', 'zipcode'], seed=42)\n",
    "metrics = Metrics(metrics=[Accuracy(),BalancedAccuracy(),GeometricMean(),CohenKappa()])\n",
    "stream = iter_pandas(X=data[features], y=data['class'])\n",
    "\n",
    "progressive_val_score(dataset=stream, \n",
    "                      model=model, \n",
    "                      metric=metrics, \n",
    "                      print_every=1000)"
   ]
  },
  {
   "cell_type": "markdown",
   "metadata": {},
   "source": [
    "##### ![Quantia Tiny Logo](https://www.quantiaconsulting.com/logos/quantia_logo_tiny.png) Quantia Consulting, srl. All rights reserved."
   ]
  }
 ],
 "metadata": {
  "kernelspec": {
   "display_name": "Python 3",
   "language": "python",
   "name": "python3"
  },
  "language_info": {
   "codemirror_mode": {
    "name": "ipython",
    "version": 3
   },
   "file_extension": ".py",
   "mimetype": "text/x-python",
   "name": "python",
   "nbconvert_exporter": "python",
   "pygments_lexer": "ipython3",
   "version": "3.7.6"
  }
 },
 "nbformat": 4,
 "nbformat_minor": 4
}
