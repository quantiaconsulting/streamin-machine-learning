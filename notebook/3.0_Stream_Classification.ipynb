{
 "cells": [
  {
   "cell_type": "markdown",
   "metadata": {},
   "source": [
    "<div style=\"text-align: center; line-height: 0; padding-top: 2px;\">\n",
    "  <img src=\"https://www.quantiaconsulting.com/logos/quantia_logo_orizz.png\" alt=\"Quantia Consulting\" style=\"width: 600px; height: 250px\">\n",
    "</div>"
   ]
  },
  {
   "cell_type": "markdown",
   "metadata": {},
   "source": [
    "# Stream Classification\n",
    "---\n",
    "\n",
    "## `NEWeather` dataset\n",
    "\n",
    "**Description:** The National Oceanic and Atmospheric Administration (NOAA),\n",
    "has compiled a database of weather measurements from over 7,000 weather \n",
    "stations worldwide. Records date back to the mid-1900s. Daily measurements\n",
    "include a variety of features (temperature, pressure, wind speed, etc.) as\n",
    "well as a series of indicators for precipitation and other weather-related\n",
    "events. The `NEweather` dataset contains data from this database, specifically\n",
    "from the Offutt Air Force Base in Bellevue, Nebraska ranging for over 50 years\n",
    "(1949-1999).\n",
    "\n",
    "**Features:** 8 Daily weather measurements\n",
    " \n",
    "|       Attribute      | Description |\n",
    "|:--------------------:|:-----------------------------|\n",
    "| `temp`                   | Temperature\n",
    "| `dew_pnt`                | Dew Point\n",
    "| `sea_lvl_press`          | Sea Level Pressure\n",
    "| `visibility`             | Visibility\n",
    "| `avg_wind_spd`           | Average Wind Speed\n",
    "| `max_sustained_wind_spd` | Maximum Sustained Wind Speed\n",
    "| `max_temp`               | Maximum Temperature\n",
    "| `min_temp`               | Minimum Temperature\n",
    "\n",
    "\n",
    "**Class:** `rain` | 0: no rain, 1: rain\n",
    " \n",
    "**Samples:** 18,159\n"
   ]
  },
  {
   "cell_type": "code",
   "execution_count": 1,
   "metadata": {},
   "outputs": [],
   "source": [
    "import pandas as pd\n",
    "from river.stream import iter_pandas\n",
    "from river.metrics import Accuracy\n",
    "from river.evaluate import progressive_val_score"
   ]
  },
  {
   "cell_type": "code",
   "execution_count": 2,
   "metadata": {},
   "outputs": [],
   "source": [
    "data = pd.read_csv(\"../datasets/NEweather.csv\")\n",
    "features = data.columns[:-1]"
   ]
  },
  {
   "cell_type": "markdown",
   "metadata": {},
   "source": [
    "In this example, we load the data from a csv file with `pandas.read_csv`, and we use the [iter_pandas](https://riverml.xyz/latest/api/stream/iter-pandas/) utility method to iterate over the `DataFrame`."
   ]
  },
  {
   "cell_type": "code",
   "execution_count": 3,
   "metadata": {},
   "outputs": [],
   "source": [
    "stream = iter_pandas(X=data[features], y=data['rain'])"
   ]
  },
  {
   "cell_type": "markdown",
   "metadata": {},
   "source": [
    "## Naïve Bayes\n",
    "---\n",
    "[GaussianNB](https://riverml.xyz/latest/api/naive-bayes/GaussianNB/) maintains a Gaussian distribution $G_{cf}$ is maintained for each class $c$ and each feature $f$. Each Gaussian is updated using the amount associated with each feature; the details can be be found in proba.Gaussian. The joint log-likelihood is then obtained by summing the log probabilities of each feature associated with each class."
   ]
  },
  {
   "cell_type": "code",
   "execution_count": 4,
   "metadata": {},
   "outputs": [
    {
     "name": "stdout",
     "output_type": "stream",
     "text": [
      "[1,000] Accuracy: 71.27%\n",
      "[2,000] Accuracy: 69.88%\n",
      "[3,000] Accuracy: 68.99%\n",
      "[4,000] Accuracy: 68.82%\n",
      "[5,000] Accuracy: 69.09%\n",
      "[6,000] Accuracy: 69.13%\n",
      "[7,000] Accuracy: 69.15%\n",
      "[8,000] Accuracy: 68.50%\n",
      "[9,000] Accuracy: 68.65%\n",
      "[10,000] Accuracy: 69.04%\n",
      "[11,000] Accuracy: 69.52%\n",
      "[12,000] Accuracy: 69.74%\n",
      "[13,000] Accuracy: 69.79%\n",
      "[14,000] Accuracy: 69.88%\n",
      "[15,000] Accuracy: 70.14%\n",
      "[16,000] Accuracy: 70.05%\n",
      "[17,000] Accuracy: 69.70%\n",
      "[18,000] Accuracy: 69.36%\n"
     ]
    },
    {
     "data": {
      "text/plain": [
       "Accuracy: 69.21%"
      ]
     },
     "execution_count": 4,
     "metadata": {},
     "output_type": "execute_result"
    }
   ],
   "source": [
    "from river.naive_bayes import GaussianNB\n",
    "\n",
    "model = GaussianNB()\n",
    "metric = Accuracy()\n",
    "\n",
    "progressive_val_score(dataset=stream,\n",
    "                      model=model,\n",
    "                      metric=metric,\n",
    "                      print_every=1000)"
   ]
  },
  {
   "cell_type": "markdown",
   "metadata": {},
   "source": [
    "## K-Nearest Neighbors\n",
    "---\n",
    "[KNN](https://riverml.xyz/latest/api/neighbors/KNNClassifier/) is a non-parametric classification method that keeps track of the last window_size training samples. The predicted class-label for a given query sample is obtained in two steps:\n",
    "\n",
    "- Find the closest n_neighbors to the query sample in the data window. \n",
    "- Aggregate the class-labels of the n_neighbors to define the predicted class for the query sample."
   ]
  },
  {
   "cell_type": "code",
   "execution_count": 5,
   "metadata": {},
   "outputs": [
    {
     "name": "stdout",
     "output_type": "stream",
     "text": [
      "[1,000] Accuracy: 77.18%\n",
      "[2,000] Accuracy: 78.34%\n",
      "[3,000] Accuracy: 78.86%\n",
      "[4,000] Accuracy: 78.29%\n",
      "[5,000] Accuracy: 78.06%\n",
      "[6,000] Accuracy: 77.95%\n",
      "[7,000] Accuracy: 78.24%\n",
      "[8,000] Accuracy: 77.96%\n",
      "[9,000] Accuracy: 78.12%\n",
      "[10,000] Accuracy: 78.16%\n",
      "[11,000] Accuracy: 78.35%\n",
      "[12,000] Accuracy: 78.47%\n",
      "[13,000] Accuracy: 78.36%\n",
      "[14,000] Accuracy: 78.26%\n",
      "[15,000] Accuracy: 78.36%\n",
      "[16,000] Accuracy: 78.24%\n",
      "[17,000] Accuracy: 78.10%\n",
      "[18,000] Accuracy: 77.90%\n"
     ]
    },
    {
     "data": {
      "text/plain": [
       "Accuracy: 77.91%"
      ]
     },
     "execution_count": 5,
     "metadata": {},
     "output_type": "execute_result"
    }
   ],
   "source": [
    "from river.neighbors import KNNClassifier\n",
    "\n",
    "model = KNNClassifier(n_neighbors=5, window_size=1000)\n",
    "metric = Accuracy()\n",
    "stream = iter_pandas(X=data[features], y=data['rain'])\n",
    "\n",
    "progressive_val_score(dataset=stream,\n",
    "                      model=model,\n",
    "                      metric=metric,\n",
    "                      print_every=1000)"
   ]
  },
  {
   "cell_type": "markdown",
   "metadata": {},
   "source": [
    "## Hoeffding Tree\n",
    "---\n",
    "\n",
    "[Hoeffding Tree](https://riverml.xyz/latest/api/tree/HoeffdingTreeClassifier/) "
   ]
  },
  {
   "cell_type": "code",
   "execution_count": 6,
   "metadata": {},
   "outputs": [
    {
     "name": "stdout",
     "output_type": "stream",
     "text": [
      "[1,000] Accuracy: 70.87%\n",
      "[2,000] Accuracy: 69.73%\n",
      "[3,000] Accuracy: 70.89%\n",
      "[4,000] Accuracy: 71.29%\n",
      "[5,000] Accuracy: 71.79%\n",
      "[6,000] Accuracy: 72.13%\n",
      "[7,000] Accuracy: 72.82%\n",
      "[8,000] Accuracy: 72.58%\n",
      "[9,000] Accuracy: 72.80%\n",
      "[10,000] Accuracy: 72.85%\n",
      "[11,000] Accuracy: 73.30%\n",
      "[12,000] Accuracy: 73.55%\n",
      "[13,000] Accuracy: 73.80%\n",
      "[14,000] Accuracy: 73.73%\n",
      "[15,000] Accuracy: 73.99%\n",
      "[16,000] Accuracy: 74.03%\n",
      "[17,000] Accuracy: 73.93%\n",
      "[18,000] Accuracy: 73.58%\n"
     ]
    },
    {
     "data": {
      "text/plain": [
       "Accuracy: 73.55%"
      ]
     },
     "execution_count": 6,
     "metadata": {},
     "output_type": "execute_result"
    }
   ],
   "source": [
    "from river.tree import HoeffdingTreeClassifier\n",
    "\n",
    "model = HoeffdingTreeClassifier()\n",
    "metric = Accuracy()\n",
    "stream = iter_pandas(X=data[features], y=data['rain'])\n",
    "\n",
    "progressive_val_score(dataset=stream,\n",
    "                      model=model,\n",
    "                      metric=metric,\n",
    "                      print_every=1000)"
   ]
  },
  {
   "cell_type": "markdown",
   "metadata": {},
   "source": [
    "Tree-based models are popular due to their interpretability. They use a tree data structure to model the data. When a sample arrives, it traverses the tree until it reaches a leaf node. Internal nodes define the path for a data sample based on the values of its features. Leaf nodes are models that provide predictions for unlabeled-samples and can update their internal state using the labels from labeled samples."
   ]
  },
  {
   "cell_type": "markdown",
   "metadata": {},
   "source": [
    "## Hoeffding Adaptive Tree\n",
    "---\n",
    "The [HAT](https://riverml.xyz/latest/api/tree/HoeffdingAdaptiveTreeClassifier/) model uses `ADWIN` to detect changes. If change is detected in a given branch, an alternate branch is created and eventually replaces the original branch if it shows better performance on new data."
   ]
  },
  {
   "cell_type": "code",
   "execution_count": 7,
   "metadata": {},
   "outputs": [
    {
     "name": "stdout",
     "output_type": "stream",
     "text": [
      "[1,000] Accuracy: 68.37%\n",
      "[2,000] Accuracy: 69.48%\n",
      "[3,000] Accuracy: 71.09%\n",
      "[4,000] Accuracy: 72.02%\n",
      "[5,000] Accuracy: 72.85%\n",
      "[6,000] Accuracy: 73.33%\n",
      "[7,000] Accuracy: 73.91%\n",
      "[8,000] Accuracy: 73.51%\n",
      "[9,000] Accuracy: 73.81%\n",
      "[10,000] Accuracy: 73.85%\n",
      "[11,000] Accuracy: 74.03%\n",
      "[12,000] Accuracy: 74.16%\n",
      "[13,000] Accuracy: 74.14%\n",
      "[14,000] Accuracy: 73.96%\n",
      "[15,000] Accuracy: 74.28%\n",
      "[16,000] Accuracy: 74.34%\n",
      "[17,000] Accuracy: 74.12%\n",
      "[18,000] Accuracy: 73.60%\n"
     ]
    },
    {
     "data": {
      "text/plain": [
       "Accuracy: 73.59%"
      ]
     },
     "execution_count": 7,
     "metadata": {},
     "output_type": "execute_result"
    }
   ],
   "source": [
    "from river.tree import HoeffdingAdaptiveTreeClassifier\n",
    "\n",
    "model = HoeffdingAdaptiveTreeClassifier(seed=42)\n",
    "metric = Accuracy()\n",
    "stream = iter_pandas(X=data[features], y=data['rain'])\n",
    "\n",
    "progressive_val_score(dataset=stream, \n",
    "                      model=model, \n",
    "                      metric=metric, \n",
    "                      print_every=1000)"
   ]
  },
  {
   "cell_type": "markdown",
   "metadata": {},
   "source": [
    "## Concept Drift Impact\n",
    "\n",
    "Concept drift can negatively impact learning methods if not properly handled. Multiple real-world applications suffer **model degradation** as the models can not adapt to changes in the data.\n",
    "\n",
    "---\n",
    "## `AGRAWAL` dataset\n",
    "\n",
    "We will load the data from a csv file. The data was generated using the `AGRAWAL` data generator with 3 **gradual drifts** at the 5k, 10k, and 15k marks. It contains 9 features, 6 numeric and 3 categorical.\n",
    "\n",
    "There are 10 functions for generating binary class labels from the features. These functions determine whether a **loan** should be approved.\n",
    "\n",
    "| Feature    | Description            | Values                                                                |\n",
    "|------------|------------------------|-----------------------------------------------------------------------|\n",
    "| `salary`     | salary                 | uniformly distributed from 20k to 150k                                |\n",
    "| `commission` | commission             | if (salary <   75k) then 0 else uniformly distributed from 10k to 75k |\n",
    "| `age`        | age                    | uniformly distributed from 20 to 80                                   |\n",
    "| `elevel`     | education level        | uniformly chosen from 0 to 4                                          |\n",
    "| `car`        | car maker              | uniformly chosen from 1 to 20                                         |\n",
    "| `zipcode`    | zip code of the town   | uniformly chosen from 0 to 8                                          |\n",
    "| `hvalue`     | value of the house     | uniformly distributed from 50k x zipcode to 100k x zipcode            |\n",
    "| `hyears`     | years house owned      | uniformly distributed from 1 to 30                                    |\n",
    "| `loan`       | total loan amount      | uniformly distributed from 0 to 500k                                  |\n",
    "\n",
    "**Class:** `y` | 0: no loan, 1: loan\n",
    " \n",
    "**Samples:** 20,000\n",
    "\n",
    "`elevel`, `car`, and `zipcode` are categorical features."
   ]
  },
  {
   "cell_type": "code",
   "execution_count": 8,
   "metadata": {},
   "outputs": [],
   "source": [
    "data = pd.read_csv(\"../datasets/agr_a_20k.csv\")\n",
    "features = data.columns[:-1]"
   ]
  },
  {
   "cell_type": "markdown",
   "metadata": {},
   "source": [
    "## Naïve Bayes"
   ]
  },
  {
   "cell_type": "code",
   "execution_count": 9,
   "metadata": {},
   "outputs": [
    {
     "name": "stdout",
     "output_type": "stream",
     "text": [
      "[1,000] Accuracy: 83.98%\n",
      "[2,000] Accuracy: 86.29%\n",
      "[3,000] Accuracy: 87.00%\n",
      "[4,000] Accuracy: 87.55%\n",
      "[5,000] Accuracy: 87.42%\n",
      "[6,000] Accuracy: 80.50%\n",
      "[7,000] Accuracy: 74.71%\n",
      "[8,000] Accuracy: 70.87%\n",
      "[9,000] Accuracy: 68.01%\n",
      "[10,000] Accuracy: 66.25%\n",
      "[11,000] Accuracy: 66.75%\n",
      "[12,000] Accuracy: 67.30%\n",
      "[13,000] Accuracy: 67.96%\n",
      "[14,000] Accuracy: 68.74%\n",
      "[15,000] Accuracy: 69.29%\n",
      "[16,000] Accuracy: 68.33%\n",
      "[17,000] Accuracy: 67.45%\n",
      "[18,000] Accuracy: 66.90%\n",
      "[19,000] Accuracy: 66.32%\n",
      "[20,000] Accuracy: 65.94%\n"
     ]
    },
    {
     "data": {
      "text/plain": [
       "Accuracy: 65.94%"
      ]
     },
     "execution_count": 9,
     "metadata": {},
     "output_type": "execute_result"
    }
   ],
   "source": [
    "from river.naive_bayes import GaussianNB\n",
    "\n",
    "model = GaussianNB()\n",
    "metric = Accuracy()\n",
    "stream = iter_pandas(X=data[features], y=data['class'])\n",
    "\n",
    "progressive_val_score(dataset=stream,\n",
    "                      model=model,\n",
    "                      metric=metric,\n",
    "                      print_every=1000)"
   ]
  },
  {
   "cell_type": "markdown",
   "metadata": {},
   "source": [
    "## KNN with ADWIN\n",
    "---\n",
    "\n",
    "This classifier is an improvement from the regular kNN method, as it is resistant to concept drift. It uses the ADWIN change detector to decide which samples to keep and which ones to forget, and by doing so it regulates the sample window size."
   ]
  },
  {
   "cell_type": "code",
   "execution_count": 10,
   "metadata": {},
   "outputs": [
    {
     "name": "stdout",
     "output_type": "stream",
     "text": [
      "[1,000] Accuracy: 58.16%\n",
      "[2,000] Accuracy: 58.08%\n",
      "[3,000] Accuracy: 58.72%\n",
      "[4,000] Accuracy: 59.56%\n",
      "[5,000] Accuracy: 59.99%\n",
      "[6,000] Accuracy: 59.46%\n",
      "[7,000] Accuracy: 60.55%\n",
      "[8,000] Accuracy: 61.30%\n",
      "[9,000] Accuracy: 61.98%\n",
      "[10,000] Accuracy: 62.32%\n",
      "[11,000] Accuracy: 61.23%\n",
      "[12,000] Accuracy: 60.97%\n",
      "[13,000] Accuracy: 60.88%\n",
      "[14,000] Accuracy: 60.97%\n",
      "[15,000] Accuracy: 61.00%\n",
      "[16,000] Accuracy: 61.25%\n",
      "[17,000] Accuracy: 62.22%\n",
      "[18,000] Accuracy: 63.09%\n",
      "[19,000] Accuracy: 63.80%\n",
      "[20,000] Accuracy: 64.41%\n"
     ]
    },
    {
     "data": {
      "text/plain": [
       "Accuracy: 64.41%"
      ]
     },
     "execution_count": 10,
     "metadata": {},
     "output_type": "execute_result"
    }
   ],
   "source": [
    "from river.neighbors import KNNADWINClassifier\n",
    "from river import compose\n",
    "\n",
    "model = (\n",
    "    compose.Discard('elevel', 'car', 'zipcode') |\n",
    "    KNNADWINClassifier(n_neighbors=5, window_size=1000)\n",
    ")\n",
    "metric = Accuracy()\n",
    "stream = iter_pandas(X=data[features], y=data['class'])\n",
    "\n",
    "progressive_val_score(dataset=stream,\n",
    "                      model=model,\n",
    "                      metric=metric,\n",
    "                      print_every=1000)"
   ]
  },
  {
   "cell_type": "markdown",
   "metadata": {},
   "source": [
    "## Hoeffding Tree"
   ]
  },
  {
   "cell_type": "code",
   "execution_count": 11,
   "metadata": {},
   "outputs": [
    {
     "name": "stdout",
     "output_type": "stream",
     "text": [
      "[1,000] Accuracy: 82.18%\n",
      "[2,000] Accuracy: 82.79%\n",
      "[3,000] Accuracy: 84.63%\n",
      "[4,000] Accuracy: 86.27%\n",
      "[5,000] Accuracy: 87.08%\n",
      "[6,000] Accuracy: 80.76%\n",
      "[7,000] Accuracy: 76.87%\n",
      "[8,000] Accuracy: 74.67%\n",
      "[9,000] Accuracy: 74.14%\n",
      "[10,000] Accuracy: 74.41%\n",
      "[11,000] Accuracy: 73.54%\n",
      "[12,000] Accuracy: 73.48%\n",
      "[13,000] Accuracy: 73.84%\n",
      "[14,000] Accuracy: 74.56%\n",
      "[15,000] Accuracy: 75.55%\n",
      "[16,000] Accuracy: 74.16%\n",
      "[17,000] Accuracy: 73.17%\n",
      "[18,000] Accuracy: 72.73%\n",
      "[19,000] Accuracy: 72.42%\n",
      "[20,000] Accuracy: 72.28%\n"
     ]
    },
    {
     "data": {
      "text/plain": [
       "Accuracy: 72.28%"
      ]
     },
     "execution_count": 11,
     "metadata": {},
     "output_type": "execute_result"
    }
   ],
   "source": [
    "from river.tree import HoeffdingTreeClassifier\n",
    "\n",
    "model = HoeffdingTreeClassifier(nominal_attributes=['elevel', 'car', 'zipcode'])\n",
    "metric = Accuracy()\n",
    "stream = iter_pandas(X=data[features], y=data['class'])\n",
    "\n",
    "progressive_val_score(dataset=stream,\n",
    "                      model=model,\n",
    "                      metric=metric,\n",
    "                      print_every=1000)"
   ]
  },
  {
   "cell_type": "markdown",
   "metadata": {},
   "source": [
    "## Hoeffding Adaptive Tree"
   ]
  },
  {
   "cell_type": "code",
   "execution_count": 12,
   "metadata": {},
   "outputs": [
    {
     "name": "stdout",
     "output_type": "stream",
     "text": [
      "[1,000] Accuracy: 84.38%\n",
      "[2,000] Accuracy: 87.84%\n",
      "[3,000] Accuracy: 89.03%\n",
      "[4,000] Accuracy: 90.30%\n",
      "[5,000] Accuracy: 90.74%\n",
      "[6,000] Accuracy: 84.38%\n",
      "[7,000] Accuracy: 81.33%\n",
      "[8,000] Accuracy: 79.51%\n",
      "[9,000] Accuracy: 78.25%\n",
      "[10,000] Accuracy: 77.10%\n",
      "[11,000] Accuracy: 75.24%\n",
      "[12,000] Accuracy: 74.58%\n",
      "[13,000] Accuracy: 75.38%\n",
      "[14,000] Accuracy: 76.71%\n",
      "[15,000] Accuracy: 77.75%\n",
      "[16,000] Accuracy: 76.36%\n",
      "[17,000] Accuracy: 76.38%\n",
      "[18,000] Accuracy: 76.60%\n",
      "[19,000] Accuracy: 76.79%\n",
      "[20,000] Accuracy: 76.91%\n"
     ]
    },
    {
     "data": {
      "text/plain": [
       "Accuracy: 76.91%"
      ]
     },
     "execution_count": 12,
     "metadata": {},
     "output_type": "execute_result"
    }
   ],
   "source": [
    "from river.tree import HoeffdingAdaptiveTreeClassifier\n",
    "\n",
    "model = HoeffdingAdaptiveTreeClassifier(nominal_attributes=['elevel', 'car', 'zipcode'], seed=42)\n",
    "metric = Accuracy()\n",
    "stream = iter_pandas(X=data[features], y=data['class'])\n",
    "\n",
    "progressive_val_score(dataset=stream, \n",
    "                      model=model, \n",
    "                      metric=metric, \n",
    "                      print_every=1000)"
   ]
  },
  {
   "cell_type": "markdown",
   "metadata": {},
   "source": [
    "##### ![Quantia Tiny Logo](https://www.quantiaconsulting.com/logos/quantia_logo_tiny.png) Quantia Consulting, srl. All rights reserved."
   ]
  }
 ],
 "metadata": {
  "kernelspec": {
   "display_name": "Python 3",
   "language": "python",
   "name": "python3"
  },
  "language_info": {
   "codemirror_mode": {
    "name": "ipython",
    "version": 3
   },
   "file_extension": ".py",
   "mimetype": "text/x-python",
   "name": "python",
   "nbconvert_exporter": "python",
   "pygments_lexer": "ipython3",
   "version": "3.9.5"
  }
 },
 "nbformat": 4,
 "nbformat_minor": 4
}
