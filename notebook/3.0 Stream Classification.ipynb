{
 "cells": [
  {
   "cell_type": "markdown",
   "metadata": {},
   "source": [
    "<div style=\"text-align: center; line-height: 0; padding-top: 2px;\">\n",
    "  <img src=\"https://www.quantiaconsulting.com/logos/quantia_logo_orizz.png\" alt=\"Quantia Consulting\" style=\"width: 600px; height: 250px\">\n",
    "</div>"
   ]
  },
  {
   "cell_type": "markdown",
   "metadata": {},
   "source": [
    "# Stream Classification\n",
    "---\n",
    "\n",
    "## `NEWeather` dataset\n",
    "\n",
    "**Description:** The National Oceanic and Atmospheric Administration (NOAA),\n",
    "has compiled a database of weather measurements from over 7,000 weather \n",
    "stations worldwide. Records date back to the mid-1900s. Daily measurements\n",
    "include a variety of features (temperature, pressure, wind speed, etc.) as\n",
    "well as a series of indicators for precipitation and other weather-related\n",
    "events. The `NEweather` dataset contains data from this database, specifically\n",
    "from the Offutt Air Force Base in Bellevue, Nebraska ranging for over 50 years\n",
    "(1949-1999).\n",
    "\n",
    "**Features:** 8 Daily weather measurements\n",
    " \n",
    "|       Attribute      | Description |\n",
    "|:--------------------:|:-----------------------------|\n",
    "| `temp`                   | Temperature\n",
    "| `dew_pnt`                | Dew Point\n",
    "| `sea_lvl_press`          | Sea Level Pressure\n",
    "| `visibility`             | Visibility\n",
    "| `avg_wind_spd`           | Average Wind Speed\n",
    "| `max_sustained_wind_spd` | Maximum Sustained Wind Speed\n",
    "| `max_temp`               | Maximum Temperature\n",
    "| `min_temp`               | Minimum Temperature\n",
    "\n",
    "\n",
    "**Class:** `rain` | 0: no rain, 1: rain\n",
    " \n",
    "**Samples:** 18,159\n"
   ]
  },
  {
   "cell_type": "code",
   "execution_count": 1,
   "metadata": {},
   "outputs": [],
   "source": [
    "import pandas as pd\n",
    "from river.stream import iter_pandas\n",
    "from river.metrics import Accuracy\n",
    "from river.evaluate import progressive_val_score"
   ]
  },
  {
   "cell_type": "code",
   "execution_count": 2,
   "metadata": {},
   "outputs": [],
   "source": [
    "data = pd.read_csv(\"../datasets/NEweather.csv\")\n",
    "features = data.columns[:-1]"
   ]
  },
  {
   "cell_type": "markdown",
   "metadata": {},
   "source": [
    "In this example, we load the data from a csv file with `pandas.read_csv`, and we use the [iter_pandas](https://riverml.xyz/latest/api/stream/iter-pandas/) utility method to iterate over the `DataFrame`."
   ]
  },
  {
   "cell_type": "code",
   "execution_count": 3,
   "metadata": {},
   "outputs": [],
   "source": [
    "stream = iter_pandas(X=data[features], y=data['rain'])"
   ]
  },
  {
   "cell_type": "markdown",
   "metadata": {},
   "source": [
    "## Naïve Bayes\n",
    "---\n",
    "[GaussianNB](https://riverml.xyz/latest/api/naive-bayes/GaussianNB/) maintains a Gaussian distribution $G_{cf}$ is maintained for each class $c$ and each feature $f$. Each Gaussian is updated using the amount associated with each feature; the details can be be found in proba.Gaussian. The joint log-likelihood is then obtained by summing the log probabilities of each feature associated with each class."
   ]
  },
  {
   "cell_type": "code",
   "execution_count": 4,
   "metadata": {},
   "outputs": [
    {
     "name": "stdout",
     "output_type": "stream",
     "text": [
      "[1,000] Accuracy: 71.87%\n",
      "[2,000] Accuracy: 71.69%\n",
      "[3,000] Accuracy: 71.96%\n",
      "[4,000] Accuracy: 72.22%\n",
      "[5,000] Accuracy: 72.35%\n",
      "[6,000] Accuracy: 72.70%\n",
      "[7,000] Accuracy: 73.32%\n",
      "[8,000] Accuracy: 72.77%\n",
      "[9,000] Accuracy: 72.65%\n",
      "[10,000] Accuracy: 72.70%\n",
      "[11,000] Accuracy: 73.07%\n",
      "[12,000] Accuracy: 73.36%\n",
      "[13,000] Accuracy: 73.07%\n",
      "[14,000] Accuracy: 72.73%\n",
      "[15,000] Accuracy: 72.90%\n",
      "[16,000] Accuracy: 72.69%\n",
      "[17,000] Accuracy: 72.56%\n",
      "[18,000] Accuracy: 72.27%\n"
     ]
    },
    {
     "data": {
      "text/plain": [
       "Accuracy: 72.12%"
      ]
     },
     "execution_count": 4,
     "metadata": {},
     "output_type": "execute_result"
    }
   ],
   "source": [
    "from river.naive_bayes import GaussianNB\n",
    "\n",
    "model = GaussianNB()\n",
    "metric = Accuracy()\n",
    "\n",
    "progressive_val_score(dataset=stream,\n",
    "                      model=model,\n",
    "                      metric=metric,\n",
    "                      print_every=1000)"
   ]
  },
  {
   "cell_type": "markdown",
   "metadata": {},
   "source": [
    "## K-Nearest Neighbors\n",
    "---\n",
    "[KNN](https://riverml.xyz/latest/api/neighbors/KNNClassifier/) is a non-parametric classification method that keeps track of the last window_size training samples. The predicted class-label for a given query sample is obtained in two steps:\n",
    "\n",
    "- Find the closest n_neighbors to the query sample in the data window. \n",
    "- Aggregate the class-labels of the n_neighbors to define the predicted class for the query sample."
   ]
  },
  {
   "cell_type": "code",
   "execution_count": 5,
   "metadata": {},
   "outputs": [
    {
     "name": "stdout",
     "output_type": "stream",
     "text": [
      "[1,000] Accuracy: 76.38%\n",
      "[2,000] Accuracy: 78.39%\n",
      "[3,000] Accuracy: 79.03%\n",
      "[4,000] Accuracy: 78.64%\n",
      "[5,000] Accuracy: 78.24%\n",
      "[6,000] Accuracy: 78.05%\n",
      "[7,000] Accuracy: 78.14%\n",
      "[8,000] Accuracy: 77.75%\n",
      "[9,000] Accuracy: 77.76%\n",
      "[10,000] Accuracy: 77.83%\n",
      "[11,000] Accuracy: 77.93%\n",
      "[12,000] Accuracy: 77.98%\n",
      "[13,000] Accuracy: 77.85%\n",
      "[14,000] Accuracy: 77.62%\n",
      "[15,000] Accuracy: 77.71%\n",
      "[16,000] Accuracy: 77.68%\n",
      "[17,000] Accuracy: 77.53%\n",
      "[18,000] Accuracy: 77.33%\n"
     ]
    },
    {
     "data": {
      "text/plain": [
       "Accuracy: 77.32%"
      ]
     },
     "execution_count": 5,
     "metadata": {},
     "output_type": "execute_result"
    }
   ],
   "source": [
    "from river.neighbors import KNNClassifier\n",
    "\n",
    "model = KNNClassifier(n_neighbors=5, window_size=1000)\n",
    "metric = Accuracy()\n",
    "stream = iter_pandas(X=data[features], y=data['rain'])\n",
    "\n",
    "progressive_val_score(dataset=stream,\n",
    "                      model=model,\n",
    "                      metric=metric,\n",
    "                      print_every=1000)"
   ]
  },
  {
   "cell_type": "markdown",
   "metadata": {},
   "source": [
    "## Hoeffding Tree\n",
    "---\n",
    "\n",
    "[Hoeffding Tree](https://riverml.xyz/latest/api/tree/HoeffdingTreeClassifier/) "
   ]
  },
  {
   "cell_type": "code",
   "execution_count": 6,
   "metadata": {},
   "outputs": [
    {
     "name": "stdout",
     "output_type": "stream",
     "text": [
      "[1,000] Accuracy: 71.57%\n",
      "[2,000] Accuracy: 71.54%\n",
      "[3,000] Accuracy: 71.86%\n",
      "[4,000] Accuracy: 72.97%\n",
      "[5,000] Accuracy: 73.13%\n",
      "[6,000] Accuracy: 73.21%\n",
      "[7,000] Accuracy: 73.88%\n",
      "[8,000] Accuracy: 73.57%\n",
      "[9,000] Accuracy: 73.70%\n",
      "[10,000] Accuracy: 73.77%\n",
      "[11,000] Accuracy: 74.15%\n",
      "[12,000] Accuracy: 74.36%\n",
      "[13,000] Accuracy: 74.53%\n",
      "[14,000] Accuracy: 74.38%\n",
      "[15,000] Accuracy: 74.57%\n",
      "[16,000] Accuracy: 74.57%\n",
      "[17,000] Accuracy: 74.46%\n",
      "[18,000] Accuracy: 74.17%\n"
     ]
    },
    {
     "data": {
      "text/plain": [
       "Accuracy: 74.15%"
      ]
     },
     "execution_count": 6,
     "metadata": {},
     "output_type": "execute_result"
    }
   ],
   "source": [
    "from river.tree import HoeffdingTreeClassifier\n",
    "\n",
    "model = HoeffdingTreeClassifier()\n",
    "metric = Accuracy()\n",
    "stream = iter_pandas(X=data[features], y=data['rain'])\n",
    "\n",
    "progressive_val_score(dataset=stream,\n",
    "                      model=model,\n",
    "                      metric=metric,\n",
    "                      print_every=1000)"
   ]
  },
  {
   "cell_type": "markdown",
   "metadata": {},
   "source": [
    "Tree-based models are popular due to their interpretability. They use a tree data structure to model the data. When a sample arrives, it traverses the tree until it reaches a leaf node. Internal nodes define the path for a data sample based on the values of its features. Leaf nodes are models that provide predictions for unlabeled-samples and can update their internal state using the labels from labeled samples."
   ]
  },
  {
   "cell_type": "markdown",
   "metadata": {},
   "source": [
    "## Hoeffding Adaptive Tree\n",
    "---\n",
    "The [HAT](https://riverml.xyz/latest/api/tree/HoeffdingAdaptiveTreeClassifier/) model uses `ADWIN` to detect changes. If change is detected in a given branch, an alternate branch is created and eventually replaces the original branch if it shows better performance on new data."
   ]
  },
  {
   "cell_type": "code",
   "execution_count": 8,
   "metadata": {},
   "outputs": [
    {
     "name": "stdout",
     "output_type": "stream",
     "text": [
      "[1,000] Accuracy: 70.07%\n",
      "[2,000] Accuracy: 70.64%\n",
      "[3,000] Accuracy: 71.46%\n",
      "[4,000] Accuracy: 72.97%\n",
      "[5,000] Accuracy: 73.51%\n",
      "[6,000] Accuracy: 73.80%\n",
      "[7,000] Accuracy: 74.22%\n",
      "[8,000] Accuracy: 73.78%\n",
      "[9,000] Accuracy: 74.05%\n",
      "[10,000] Accuracy: 74.13%\n",
      "[11,000] Accuracy: 74.31%\n",
      "[12,000] Accuracy: 74.38%\n",
      "[13,000] Accuracy: 74.34%\n",
      "[14,000] Accuracy: 74.11%\n",
      "[15,000] Accuracy: 74.42%\n",
      "[16,000] Accuracy: 74.49%\n",
      "[17,000] Accuracy: 74.35%\n",
      "[18,000] Accuracy: 73.90%\n"
     ]
    },
    {
     "data": {
      "text/plain": [
       "Accuracy: 73.91%"
      ]
     },
     "execution_count": 8,
     "metadata": {},
     "output_type": "execute_result"
    }
   ],
   "source": [
    "from river.tree import HoeffdingAdaptiveTreeClassifier\n",
    "\n",
    "model = HoeffdingAdaptiveTreeClassifier(seed=42)\n",
    "metric = Accuracy()\n",
    "stream = iter_pandas(X=data[features], y=data['rain'])\n",
    "\n",
    "progressive_val_score(dataset=stream, \n",
    "                      model=model, \n",
    "                      metric=metric, \n",
    "                      print_every=1000)"
   ]
  },
  {
   "cell_type": "markdown",
   "metadata": {},
   "source": [
    "## Concept Drift Impact\n",
    "\n",
    "Concept drift can negatively impact learning methods if not properly handled. Multiple real-world applications suffer **model degradation** as the models can not adapt to changes in the data.\n",
    "\n",
    "---\n",
    "## `AGRAWAL` dataset\n",
    "\n",
    "We will load the data from a csv file. The data was generated using the `AGRAWAL` data generator with 3 **gradual drifts** at the 5k, 10k, and 15k marks. It contains 9 features, 6 numeric and 3 categorical.\n",
    "\n",
    "There are 10 functions for generating binary class labels from the features. These functions determine whether a **loan** should be approved.\n",
    "\n",
    "| Feature    | Description            | Values                                                                |\n",
    "|------------|------------------------|-----------------------------------------------------------------------|\n",
    "| `salary`     | salary                 | uniformly distributed from 20k to 150k                                |\n",
    "| `commission` | commission             | if (salary <   75k) then 0 else uniformly distributed from 10k to 75k |\n",
    "| `age`        | age                    | uniformly distributed from 20 to 80                                   |\n",
    "| `elevel`     | education level        | uniformly chosen from 0 to 4                                          |\n",
    "| `car`        | car maker              | uniformly chosen from 1 to 20                                         |\n",
    "| `zipcode`    | zip code of the town   | uniformly chosen from 0 to 8                                          |\n",
    "| `hvalue`     | value of the house     | uniformly distributed from 50k x zipcode to 100k x zipcode            |\n",
    "| `hyears`     | years house owned      | uniformly distributed from 1 to 30                                    |\n",
    "| `loan`       | total loan amount      | uniformly distributed from 0 to 500k                                  |\n",
    "\n",
    "**Class:** `y` | 0: no loan, 1: loan\n",
    " \n",
    "**Samples:** 20,000\n",
    "\n",
    "`elevel`, `car`, and `zipcode` are categorical features."
   ]
  },
  {
   "cell_type": "code",
   "execution_count": 10,
   "metadata": {},
   "outputs": [],
   "source": [
    "data = pd.read_csv(\"../datasets/agr_a_20k.csv\")\n",
    "features = data.columns[:-1]"
   ]
  },
  {
   "cell_type": "markdown",
   "metadata": {},
   "source": [
    "## Naïve Bayes"
   ]
  },
  {
   "cell_type": "code",
   "execution_count": 11,
   "metadata": {},
   "outputs": [
    {
     "name": "stdout",
     "output_type": "stream",
     "text": [
      "[1,000] Accuracy: 84.68%\n",
      "[2,000] Accuracy: 86.64%\n",
      "[3,000] Accuracy: 87.20%\n",
      "[4,000] Accuracy: 87.70%\n",
      "[5,000] Accuracy: 87.54%\n",
      "[6,000] Accuracy: 80.68%\n",
      "[7,000] Accuracy: 74.84%\n",
      "[8,000] Accuracy: 70.93%\n",
      "[9,000] Accuracy: 68.03%\n",
      "[10,000] Accuracy: 66.25%\n",
      "[11,000] Accuracy: 66.71%\n",
      "[12,000] Accuracy: 67.25%\n",
      "[13,000] Accuracy: 67.91%\n",
      "[14,000] Accuracy: 68.68%\n",
      "[15,000] Accuracy: 69.24%\n",
      "[16,000] Accuracy: 68.25%\n",
      "[17,000] Accuracy: 67.40%\n",
      "[18,000] Accuracy: 66.84%\n",
      "[19,000] Accuracy: 66.25%\n",
      "[20,000] Accuracy: 65.86%\n"
     ]
    },
    {
     "data": {
      "text/plain": [
       "Accuracy: 65.86%"
      ]
     },
     "execution_count": 11,
     "metadata": {},
     "output_type": "execute_result"
    }
   ],
   "source": [
    "from river.naive_bayes import GaussianNB\n",
    "\n",
    "model = GaussianNB()\n",
    "metric = Accuracy()\n",
    "stream = iter_pandas(X=data[features], y=data['class'])\n",
    "\n",
    "progressive_val_score(dataset=stream,\n",
    "                      model=model,\n",
    "                      metric=metric,\n",
    "                      print_every=1000)"
   ]
  },
  {
   "cell_type": "markdown",
   "metadata": {},
   "source": [
    "## KNN with ADWIN\n",
    "---\n",
    "\n",
    "This classifier is an improvement from the regular kNN method, as it is resistant to concept drift. It uses the ADWIN change detector to decide which samples to keep and which ones to forget, and by doing so it regulates the sample window size."
   ]
  },
  {
   "cell_type": "code",
   "execution_count": 12,
   "metadata": {},
   "outputs": [
    {
     "name": "stdout",
     "output_type": "stream",
     "text": [
      "[1,000] Accuracy: 55.86%\n",
      "[2,000] Accuracy: 56.53%\n",
      "[3,000] Accuracy: 57.19%\n",
      "[4,000] Accuracy: 57.79%\n",
      "[5,000] Accuracy: 57.41%\n",
      "[6,000] Accuracy: 57.24%\n",
      "[7,000] Accuracy: 58.88%\n",
      "[8,000] Accuracy: 59.79%\n",
      "[9,000] Accuracy: 60.75%\n",
      "[10,000] Accuracy: 61.03%\n",
      "[11,000] Accuracy: 60.02%\n",
      "[12,000] Accuracy: 59.77%\n",
      "[13,000] Accuracy: 59.70%\n",
      "[14,000] Accuracy: 59.67%\n",
      "[15,000] Accuracy: 59.40%\n",
      "[16,000] Accuracy: 59.82%\n",
      "[17,000] Accuracy: 61.01%\n",
      "[18,000] Accuracy: 61.85%\n",
      "[19,000] Accuracy: 62.63%\n",
      "[20,000] Accuracy: 63.23%\n"
     ]
    },
    {
     "data": {
      "text/plain": [
       "Accuracy: 63.23%"
      ]
     },
     "execution_count": 12,
     "metadata": {},
     "output_type": "execute_result"
    }
   ],
   "source": [
    "from river.neighbors import KNNADWINClassifier\n",
    "from river import compose\n",
    "\n",
    "model = (\n",
    "    compose.Discard('elevel', 'car', 'zipcode') |\n",
    "    KNNADWINClassifier(n_neighbors=5, window_size=1000)\n",
    ")\n",
    "metric = Accuracy()\n",
    "stream = iter_pandas(X=data[features], y=data['class'])\n",
    "\n",
    "progressive_val_score(dataset=stream,\n",
    "                      model=model,\n",
    "                      metric=metric,\n",
    "                      print_every=1000)"
   ]
  },
  {
   "cell_type": "markdown",
   "metadata": {},
   "source": [
    "## Hoeffding Tree"
   ]
  },
  {
   "cell_type": "code",
   "execution_count": 13,
   "metadata": {},
   "outputs": [
    {
     "name": "stdout",
     "output_type": "stream",
     "text": [
      "[1,000] Accuracy: 82.48%\n",
      "[2,000] Accuracy: 82.89%\n",
      "[3,000] Accuracy: 84.96%\n",
      "[4,000] Accuracy: 86.50%\n",
      "[5,000] Accuracy: 87.16%\n",
      "[6,000] Accuracy: 80.85%\n",
      "[7,000] Accuracy: 76.93%\n",
      "[8,000] Accuracy: 74.75%\n",
      "[9,000] Accuracy: 74.20%\n",
      "[10,000] Accuracy: 74.49%\n",
      "[11,000] Accuracy: 73.64%\n",
      "[12,000] Accuracy: 73.57%\n",
      "[13,000] Accuracy: 73.92%\n",
      "[14,000] Accuracy: 74.65%\n",
      "[15,000] Accuracy: 75.62%\n",
      "[16,000] Accuracy: 74.25%\n",
      "[17,000] Accuracy: 73.27%\n",
      "[18,000] Accuracy: 72.83%\n",
      "[19,000] Accuracy: 72.51%\n",
      "[20,000] Accuracy: 72.37%\n"
     ]
    },
    {
     "data": {
      "text/plain": [
       "Accuracy: 72.37%"
      ]
     },
     "execution_count": 13,
     "metadata": {},
     "output_type": "execute_result"
    }
   ],
   "source": [
    "from river.tree import HoeffdingTreeClassifier\n",
    "\n",
    "model = HoeffdingTreeClassifier(nominal_attributes=['elevel', 'car', 'zipcode'])\n",
    "metric = Accuracy()\n",
    "stream = iter_pandas(X=data[features], y=data['class'])\n",
    "\n",
    "progressive_val_score(dataset=stream,\n",
    "                      model=model,\n",
    "                      metric=metric,\n",
    "                      print_every=1000)"
   ]
  },
  {
   "cell_type": "markdown",
   "metadata": {},
   "source": [
    "## Hoeffding Adaptive Tree"
   ]
  },
  {
   "cell_type": "code",
   "execution_count": 15,
   "metadata": {},
   "outputs": [
    {
     "name": "stdout",
     "output_type": "stream",
     "text": [
      "[1,000] Accuracy: 83.78%\n",
      "[2,000] Accuracy: 87.54%\n",
      "[3,000] Accuracy: 88.83%\n",
      "[4,000] Accuracy: 90.15%\n",
      "[5,000] Accuracy: 90.62%\n",
      "[6,000] Accuracy: 84.40%\n",
      "[7,000] Accuracy: 81.18%\n",
      "[8,000] Accuracy: 79.23%\n",
      "[9,000] Accuracy: 78.06%\n",
      "[10,000] Accuracy: 76.93%\n",
      "[11,000] Accuracy: 75.13%\n",
      "[12,000] Accuracy: 74.31%\n",
      "[13,000] Accuracy: 74.85%\n",
      "[14,000] Accuracy: 75.30%\n",
      "[15,000] Accuracy: 75.86%\n",
      "[16,000] Accuracy: 74.80%\n",
      "[17,000] Accuracy: 74.85%\n",
      "[18,000] Accuracy: 75.14%\n",
      "[19,000] Accuracy: 75.41%\n",
      "[20,000] Accuracy: 75.61%\n"
     ]
    },
    {
     "data": {
      "text/plain": [
       "Accuracy: 75.61%"
      ]
     },
     "execution_count": 15,
     "metadata": {},
     "output_type": "execute_result"
    }
   ],
   "source": [
    "from river.tree import HoeffdingAdaptiveTreeClassifier\n",
    "\n",
    "model = HoeffdingAdaptiveTreeClassifier(nominal_attributes=['elevel', 'car', 'zipcode'], seed=42)\n",
    "metric = Accuracy()\n",
    "stream = iter_pandas(X=data[features], y=data['class'])\n",
    "\n",
    "progressive_val_score(dataset=stream, \n",
    "                      model=model, \n",
    "                      metric=metric, \n",
    "                      print_every=1000)"
   ]
  },
  {
   "cell_type": "markdown",
   "metadata": {},
   "source": [
    "##### ![Quantia Tiny Logo](https://www.quantiaconsulting.com/logos/quantia_logo_tiny.png) Quantia Consulting, srl. All rights reserved."
   ]
  }
 ],
 "metadata": {
  "kernelspec": {
   "display_name": "Python 3",
   "language": "python",
   "name": "python3"
  },
  "language_info": {
   "codemirror_mode": {
    "name": "ipython",
    "version": 3
   },
   "file_extension": ".py",
   "mimetype": "text/x-python",
   "name": "python",
   "nbconvert_exporter": "python",
   "pygments_lexer": "ipython3",
   "version": "3.9.4"
  }
 },
 "nbformat": 4,
 "nbformat_minor": 4
}
