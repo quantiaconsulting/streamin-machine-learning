{
 "cells": [
  {
   "cell_type": "markdown",
   "metadata": {},
   "source": [
    "<div style=\"text-align: center; line-height: 0; padding-top: 2px;\">\n",
    "  <img src=\"https://www.quantiaconsulting.com/logos/quantia_logo_orizz.png\" alt=\"Quantia Consulting\" style=\"width: 600px; height: 250px\">\n",
    "</div>"
   ]
  },
  {
   "cell_type": "markdown",
   "metadata": {},
   "source": [
    "# Stream Ensemble Classification\n",
    "---\n",
    "\n",
    "## `NEWeather` dataset\n",
    "\n",
    "**Description:** The National Oceanic and Atmospheric Administration (NOAA),\n",
    "has compiled a database of weather measurements from over 7,000 weather \n",
    "stations worldwide. Records date back to the mid-1900s. Daily measurements\n",
    "include a variety of features (temperature, pressure, wind speed, etc.) as\n",
    "well as a series of indicators for precipitation and other weather-related\n",
    "events. The `NEweather` dataset contains data from this database, specifically\n",
    "from the Offutt Air Force Base in Bellevue, Nebraska ranging for over 50 years\n",
    "(1949-1999).\n",
    "\n",
    "**Features:** 8 Daily weather measurements\n",
    " \n",
    "|       Attribute      | Description |\n",
    "|:--------------------:|:-----------------------------|\n",
    "| `temp`                   | Temperature\n",
    "| `dew_pnt`                | Dew Point\n",
    "| `sea_lvl_press`          | Sea Level Pressure\n",
    "| `visibility`             | Visibility\n",
    "| `avg_wind_spd`           | Average Wind Speed\n",
    "| `max_sustained_wind_spd` | Maximum Sustained Wind Speed\n",
    "| `max_temp`               | Maximum Temperature\n",
    "| `min_temp`               | Minimum Temperature\n",
    "\n",
    "\n",
    "**Class:** `rain` | 0: no rain, 1: rain\n",
    " \n",
    "**Samples:** 18,159\n"
   ]
  },
  {
   "cell_type": "code",
   "execution_count": 2,
   "metadata": {},
   "outputs": [],
   "source": [
    "import pandas as pd\n",
    "from river.stream import iter_pandas\n",
    "from river.metrics import Accuracy\n",
    "from river.evaluate import progressive_val_score"
   ]
  },
  {
   "cell_type": "code",
   "execution_count": 2,
   "metadata": {},
   "outputs": [],
   "source": [
    "data = pd.read_csv(\"../datasets/NEweather.csv\")\n",
    "features = data.columns[:-1]"
   ]
  },
  {
   "cell_type": "markdown",
   "metadata": {},
   "source": [
    "## Online Bagging\n",
    "\n",
    "---\n",
    "[Online Bagging](https://riverml.xyz/latest/api/ensemble/BaggingClassifier/) is an Online bootstrap aggregation for classification."
   ]
  },
  {
   "cell_type": "code",
   "execution_count": 3,
   "metadata": {},
   "outputs": [
    {
     "name": "stdout",
     "output_type": "stream",
     "text": [
      "[1,000] Accuracy: 72.17%\n",
      "[2,000] Accuracy: 71.74%\n",
      "[3,000] Accuracy: 72.22%\n",
      "[4,000] Accuracy: 73.34%\n",
      "[5,000] Accuracy: 73.59%\n",
      "[6,000] Accuracy: 73.88%\n",
      "[7,000] Accuracy: 74.44%\n",
      "[8,000] Accuracy: 74.26%\n",
      "[9,000] Accuracy: 74.25%\n",
      "[10,000] Accuracy: 74.35%\n",
      "[11,000] Accuracy: 74.75%\n",
      "[12,000] Accuracy: 74.94%\n",
      "[13,000] Accuracy: 75.02%\n",
      "[14,000] Accuracy: 74.92%\n",
      "[15,000] Accuracy: 75.13%\n",
      "[16,000] Accuracy: 75.09%\n",
      "[17,000] Accuracy: 75.13%\n",
      "[18,000] Accuracy: 74.90%\n"
     ]
    },
    {
     "data": {
      "text/plain": [
       "Accuracy: 74.91%"
      ]
     },
     "execution_count": 3,
     "metadata": {},
     "output_type": "execute_result"
    }
   ],
   "source": [
    "from river.ensemble import BaggingClassifier\n",
    "from river.tree import HoeffdingTreeClassifier\n",
    "\n",
    "model = BaggingClassifier(model=HoeffdingTreeClassifier(),\n",
    "                          n_models=10,\n",
    "                          seed=42)\n",
    "metric = Accuracy()\n",
    "stream = iter_pandas(X=data[features], y=data['rain'])\n",
    "\n",
    "progressive_val_score(dataset=stream,\n",
    "                      model=model,\n",
    "                      metric=metric,\n",
    "                      print_every=1000)"
   ]
  },
  {
   "cell_type": "markdown",
   "metadata": {},
   "source": [
    "## Leveraging Bagging\n",
    "---\n",
    "\n",
    "[Leveraging Bagging](https://riverml.xyz/latest/api/ensemble/LeveragingBaggingClassifier/) is an improvement over the Oza Bagging algorithm. The bagging performance is leveraged by increasing the re-sampling. It uses a poisson distribution to simulate the re-sampling process. To increase re-sampling it uses a higher w value of the Poisson distribution (agerage number of events), 6 by default, increasing the input space diversity, by attributing a different range of weights to the data samples.\n",
    "\n",
    "To deal with concept drift, Leveraging Bagging uses the ADWIN algorithm to monitor the performance of each member of the enemble If concept drift is detected, the worst member of the ensemble (based on the error estimation by ADWIN) is replaced by a new (empty) classifier."
   ]
  },
  {
   "cell_type": "code",
   "execution_count": 4,
   "metadata": {},
   "outputs": [
    {
     "name": "stdout",
     "output_type": "stream",
     "text": [
      "[1,000] Accuracy: 75.78%\n",
      "[2,000] Accuracy: 77.14%\n",
      "[3,000] Accuracy: 78.16%\n",
      "[4,000] Accuracy: 77.89%\n",
      "[5,000] Accuracy: 77.70%\n",
      "[6,000] Accuracy: 77.61%\n",
      "[7,000] Accuracy: 77.88%\n",
      "[8,000] Accuracy: 77.62%\n",
      "[9,000] Accuracy: 77.50%\n",
      "[10,000] Accuracy: 77.58%\n",
      "[11,000] Accuracy: 77.80%\n",
      "[12,000] Accuracy: 77.93%\n",
      "[13,000] Accuracy: 78.05%\n",
      "[14,000] Accuracy: 77.78%\n",
      "[15,000] Accuracy: 77.89%\n",
      "[16,000] Accuracy: 77.89%\n",
      "[17,000] Accuracy: 77.91%\n",
      "[18,000] Accuracy: 77.71%\n"
     ]
    },
    {
     "data": {
      "text/plain": [
       "Accuracy: 77.73%"
      ]
     },
     "execution_count": 4,
     "metadata": {},
     "output_type": "execute_result"
    }
   ],
   "source": [
    "from river.ensemble import LeveragingBaggingClassifier\n",
    "from river.tree import HoeffdingTreeClassifier\n",
    "\n",
    "model = LeveragingBaggingClassifier(model=HoeffdingTreeClassifier(),\n",
    "                          n_models=10,\n",
    "                          seed=42)\n",
    "metric = Accuracy()\n",
    "stream = iter_pandas(X=data[features], y=data['rain'])\n",
    "\n",
    "progressive_val_score(dataset=stream,\n",
    "                      model=model,\n",
    "                      metric=metric,\n",
    "                      print_every=1000)"
   ]
  },
  {
   "cell_type": "markdown",
   "metadata": {},
   "source": [
    "## AdaptiveRandomForest\n",
    "---\n",
    "\n",
    "\n",
    "\n",
    "The 3 most important aspects of [ARF](https://riverml.xyz/latest/api/ensemble/AdaptiveRandomForestClassifier/) are:\n",
    "- inducing diversity through re-sampling\n",
    "- inducing diversity through randomly selecting subsets of features for node splits\n",
    "- drift detectors per base tree, which cause selective resets in response to drifts\n",
    "\n",
    "It also allows training background trees, which start training if a warning is detected and replace the active tree if the warning escalates to a drift."
   ]
  },
  {
   "cell_type": "code",
   "execution_count": 5,
   "metadata": {},
   "outputs": [
    {
     "name": "stdout",
     "output_type": "stream",
     "text": [
      "[1,000] Accuracy: 73.57%\n",
      "[2,000] Accuracy: 76.04%\n",
      "[3,000] Accuracy: 77.29%\n",
      "[4,000] Accuracy: 77.12%\n",
      "[5,000] Accuracy: 77.24%\n",
      "[6,000] Accuracy: 77.35%\n",
      "[7,000] Accuracy: 77.73%\n",
      "[8,000] Accuracy: 77.60%\n",
      "[9,000] Accuracy: 77.43%\n",
      "[10,000] Accuracy: 77.46%\n",
      "[11,000] Accuracy: 77.70%\n",
      "[12,000] Accuracy: 78.01%\n",
      "[13,000] Accuracy: 78.01%\n",
      "[14,000] Accuracy: 77.79%\n",
      "[15,000] Accuracy: 77.97%\n",
      "[16,000] Accuracy: 78.01%\n",
      "[17,000] Accuracy: 77.98%\n",
      "[18,000] Accuracy: 77.71%\n"
     ]
    },
    {
     "data": {
      "text/plain": [
       "Accuracy: 77.70%"
      ]
     },
     "execution_count": 5,
     "metadata": {},
     "output_type": "execute_result"
    }
   ],
   "source": [
    "from river.ensemble import AdaptiveRandomForestClassifier\n",
    "\n",
    "model = AdaptiveRandomForestClassifier(n_models=10)\n",
    "metric = Accuracy()\n",
    "stream = iter_pandas(X=data[features], y=data['rain'])\n",
    "\n",
    "progressive_val_score(dataset=stream,\n",
    "                      model=model,\n",
    "                      metric=metric,\n",
    "                      print_every=1000)"
   ]
  },
  {
   "cell_type": "markdown",
   "metadata": {},
   "source": [
    "## StreamingRandomPatches\n",
    "---\n",
    "[SRP](https://riverml.xyz/latest/api/ensemble/SRPClassifier/) is an ensemble method that simulates bagging or random subspaces. The default algorithm uses both bagging and random subspaces, namely Random Patches. The default base estimator is a Hoeffding Tree, but other base estimators can be used (differently from random forest variations)."
   ]
  },
  {
   "cell_type": "code",
   "execution_count": 7,
   "metadata": {},
   "outputs": [
    {
     "name": "stdout",
     "output_type": "stream",
     "text": [
      "[1,000] Accuracy: 74.37%\n",
      "[2,000] Accuracy: 76.74%\n",
      "[3,000] Accuracy: 77.89%\n",
      "[4,000] Accuracy: 78.17%\n",
      "[5,000] Accuracy: 78.16%\n",
      "[6,000] Accuracy: 78.25%\n",
      "[7,000] Accuracy: 78.73%\n",
      "[8,000] Accuracy: 78.22%\n",
      "[9,000] Accuracy: 78.22%\n",
      "[10,000] Accuracy: 78.35%\n",
      "[11,000] Accuracy: 78.59%\n",
      "[12,000] Accuracy: 78.81%\n",
      "[13,000] Accuracy: 78.74%\n",
      "[14,000] Accuracy: 78.46%\n",
      "[15,000] Accuracy: 78.59%\n",
      "[16,000] Accuracy: 78.58%\n",
      "[17,000] Accuracy: 78.61%\n",
      "[18,000] Accuracy: 78.49%\n"
     ]
    },
    {
     "data": {
      "text/plain": [
       "Accuracy: 78.52%"
      ]
     },
     "execution_count": 7,
     "metadata": {},
     "output_type": "execute_result"
    }
   ],
   "source": [
    "from river.ensemble import SRPClassifier\n",
    "from river.tree import HoeffdingTreeClassifier\n",
    "\n",
    "model = SRPClassifier(model=HoeffdingTreeClassifier(),\n",
    "                      n_models=10,\n",
    "                      seed=42)\n",
    "metric = Accuracy()\n",
    "stream = iter_pandas(X=data[features], y=data['rain'])\n",
    "\n",
    "progressive_val_score(dataset=stream, \n",
    "                      model=model, \n",
    "                      metric=metric, \n",
    "                      print_every=1000)"
   ]
  },
  {
   "cell_type": "markdown",
   "metadata": {},
   "source": [
    "## Concept Drift Impact\n",
    "\n",
    "Concept drift can negatively impact learning methods if not properly handled. Multiple real-world applications suffer **model degradation** as the models can not adapt to changes in the data.\n",
    "\n",
    "---\n",
    "## `AGRAWAL` dataset\n",
    "\n",
    "We will load the data from a csv file. The data was generated using the `AGRAWAL` data generator with 3 **gradual drifts** at the 5k, 10k, and 15k marks. It contains 9 features, 6 numeric and 3 categorical.\n",
    "\n",
    "There are 10 functions for generating binary class labels from the features. These functions determine whether a **loan** should be approved.\n",
    "\n",
    "| Feature    | Description            | Values                                                                |\n",
    "|------------|------------------------|-----------------------------------------------------------------------|\n",
    "| `salary`     | salary                 | uniformly distributed from 20k to 150k                                |\n",
    "| `commission` | commission             | if (salary <   75k) then 0 else uniformly distributed from 10k to 75k |\n",
    "| `age`        | age                    | uniformly distributed from 20 to 80                                   |\n",
    "| `elevel`     | education level        | uniformly chosen from 0 to 4                                          |\n",
    "| `car`        | car maker              | uniformly chosen from 1 to 20                                         |\n",
    "| `zipcode`    | zip code of the town   | uniformly chosen from 0 to 8                                          |\n",
    "| `hvalue`     | value of the house     | uniformly distributed from 50k x zipcode to 100k x zipcode            |\n",
    "| `hyears`     | years house owned      | uniformly distributed from 1 to 30                                    |\n",
    "| `loan`       | total loan amount      | uniformly distributed from 0 to 500k                                  |\n",
    "\n",
    "**Class:** `y` | 0: no loan, 1: loan\n",
    " \n",
    "**Samples:** 20,000\n",
    "\n",
    "`elevel`, `car`, and `zipcode` are categorical features."
   ]
  },
  {
   "cell_type": "code",
   "execution_count": 3,
   "metadata": {},
   "outputs": [],
   "source": [
    "data = pd.read_csv(\"../datasets/agr_a_20k.csv\")\n",
    "features = data.columns[:-1]"
   ]
  },
  {
   "cell_type": "markdown",
   "metadata": {},
   "source": [
    "## ADWIN Online Bagging\n",
    "\n",
    "---\n",
    "[ADWIN Online Bagging](https://riverml.xyz/latest/api/ensemble/ADWINBaggingClassifier/) is the online bagging method with the addition of the ADWIN algorithm as a change detector. If concept drift is detected, the worst member of the ensemble (based on the error estimation by ADWIN) is replaced by a new (empty) classifier."
   ]
  },
  {
   "cell_type": "code",
   "execution_count": 11,
   "metadata": {},
   "outputs": [
    {
     "name": "stdout",
     "output_type": "stream",
     "text": [
      "[1,000] Accuracy: 79.58%\n",
      "[2,000] Accuracy: 85.59%\n",
      "[3,000] Accuracy: 86.50%\n",
      "[4,000] Accuracy: 88.30%\n",
      "[5,000] Accuracy: 88.66%\n",
      "[6,000] Accuracy: 84.06%\n",
      "[7,000] Accuracy: 82.23%\n",
      "[8,000] Accuracy: 81.16%\n",
      "[9,000] Accuracy: 80.15%\n",
      "[10,000] Accuracy: 78.89%\n",
      "[11,000] Accuracy: 77.28%\n",
      "[12,000] Accuracy: 77.01%\n",
      "[13,000] Accuracy: 77.15%\n",
      "[14,000] Accuracy: 77.48%\n",
      "[15,000] Accuracy: 77.77%\n",
      "[16,000] Accuracy: 76.94%\n",
      "[17,000] Accuracy: 76.58%\n",
      "[18,000] Accuracy: 76.46%\n",
      "[19,000] Accuracy: 76.27%\n",
      "[20,000] Accuracy: 75.89%\n"
     ]
    },
    {
     "data": {
      "text/plain": [
       "Accuracy: 75.89%"
      ]
     },
     "execution_count": 11,
     "metadata": {},
     "output_type": "execute_result"
    }
   ],
   "source": [
    "from river.ensemble import ADWINBaggingClassifier\n",
    "from river.tree import HoeffdingTreeClassifier\n",
    "\n",
    "model = ADWINBaggingClassifier(model=HoeffdingTreeClassifier(nominal_attributes=['elevel', 'car', 'zipcode']),\n",
    "                          n_models=10,\n",
    "                          seed=42)\n",
    "metric = Accuracy()\n",
    "stream = iter_pandas(X=data[features], y=data['class'])\n",
    "\n",
    "progressive_val_score(dataset=stream,\n",
    "                      model=model,\n",
    "                      metric=metric,\n",
    "                      print_every=1000)"
   ]
  },
  {
   "cell_type": "markdown",
   "metadata": {},
   "source": [
    "## Leveraging Bagging"
   ]
  },
  {
   "cell_type": "code",
   "execution_count": 12,
   "metadata": {},
   "outputs": [
    {
     "name": "stdout",
     "output_type": "stream",
     "text": [
      "[1,000] Accuracy: 75.48%\n",
      "[2,000] Accuracy: 79.34%\n",
      "[3,000] Accuracy: 81.93%\n",
      "[4,000] Accuracy: 83.95%\n",
      "[5,000] Accuracy: 85.30%\n",
      "[6,000] Accuracy: 80.80%\n",
      "[7,000] Accuracy: 78.00%\n",
      "[8,000] Accuracy: 76.46%\n",
      "[9,000] Accuracy: 75.32%\n",
      "[10,000] Accuracy: 74.37%\n",
      "[11,000] Accuracy: 72.86%\n",
      "[12,000] Accuracy: 73.75%\n",
      "[13,000] Accuracy: 74.65%\n",
      "[14,000] Accuracy: 75.74%\n",
      "[15,000] Accuracy: 76.64%\n",
      "[16,000] Accuracy: 75.63%\n",
      "[17,000] Accuracy: 75.29%\n",
      "[18,000] Accuracy: 75.10%\n",
      "[19,000] Accuracy: 74.96%\n",
      "[20,000] Accuracy: 74.71%\n"
     ]
    },
    {
     "data": {
      "text/plain": [
       "Accuracy: 74.71%"
      ]
     },
     "execution_count": 12,
     "metadata": {},
     "output_type": "execute_result"
    }
   ],
   "source": [
    "from river.ensemble import LeveragingBaggingClassifier\n",
    "from river.tree import HoeffdingTreeClassifier\n",
    "\n",
    "model = LeveragingBaggingClassifier(model=HoeffdingTreeClassifier(nominal_attributes=['elevel', 'car', 'zipcode']),\n",
    "                          n_models=10,\n",
    "                          seed=42)\n",
    "metric = Accuracy()\n",
    "stream = iter_pandas(X=data[features], y=data['class'])\n",
    "\n",
    "progressive_val_score(dataset=stream,\n",
    "                      model=model,\n",
    "                      metric=metric,\n",
    "                      print_every=1000)"
   ]
  },
  {
   "cell_type": "markdown",
   "metadata": {},
   "source": [
    "## AdaptiveRandomForest"
   ]
  },
  {
   "cell_type": "code",
   "execution_count": 4,
   "metadata": {},
   "outputs": [
    {
     "name": "stdout",
     "output_type": "stream",
     "text": [
      "[1,000] Accuracy: 65.27%\n",
      "[2,000] Accuracy: 65.88%\n",
      "[3,000] Accuracy: 66.96%\n",
      "[4,000] Accuracy: 68.72%\n",
      "[5,000] Accuracy: 69.35%\n",
      "[6,000] Accuracy: 65.91%\n",
      "[7,000] Accuracy: 64.99%\n",
      "[8,000] Accuracy: 64.51%\n",
      "[9,000] Accuracy: 64.50%\n",
      "[10,000] Accuracy: 64.37%\n",
      "[11,000] Accuracy: 63.12%\n",
      "[12,000] Accuracy: 64.09%\n",
      "[13,000] Accuracy: 65.18%\n",
      "[14,000] Accuracy: 66.16%\n",
      "[15,000] Accuracy: 66.91%\n",
      "[16,000] Accuracy: 66.22%\n",
      "[17,000] Accuracy: 66.22%\n",
      "[18,000] Accuracy: 66.46%\n",
      "[19,000] Accuracy: 66.78%\n",
      "[20,000] Accuracy: 66.97%\n"
     ]
    },
    {
     "data": {
      "text/plain": [
       "Accuracy: 66.97%"
      ]
     },
     "execution_count": 4,
     "metadata": {},
     "output_type": "execute_result"
    }
   ],
   "source": [
    "from river.ensemble import AdaptiveRandomForestClassifier\n",
    "\n",
    "model = AdaptiveRandomForestClassifier(n_models=10,nominal_attributes=['elevel', 'car', 'zipcode'])\n",
    "metric = Accuracy()\n",
    "stream = iter_pandas(X=data[features], y=data['class'])\n",
    "\n",
    "progressive_val_score(dataset=stream,\n",
    "                      model=model,\n",
    "                      metric=metric,\n",
    "                      print_every=1000)"
   ]
  },
  {
   "cell_type": "markdown",
   "metadata": {},
   "source": [
    "## StreamingRandomPatches\n",
    "---\n",
    "We set the drift and warning detection options"
   ]
  },
  {
   "cell_type": "code",
   "execution_count": 15,
   "metadata": {},
   "outputs": [
    {
     "name": "stdout",
     "output_type": "stream",
     "text": [
      "[1,000] Accuracy: 92.09%\n",
      "[2,000] Accuracy: 93.25%\n",
      "[3,000] Accuracy: 93.43%\n",
      "[4,000] Accuracy: 93.80%\n",
      "[5,000] Accuracy: 93.84%\n",
      "[6,000] Accuracy: 88.25%\n",
      "[7,000] Accuracy: 84.68%\n",
      "[8,000] Accuracy: 81.96%\n",
      "[9,000] Accuracy: 80.01%\n",
      "[10,000] Accuracy: 78.35%\n",
      "[11,000] Accuracy: 77.22%\n",
      "[12,000] Accuracy: 77.56%\n",
      "[13,000] Accuracy: 78.04%\n",
      "[14,000] Accuracy: 78.84%\n",
      "[15,000] Accuracy: 79.33%\n",
      "[16,000] Accuracy: 78.67%\n",
      "[17,000] Accuracy: 78.55%\n",
      "[18,000] Accuracy: 78.56%\n",
      "[19,000] Accuracy: 78.64%\n",
      "[20,000] Accuracy: 78.51%\n"
     ]
    },
    {
     "data": {
      "text/plain": [
       "Accuracy: 78.51%"
      ]
     },
     "execution_count": 15,
     "metadata": {},
     "output_type": "execute_result"
    }
   ],
   "source": [
    "from river.ensemble import SRPClassifier\n",
    "from river.tree import HoeffdingTreeClassifier\n",
    "from river.drift import ADWIN\n",
    "\n",
    "model = SRPClassifier(model=HoeffdingTreeClassifier(nominal_attributes=['elevel', 'car', 'zipcode']),\n",
    "                      n_models=10,\n",
    "                      drift_detector=ADWIN(delta=0.001),\n",
    "                      warning_detector=ADWIN(delta=0.01),\n",
    "                      seed=42)\n",
    "metric = Accuracy()\n",
    "stream = iter_pandas(X=data[features], y=data['class'])\n",
    "\n",
    "progressive_val_score(dataset=stream, \n",
    "                      model=model, \n",
    "                      metric=metric, \n",
    "                      print_every=1000)"
   ]
  },
  {
   "cell_type": "markdown",
   "metadata": {},
   "source": [
    "##### ![Quantia Tiny Logo](https://www.quantiaconsulting.com/logos/quantia_logo_tiny.png) Quantia Consulting, srl. All rights reserved."
   ]
  }
 ],
 "metadata": {
  "kernelspec": {
   "display_name": "Python 3",
   "language": "python",
   "name": "python3"
  },
  "language_info": {
   "codemirror_mode": {
    "name": "ipython",
    "version": 3
   },
   "file_extension": ".py",
   "mimetype": "text/x-python",
   "name": "python",
   "nbconvert_exporter": "python",
   "pygments_lexer": "ipython3",
   "version": "3.7.6"
  }
 },
 "nbformat": 4,
 "nbformat_minor": 4
}
