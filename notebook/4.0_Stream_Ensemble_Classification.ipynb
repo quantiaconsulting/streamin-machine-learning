{
 "cells": [
  {
   "cell_type": "markdown",
   "metadata": {},
   "source": [
    "<div style=\"text-align: center; line-height: 0; padding-top: 2px;\">\n",
    "  <img src=\"https://www.quantiaconsulting.com/logos/quantia_logo_orizz.png\" alt=\"Quantia Consulting\" style=\"width: 600px; height: 250px\">\n",
    "</div>"
   ]
  },
  {
   "cell_type": "markdown",
   "metadata": {},
   "source": [
    "# Stream Ensemble Classification\n",
    "---\n",
    "\n",
    "## `NEWeather` dataset\n",
    "\n",
    "**Description:** The National Oceanic and Atmospheric Administration (NOAA),\n",
    "has compiled a database of weather measurements from over 7,000 weather \n",
    "stations worldwide. Records date back to the mid-1900s. Daily measurements\n",
    "include a variety of features (temperature, pressure, wind speed, etc.) as\n",
    "well as a series of indicators for precipitation and other weather-related\n",
    "events. The `NEweather` dataset contains data from this database, specifically\n",
    "from the Offutt Air Force Base in Bellevue, Nebraska ranging for over 50 years\n",
    "(1949-1999).\n",
    "\n",
    "**Features:** 8 Daily weather measurements\n",
    " \n",
    "|       Attribute      | Description |\n",
    "|:--------------------:|:-----------------------------|\n",
    "| `temp`                   | Temperature\n",
    "| `dew_pnt`                | Dew Point\n",
    "| `sea_lvl_press`          | Sea Level Pressure\n",
    "| `visibility`             | Visibility\n",
    "| `avg_wind_spd`           | Average Wind Speed\n",
    "| `max_sustained_wind_spd` | Maximum Sustained Wind Speed\n",
    "| `max_temp`               | Maximum Temperature\n",
    "| `min_temp`               | Minimum Temperature\n",
    "\n",
    "\n",
    "**Class:** `rain` | 0: no rain, 1: rain\n",
    " \n",
    "**Samples:** 18,159\n"
   ]
  },
  {
   "cell_type": "code",
   "execution_count": 1,
   "metadata": {},
   "outputs": [],
   "source": [
    "import pandas as pd\n",
    "from river.stream import iter_pandas\n",
    "from river.metrics import Metrics,Accuracy,BalancedAccuracy,CohenKappa,GeometricMean\n",
    "from river.evaluate import progressive_val_score"
   ]
  },
  {
   "cell_type": "code",
   "execution_count": 2,
   "metadata": {},
   "outputs": [],
   "source": [
    "data = pd.read_csv(\"../datasets/NEweather.csv\")\n",
    "features = data.columns[:-1]"
   ]
  },
  {
   "cell_type": "markdown",
   "metadata": {},
   "source": [
    "## Online Bagging\n",
    "\n",
    "---\n",
    "[Online Bagging](https://riverml.xyz/latest/api/ensemble/BaggingClassifier/) is an Online bootstrap aggregation for classification."
   ]
  },
  {
   "cell_type": "code",
   "execution_count": 4,
   "metadata": {
    "scrolled": true
   },
   "outputs": [
    {
     "name": "stdout",
     "output_type": "stream",
     "text": [
      "[1,000] Accuracy: 70.77%, BalancedAccuracy: 67.47%, GeometricMean: 0.668005, CohenKappa: 0.344538\n",
      "[2,000] Accuracy: 70.29%, BalancedAccuracy: 66.94%, GeometricMean: 0.664196, CohenKappa: 0.323684\n",
      "[3,000] Accuracy: 71.29%, BalancedAccuracy: 62.56%, GeometricMean: 0.590404, CohenKappa: 0.264543\n",
      "[4,000] Accuracy: 71.82%, BalancedAccuracy: 61.73%, GeometricMean: 0.56612, CohenKappa: 0.257237\n",
      "[5,000] Accuracy: 72.67%, BalancedAccuracy: 62.70%, GeometricMean: 0.576656, CohenKappa: 0.279668\n",
      "[6,000] Accuracy: 73.18%, BalancedAccuracy: 63.95%, GeometricMean: 0.597133, CohenKappa: 0.303393\n",
      "[7,000] Accuracy: 74.10%, BalancedAccuracy: 65.01%, GeometricMean: 0.610552, CohenKappa: 0.325977\n",
      "[8,000] Accuracy: 73.83%, BalancedAccuracy: 64.93%, GeometricMean: 0.610232, CohenKappa: 0.323882\n",
      "[9,000] Accuracy: 73.95%, BalancedAccuracy: 64.68%, GeometricMean: 0.603003, CohenKappa: 0.321963\n",
      "[10,000] Accuracy: 74.11%, BalancedAccuracy: 64.59%, GeometricMean: 0.600334, CohenKappa: 0.321409\n",
      "[11,000] Accuracy: 74.56%, BalancedAccuracy: 64.71%, GeometricMean: 0.599773, CohenKappa: 0.325673\n",
      "[12,000] Accuracy: 74.81%, BalancedAccuracy: 64.54%, GeometricMean: 0.595535, CohenKappa: 0.32389\n",
      "[13,000] Accuracy: 74.93%, BalancedAccuracy: 64.68%, GeometricMean: 0.595497, CohenKappa: 0.328305\n",
      "[14,000] Accuracy: 74.83%, BalancedAccuracy: 64.98%, GeometricMean: 0.599376, CohenKappa: 0.334973\n",
      "[15,000] Accuracy: 75.03%, BalancedAccuracy: 65.22%, GeometricMean: 0.602296, CohenKappa: 0.340416\n",
      "[16,000] Accuracy: 75.00%, BalancedAccuracy: 65.76%, GeometricMean: 0.610999, CohenKappa: 0.350424\n",
      "[17,000] Accuracy: 75.05%, BalancedAccuracy: 66.26%, GeometricMean: 0.620228, CohenKappa: 0.358486\n",
      "[18,000] Accuracy: 74.69%, BalancedAccuracy: 66.42%, GeometricMean: 0.625566, CohenKappa: 0.358763\n"
     ]
    },
    {
     "data": {
      "text/plain": [
       "Accuracy: 74.68%, BalancedAccuracy: 66.38%, GeometricMean: 0.625314, CohenKappa: 0.357824"
      ]
     },
     "execution_count": 4,
     "metadata": {},
     "output_type": "execute_result"
    }
   ],
   "source": [
    "from river.ensemble import BaggingClassifier\n",
    "from hoeffding_tree_classifier import HoeffdingTreeClassifier\n",
    "\n",
    "model = BaggingClassifier(model=HoeffdingTreeClassifier(),\n",
    "                          n_models=10,\n",
    "                          seed=42)\n",
    "metrics = Metrics(metrics=[Accuracy(),BalancedAccuracy(),GeometricMean(),CohenKappa()])\n",
    "stream = iter_pandas(X=data[features], y=data['rain'])\n",
    "\n",
    "progressive_val_score(dataset=stream,\n",
    "                      model=model,\n",
    "                      metric=metrics,\n",
    "                      print_every=1000)"
   ]
  },
  {
   "cell_type": "markdown",
   "metadata": {},
   "source": [
    "## Leveraging Bagging\n",
    "---\n",
    "\n",
    "[Leveraging Bagging](https://riverml.xyz/latest/api/ensemble/LeveragingBaggingClassifier/) is an improvement over the Oza Bagging algorithm. The bagging performance is leveraged by increasing the re-sampling. It uses a poisson distribution to simulate the re-sampling process. To increase re-sampling it uses a higher w value of the Poisson distribution (agerage number of events), 6 by default, increasing the input space diversity, by attributing a different range of weights to the data samples.\n",
    "\n",
    "To deal with concept drift, Leveraging Bagging uses the ADWIN algorithm to monitor the performance of each member of the enemble If concept drift is detected, the worst member of the ensemble (based on the error estimation by ADWIN) is replaced by a new (empty) classifier."
   ]
  },
  {
   "cell_type": "code",
   "execution_count": 5,
   "metadata": {},
   "outputs": [
    {
     "name": "stdout",
     "output_type": "stream",
     "text": [
      "[1,000] Accuracy: 76.48%, BalancedAccuracy: 73.05%, GeometricMean: 0.723826, CohenKappa: 0.462855\n",
      "[2,000] Accuracy: 78.04%, BalancedAccuracy: 71.86%, GeometricMean: 0.701805, CohenKappa: 0.455174\n",
      "[3,000] Accuracy: 78.53%, BalancedAccuracy: 70.76%, GeometricMean: 0.683307, CohenKappa: 0.442877\n",
      "[4,000] Accuracy: 78.02%, BalancedAccuracy: 69.92%, GeometricMean: 0.67075, CohenKappa: 0.429924\n",
      "[5,000] Accuracy: 77.88%, BalancedAccuracy: 69.91%, GeometricMean: 0.670952, CohenKappa: 0.429222\n",
      "[6,000] Accuracy: 77.81%, BalancedAccuracy: 70.48%, GeometricMean: 0.680915, CohenKappa: 0.435962\n",
      "[7,000] Accuracy: 78.25%, BalancedAccuracy: 71.20%, GeometricMean: 0.690535, CohenKappa: 0.448589\n",
      "[8,000] Accuracy: 77.85%, BalancedAccuracy: 70.79%, GeometricMean: 0.685591, CohenKappa: 0.440547\n",
      "[9,000] Accuracy: 77.75%, BalancedAccuracy: 70.38%, GeometricMean: 0.678788, CohenKappa: 0.435653\n",
      "[10,000] Accuracy: 77.98%, BalancedAccuracy: 70.44%, GeometricMean: 0.678725, CohenKappa: 0.438306\n",
      "[11,000] Accuracy: 78.14%, BalancedAccuracy: 70.44%, GeometricMean: 0.678402, CohenKappa: 0.438634\n",
      "[12,000] Accuracy: 78.25%, BalancedAccuracy: 70.38%, GeometricMean: 0.67739, CohenKappa: 0.437382\n",
      "[13,000] Accuracy: 78.39%, BalancedAccuracy: 70.70%, GeometricMean: 0.681212, CohenKappa: 0.444406\n",
      "[14,000] Accuracy: 78.28%, BalancedAccuracy: 70.92%, GeometricMean: 0.683912, CohenKappa: 0.449042\n",
      "[15,000] Accuracy: 78.45%, BalancedAccuracy: 71.18%, GeometricMean: 0.687196, CohenKappa: 0.454248\n",
      "[16,000] Accuracy: 78.52%, BalancedAccuracy: 71.70%, GeometricMean: 0.694148, CohenKappa: 0.463715\n",
      "[17,000] Accuracy: 78.45%, BalancedAccuracy: 71.93%, GeometricMean: 0.698232, CohenKappa: 0.466034\n",
      "[18,000] Accuracy: 78.22%, BalancedAccuracy: 72.22%, GeometricMean: 0.703858, CohenKappa: 0.468142\n"
     ]
    },
    {
     "data": {
      "text/plain": [
       "Accuracy: 78.24%, BalancedAccuracy: 72.22%, GeometricMean: 0.703804, CohenKappa: 0.467918"
      ]
     },
     "execution_count": 5,
     "metadata": {},
     "output_type": "execute_result"
    }
   ],
   "source": [
    "from river.ensemble import LeveragingBaggingClassifier\n",
    "from hoeffding_tree_classifier import HoeffdingTreeClassifier\n",
    "\n",
    "model = LeveragingBaggingClassifier(model=HoeffdingTreeClassifier(),\n",
    "                          n_models=10,\n",
    "                          seed=42)\n",
    "metrics = Metrics(metrics=[Accuracy(),BalancedAccuracy(),GeometricMean(),CohenKappa()])\n",
    "stream = iter_pandas(X=data[features], y=data['rain'])\n",
    "\n",
    "progressive_val_score(dataset=stream,\n",
    "                      model=model,\n",
    "                      metric=metrics,\n",
    "                      print_every=1000)"
   ]
  },
  {
   "cell_type": "markdown",
   "metadata": {},
   "source": [
    "## AdaptiveRandomForest\n",
    "---\n",
    "\n",
    "\n",
    "\n",
    "The 3 most important aspects of [ARF](https://riverml.xyz/latest/api/ensemble/AdaptiveRandomForestClassifier/) are:\n",
    "- inducing diversity through re-sampling\n",
    "- inducing diversity through randomly selecting subsets of features for node splits\n",
    "- drift detectors per base tree, which cause selective resets in response to drifts\n",
    "\n",
    "It also allows training background trees, which start training if a warning is detected and replace the active tree if the warning escalates to a drift."
   ]
  },
  {
   "cell_type": "code",
   "execution_count": 6,
   "metadata": {},
   "outputs": [
    {
     "name": "stdout",
     "output_type": "stream",
     "text": [
      "[1,000] Accuracy: 73.57%, BalancedAccuracy: 65.76%, GeometricMean: 0.617855, CohenKappa: 0.343963\n",
      "[2,000] Accuracy: 76.24%, BalancedAccuracy: 66.70%, GeometricMean: 0.623128, CohenKappa: 0.371088\n",
      "[3,000] Accuracy: 77.33%, BalancedAccuracy: 66.64%, GeometricMean: 0.616279, CohenKappa: 0.376225\n",
      "[4,000] Accuracy: 77.19%, BalancedAccuracy: 66.55%, GeometricMean: 0.61282, CohenKappa: 0.376537\n",
      "[5,000] Accuracy: 77.20%, BalancedAccuracy: 66.79%, GeometricMean: 0.616567, CohenKappa: 0.380839\n",
      "[6,000] Accuracy: 77.21%, BalancedAccuracy: 67.50%, GeometricMean: 0.630531, CohenKappa: 0.391378\n",
      "[7,000] Accuracy: 77.97%, BalancedAccuracy: 68.60%, GeometricMean: 0.64618, CohenKappa: 0.413331\n",
      "[8,000] Accuracy: 77.92%, BalancedAccuracy: 68.88%, GeometricMean: 0.650834, CohenKappa: 0.417829\n",
      "[9,000] Accuracy: 77.75%, BalancedAccuracy: 68.59%, GeometricMean: 0.645828, CohenKappa: 0.413217\n",
      "[10,000] Accuracy: 77.75%, BalancedAccuracy: 68.45%, GeometricMean: 0.643616, CohenKappa: 0.410647\n",
      "[11,000] Accuracy: 77.97%, BalancedAccuracy: 68.53%, GeometricMean: 0.644559, CohenKappa: 0.41266\n",
      "[12,000] Accuracy: 78.30%, BalancedAccuracy: 68.85%, GeometricMean: 0.649358, CohenKappa: 0.418941\n",
      "[13,000] Accuracy: 78.24%, BalancedAccuracy: 68.99%, GeometricMean: 0.651275, CohenKappa: 0.421483\n",
      "[14,000] Accuracy: 78.03%, BalancedAccuracy: 69.14%, GeometricMean: 0.653345, CohenKappa: 0.424341\n",
      "[15,000] Accuracy: 78.10%, BalancedAccuracy: 69.29%, GeometricMean: 0.65534, CohenKappa: 0.427156\n",
      "[16,000] Accuracy: 78.13%, BalancedAccuracy: 69.76%, GeometricMean: 0.661925, CohenKappa: 0.436062\n",
      "[17,000] Accuracy: 78.13%, BalancedAccuracy: 70.07%, GeometricMean: 0.667393, CohenKappa: 0.440496\n",
      "[18,000] Accuracy: 77.98%, BalancedAccuracy: 70.48%, GeometricMean: 0.67521, CohenKappa: 0.445152\n"
     ]
    },
    {
     "data": {
      "text/plain": [
       "Accuracy: 77.97%, BalancedAccuracy: 70.45%, GeometricMean: 0.675037, CohenKappa: 0.444296"
      ]
     },
     "execution_count": 6,
     "metadata": {},
     "output_type": "execute_result"
    }
   ],
   "source": [
    "from adaptive_random_forest import AdaptiveRandomForestClassifier\n",
    "\n",
    "model = AdaptiveRandomForestClassifier(n_models=10)\n",
    "metrics = Metrics(metrics=[Accuracy(),BalancedAccuracy(),GeometricMean(),CohenKappa()])\n",
    "stream = iter_pandas(X=data[features], y=data['rain'])\n",
    "\n",
    "progressive_val_score(dataset=stream,\n",
    "                      model=model,\n",
    "                      metric=metrics,\n",
    "                      print_every=1000)"
   ]
  },
  {
   "cell_type": "markdown",
   "metadata": {},
   "source": [
    "## StreamingRandomPatches\n",
    "---\n",
    "[SRP](https://riverml.xyz/latest/api/ensemble/SRPClassifier/) is an ensemble method that simulates bagging or random subspaces. The default algorithm uses both bagging and random subspaces, namely Random Patches. The default base estimator is a Hoeffding Tree, but other base estimators can be used (differently from random forest variations)."
   ]
  },
  {
   "cell_type": "code",
   "execution_count": 7,
   "metadata": {},
   "outputs": [
    {
     "name": "stdout",
     "output_type": "stream",
     "text": [
      "[1,000] Accuracy: 74.77%, BalancedAccuracy: 67.28%, GeometricMean: 0.637276, CohenKappa: 0.375938\n",
      "[2,000] Accuracy: 76.49%, BalancedAccuracy: 66.64%, GeometricMean: 0.619467, CohenKappa: 0.372717\n",
      "[3,000] Accuracy: 77.89%, BalancedAccuracy: 67.07%, GeometricMean: 0.619651, CohenKappa: 0.388269\n",
      "[4,000] Accuracy: 77.99%, BalancedAccuracy: 67.64%, GeometricMean: 0.627428, CohenKappa: 0.400094\n",
      "[5,000] Accuracy: 78.06%, BalancedAccuracy: 67.94%, GeometricMean: 0.63199, CohenKappa: 0.405894\n",
      "[6,000] Accuracy: 77.93%, BalancedAccuracy: 68.11%, GeometricMean: 0.635992, CohenKappa: 0.407224\n",
      "[7,000] Accuracy: 78.37%, BalancedAccuracy: 68.79%, GeometricMean: 0.646277, CohenKappa: 0.420215\n",
      "[8,000] Accuracy: 77.96%, BalancedAccuracy: 68.57%, GeometricMean: 0.644514, CohenKappa: 0.41425\n",
      "[9,000] Accuracy: 77.91%, BalancedAccuracy: 68.44%, GeometricMean: 0.641418, CohenKappa: 0.412953\n",
      "[10,000] Accuracy: 78.10%, BalancedAccuracy: 68.57%, GeometricMean: 0.642915, CohenKappa: 0.41615\n",
      "[11,000] Accuracy: 78.35%, BalancedAccuracy: 68.68%, GeometricMean: 0.644202, CohenKappa: 0.418955\n",
      "[12,000] Accuracy: 78.51%, BalancedAccuracy: 68.62%, GeometricMean: 0.642988, CohenKappa: 0.418255\n",
      "[13,000] Accuracy: 78.58%, BalancedAccuracy: 68.94%, GeometricMean: 0.647187, CohenKappa: 0.424711\n",
      "[14,000] Accuracy: 78.31%, BalancedAccuracy: 69.04%, GeometricMean: 0.648764, CohenKappa: 0.426119\n",
      "[15,000] Accuracy: 78.38%, BalancedAccuracy: 69.17%, GeometricMean: 0.650479, CohenKappa: 0.428786\n",
      "[16,000] Accuracy: 78.33%, BalancedAccuracy: 69.63%, GeometricMean: 0.657544, CohenKappa: 0.436667\n",
      "[17,000] Accuracy: 78.45%, BalancedAccuracy: 70.07%, GeometricMean: 0.664564, CohenKappa: 0.443957\n",
      "[18,000] Accuracy: 78.33%, BalancedAccuracy: 70.53%, GeometricMean: 0.673168, CohenKappa: 0.449659\n"
     ]
    },
    {
     "data": {
      "text/plain": [
       "Accuracy: 78.35%, BalancedAccuracy: 70.51%, GeometricMean: 0.672847, CohenKappa: 0.44929"
      ]
     },
     "execution_count": 7,
     "metadata": {},
     "output_type": "execute_result"
    }
   ],
   "source": [
    "from river.ensemble import SRPClassifier\n",
    "from hoeffding_tree_classifier import HoeffdingTreeClassifier\n",
    "\n",
    "model = SRPClassifier(model=HoeffdingTreeClassifier(),\n",
    "                      n_models=10,\n",
    "                      seed=42)\n",
    "metrics = Metrics(metrics=[Accuracy(),BalancedAccuracy(),GeometricMean(),CohenKappa()])\n",
    "stream = iter_pandas(X=data[features], y=data['rain'])\n",
    "\n",
    "progressive_val_score(dataset=stream, \n",
    "                      model=model, \n",
    "                      metric=metrics, \n",
    "                      print_every=1000)"
   ]
  },
  {
   "cell_type": "markdown",
   "metadata": {},
   "source": [
    "## Concept Drift Impact\n",
    "\n",
    "Concept drift can negatively impact learning methods if not properly handled. Multiple real-world applications suffer **model degradation** as the models can not adapt to changes in the data.\n",
    "\n",
    "---\n",
    "## `AGRAWAL` dataset\n",
    "\n",
    "We will load the data from a csv file. The data was generated using the `AGRAWAL` data generator with 3 **gradual drifts** at the 5k, 10k, and 15k marks. It contains 9 features, 6 numeric and 3 categorical.\n",
    "\n",
    "There are 10 functions for generating binary class labels from the features. These functions determine whether a **loan** should be approved.\n",
    "\n",
    "| Feature    | Description            | Values                                                                |\n",
    "|------------|------------------------|-----------------------------------------------------------------------|\n",
    "| `salary`     | salary                 | uniformly distributed from 20k to 150k                                |\n",
    "| `commission` | commission             | if (salary <   75k) then 0 else uniformly distributed from 10k to 75k |\n",
    "| `age`        | age                    | uniformly distributed from 20 to 80                                   |\n",
    "| `elevel`     | education level        | uniformly chosen from 0 to 4                                          |\n",
    "| `car`        | car maker              | uniformly chosen from 1 to 20                                         |\n",
    "| `zipcode`    | zip code of the town   | uniformly chosen from 0 to 8                                          |\n",
    "| `hvalue`     | value of the house     | uniformly distributed from 50k x zipcode to 100k x zipcode            |\n",
    "| `hyears`     | years house owned      | uniformly distributed from 1 to 30                                    |\n",
    "| `loan`       | total loan amount      | uniformly distributed from 0 to 500k                                  |\n",
    "\n",
    "**Class:** `y` | 0: no loan, 1: loan\n",
    " \n",
    "**Samples:** 20,000\n",
    "\n",
    "`elevel`, `car`, and `zipcode` are categorical features."
   ]
  },
  {
   "cell_type": "code",
   "execution_count": 9,
   "metadata": {},
   "outputs": [],
   "source": [
    "data = pd.read_csv(\"../datasets/agr_a_20k.csv\")\n",
    "features = data.columns[:-1]"
   ]
  },
  {
   "cell_type": "markdown",
   "metadata": {},
   "source": [
    "## ADWIN Online Bagging\n",
    "\n",
    "---\n",
    "[ADWIN Online Bagging](https://riverml.xyz/latest/api/ensemble/ADWINBaggingClassifier/) is the online bagging method with the addition of the ADWIN algorithm as a change detector. If concept drift is detected, the worst member of the ensemble (based on the error estimation by ADWIN) is replaced by a new (empty) classifier."
   ]
  },
  {
   "cell_type": "code",
   "execution_count": 11,
   "metadata": {},
   "outputs": [
    {
     "name": "stdout",
     "output_type": "stream",
     "text": [
      "[1,000] Accuracy: 81.58%, BalancedAccuracy: 74.02%, GeometricMean: 0.704663, CohenKappa: 0.536913\n",
      "[2,000] Accuracy: 86.14%, BalancedAccuracy: 82.00%, GeometricMean: 0.809692, CohenKappa: 0.674807\n",
      "[3,000] Accuracy: 87.23%, BalancedAccuracy: 83.85%, GeometricMean: 0.832175, CohenKappa: 0.703022\n",
      "[4,000] Accuracy: 88.45%, BalancedAccuracy: 85.52%, GeometricMean: 0.850896, CohenKappa: 0.731245\n",
      "[5,000] Accuracy: 88.52%, BalancedAccuracy: 85.62%, GeometricMean: 0.851896, CohenKappa: 0.733577\n",
      "[6,000] Accuracy: 83.41%, BalancedAccuracy: 80.88%, GeometricMean: 0.802302, CohenKappa: 0.636114\n",
      "[7,000] Accuracy: 80.48%, BalancedAccuracy: 78.94%, GeometricMean: 0.784531, CohenKappa: 0.589459\n",
      "[8,000] Accuracy: 79.11%, BalancedAccuracy: 78.21%, GeometricMean: 0.778868, CohenKappa: 0.570452\n",
      "[9,000] Accuracy: 77.32%, BalancedAccuracy: 76.88%, GeometricMean: 0.767027, CohenKappa: 0.54051\n",
      "[10,000] Accuracy: 75.84%, BalancedAccuracy: 75.62%, GeometricMean: 0.755134, CohenKappa: 0.513835\n",
      "[11,000] Accuracy: 74.11%, BalancedAccuracy: 73.87%, GeometricMean: 0.738151, CohenKappa: 0.478048\n",
      "[12,000] Accuracy: 73.91%, BalancedAccuracy: 73.55%, GeometricMean: 0.73468, CohenKappa: 0.47193\n",
      "[13,000] Accuracy: 74.34%, BalancedAccuracy: 73.78%, GeometricMean: 0.736244, CohenKappa: 0.477494\n",
      "[14,000] Accuracy: 74.69%, BalancedAccuracy: 73.86%, GeometricMean: 0.73605, CohenKappa: 0.480545\n",
      "[15,000] Accuracy: 75.09%, BalancedAccuracy: 74.04%, GeometricMean: 0.736989, CohenKappa: 0.485457\n",
      "[16,000] Accuracy: 74.31%, BalancedAccuracy: 73.32%, GeometricMean: 0.72907, CohenKappa: 0.471712\n",
      "[17,000] Accuracy: 73.69%, BalancedAccuracy: 72.87%, GeometricMean: 0.724588, CohenKappa: 0.46231\n",
      "[18,000] Accuracy: 73.50%, BalancedAccuracy: 72.86%, GeometricMean: 0.724922, CohenKappa: 0.461301\n",
      "[19,000] Accuracy: 73.31%, BalancedAccuracy: 72.85%, GeometricMean: 0.725351, CohenKappa: 0.460097\n",
      "[20,000] Accuracy: 73.14%, BalancedAccuracy: 72.81%, GeometricMean: 0.725466, CohenKappa: 0.458589\n"
     ]
    },
    {
     "data": {
      "text/plain": [
       "Accuracy: 73.14%, BalancedAccuracy: 72.81%, GeometricMean: 0.725466, CohenKappa: 0.458589"
      ]
     },
     "execution_count": 11,
     "metadata": {},
     "output_type": "execute_result"
    }
   ],
   "source": [
    "from river.ensemble import ADWINBaggingClassifier\n",
    "from hoeffding_tree_classifier import HoeffdingTreeClassifier\n",
    "\n",
    "model = ADWINBaggingClassifier(model=HoeffdingTreeClassifier(nominal_attributes=['elevel', 'car', 'zipcode']),\n",
    "                          n_models=10,\n",
    "                          seed=42)\n",
    "metrics = Metrics(metrics=[Accuracy(),BalancedAccuracy(),GeometricMean(),CohenKappa()])\n",
    "stream = iter_pandas(X=data[features], y=data['class'])\n",
    "\n",
    "progressive_val_score(dataset=stream,\n",
    "                      model=model,\n",
    "                      metric=metrics,\n",
    "                      print_every=1000)"
   ]
  },
  {
   "cell_type": "markdown",
   "metadata": {},
   "source": [
    "## Leveraging Bagging"
   ]
  },
  {
   "cell_type": "code",
   "execution_count": 12,
   "metadata": {},
   "outputs": [
    {
     "name": "stdout",
     "output_type": "stream",
     "text": [
      "[1,000] Accuracy: 73.17%, BalancedAccuracy: 65.54%, GeometricMean: 0.614105, CohenKappa: 0.339901\n",
      "[2,000] Accuracy: 77.89%, BalancedAccuracy: 71.38%, GeometricMean: 0.683953, CohenKappa: 0.464885\n",
      "[3,000] Accuracy: 79.96%, BalancedAccuracy: 73.86%, GeometricMean: 0.714632, CohenKappa: 0.515299\n",
      "[4,000] Accuracy: 81.95%, BalancedAccuracy: 76.14%, GeometricMean: 0.741993, CohenKappa: 0.561654\n",
      "[5,000] Accuracy: 83.22%, BalancedAccuracy: 78.06%, GeometricMean: 0.765253, CohenKappa: 0.597349\n",
      "[6,000] Accuracy: 78.45%, BalancedAccuracy: 74.95%, GeometricMean: 0.736033, CohenKappa: 0.520805\n",
      "[7,000] Accuracy: 75.97%, BalancedAccuracy: 74.10%, GeometricMean: 0.733508, CohenKappa: 0.492701\n",
      "[8,000] Accuracy: 74.92%, BalancedAccuracy: 73.91%, GeometricMean: 0.734936, CohenKappa: 0.483979\n",
      "[9,000] Accuracy: 74.24%, BalancedAccuracy: 73.75%, GeometricMean: 0.735227, CohenKappa: 0.477857\n",
      "[10,000] Accuracy: 73.60%, BalancedAccuracy: 73.38%, GeometricMean: 0.732717, CohenKappa: 0.468843\n",
      "[11,000] Accuracy: 72.16%, BalancedAccuracy: 71.94%, GeometricMean: 0.718819, CohenKappa: 0.439079\n",
      "[12,000] Accuracy: 73.06%, BalancedAccuracy: 72.75%, GeometricMean: 0.72678, CohenKappa: 0.455276\n",
      "[13,000] Accuracy: 73.86%, BalancedAccuracy: 73.38%, GeometricMean: 0.732665, CohenKappa: 0.4686\n",
      "[14,000] Accuracy: 74.98%, BalancedAccuracy: 74.35%, GeometricMean: 0.742075, CohenKappa: 0.488477\n",
      "[15,000] Accuracy: 75.92%, BalancedAccuracy: 75.18%, GeometricMean: 0.7502, CohenKappa: 0.505609\n",
      "[16,000] Accuracy: 74.88%, BalancedAccuracy: 74.25%, GeometricMean: 0.740871, CohenKappa: 0.487074\n",
      "[17,000] Accuracy: 74.52%, BalancedAccuracy: 74.13%, GeometricMean: 0.740381, CohenKappa: 0.483613\n",
      "[18,000] Accuracy: 74.19%, BalancedAccuracy: 73.96%, GeometricMean: 0.739131, CohenKappa: 0.479525\n",
      "[19,000] Accuracy: 74.00%, BalancedAccuracy: 73.88%, GeometricMean: 0.738565, CohenKappa: 0.477632\n",
      "[20,000] Accuracy: 73.68%, BalancedAccuracy: 73.62%, GeometricMean: 0.736103, CohenKappa: 0.47227\n"
     ]
    },
    {
     "data": {
      "text/plain": [
       "Accuracy: 73.68%, BalancedAccuracy: 73.62%, GeometricMean: 0.736103, CohenKappa: 0.47227"
      ]
     },
     "execution_count": 12,
     "metadata": {},
     "output_type": "execute_result"
    }
   ],
   "source": [
    "from river.ensemble import LeveragingBaggingClassifier\n",
    "from hoeffding_tree_classifier import HoeffdingTreeClassifier\n",
    "\n",
    "model = LeveragingBaggingClassifier(model=HoeffdingTreeClassifier(nominal_attributes=['elevel', 'car', 'zipcode']),\n",
    "                          n_models=10,\n",
    "                          seed=42)\n",
    "metrics = Metrics(metrics=[Accuracy(),BalancedAccuracy(),GeometricMean(),CohenKappa()])\n",
    "stream = iter_pandas(X=data[features], y=data['class'])\n",
    "\n",
    "progressive_val_score(dataset=stream,\n",
    "                      model=model,\n",
    "                      metric=metrics,\n",
    "                      print_every=1000)"
   ]
  },
  {
   "cell_type": "markdown",
   "metadata": {},
   "source": [
    "## AdaptiveRandomForest"
   ]
  },
  {
   "cell_type": "code",
   "execution_count": 13,
   "metadata": {},
   "outputs": [
    {
     "name": "stdout",
     "output_type": "stream",
     "text": [
      "[1,000] Accuracy: 72.47%, BalancedAccuracy: 64.71%, GeometricMean: 0.60385, CohenKappa: 0.322104\n",
      "[2,000] Accuracy: 75.84%, BalancedAccuracy: 68.87%, GeometricMean: 0.652994, CohenKappa: 0.4123\n",
      "[3,000] Accuracy: 76.86%, BalancedAccuracy: 69.59%, GeometricMean: 0.659494, CohenKappa: 0.43053\n",
      "[4,000] Accuracy: 78.74%, BalancedAccuracy: 71.66%, GeometricMean: 0.685575, CohenKappa: 0.474192\n",
      "[5,000] Accuracy: 79.38%, BalancedAccuracy: 72.52%, GeometricMean: 0.695778, CohenKappa: 0.492122\n",
      "[6,000] Accuracy: 74.88%, BalancedAccuracy: 69.68%, GeometricMean: 0.664408, CohenKappa: 0.423866\n",
      "[7,000] Accuracy: 73.14%, BalancedAccuracy: 70.48%, GeometricMean: 0.688771, CohenKappa: 0.424788\n",
      "[8,000] Accuracy: 72.23%, BalancedAccuracy: 70.95%, GeometricMean: 0.702484, CohenKappa: 0.426043\n",
      "[9,000] Accuracy: 71.67%, BalancedAccuracy: 71.14%, GeometricMean: 0.708659, CohenKappa: 0.425568\n",
      "[10,000] Accuracy: 70.97%, BalancedAccuracy: 70.79%, GeometricMean: 0.707188, CohenKappa: 0.416524\n",
      "[11,000] Accuracy: 68.72%, BalancedAccuracy: 68.66%, GeometricMean: 0.686523, CohenKappa: 0.372027\n",
      "[12,000] Accuracy: 67.98%, BalancedAccuracy: 67.88%, GeometricMean: 0.678681, CohenKappa: 0.355984\n",
      "[13,000] Accuracy: 68.09%, BalancedAccuracy: 67.74%, GeometricMean: 0.676776, CohenKappa: 0.354085\n",
      "[14,000] Accuracy: 68.72%, BalancedAccuracy: 68.14%, GeometricMean: 0.680021, CohenKappa: 0.362644\n",
      "[15,000] Accuracy: 69.39%, BalancedAccuracy: 68.56%, GeometricMean: 0.683351, CohenKappa: 0.372285\n",
      "[16,000] Accuracy: 68.37%, BalancedAccuracy: 67.51%, GeometricMean: 0.6718, CohenKappa: 0.352643\n",
      "[17,000] Accuracy: 68.47%, BalancedAccuracy: 67.91%, GeometricMean: 0.676997, CohenKappa: 0.359716\n",
      "[18,000] Accuracy: 68.80%, BalancedAccuracy: 68.46%, GeometricMean: 0.683475, CohenKappa: 0.36997\n",
      "[19,000] Accuracy: 69.08%, BalancedAccuracy: 68.90%, GeometricMean: 0.688469, CohenKappa: 0.378237\n",
      "[20,000] Accuracy: 69.35%, BalancedAccuracy: 69.26%, GeometricMean: 0.692444, CohenKappa: 0.385285\n"
     ]
    },
    {
     "data": {
      "text/plain": [
       "Accuracy: 69.35%, BalancedAccuracy: 69.26%, GeometricMean: 0.692444, CohenKappa: 0.385285"
      ]
     },
     "execution_count": 13,
     "metadata": {},
     "output_type": "execute_result"
    }
   ],
   "source": [
    "from adaptive_random_forest import AdaptiveRandomForestClassifier\n",
    "\n",
    "model = AdaptiveRandomForestClassifier(n_models=10,nominal_attributes=['elevel', 'car', 'zipcode'])\n",
    "metrics = Metrics(metrics=[Accuracy(),BalancedAccuracy(),GeometricMean(),CohenKappa()])\n",
    "stream = iter_pandas(X=data[features], y=data['class'])\n",
    "\n",
    "progressive_val_score(dataset=stream,\n",
    "                      model=model,\n",
    "                      metric=metrics,\n",
    "                      print_every=1000)"
   ]
  },
  {
   "cell_type": "markdown",
   "metadata": {},
   "source": [
    "## StreamingRandomPatches\n",
    "---\n",
    "We set the drift and warning detection options"
   ]
  },
  {
   "cell_type": "code",
   "execution_count": 14,
   "metadata": {},
   "outputs": [
    {
     "name": "stdout",
     "output_type": "stream",
     "text": [
      "[1,000] Accuracy: 89.29%, BalancedAccuracy: 85.81%, GeometricMean: 0.851739, CohenKappa: 0.748235\n",
      "[2,000] Accuracy: 91.75%, BalancedAccuracy: 89.38%, GeometricMean: 0.890658, CohenKappa: 0.810822\n",
      "[3,000] Accuracy: 92.43%, BalancedAccuracy: 90.39%, GeometricMean: 0.901719, CohenKappa: 0.826536\n",
      "[4,000] Accuracy: 93.02%, BalancedAccuracy: 91.20%, GeometricMean: 0.910467, CohenKappa: 0.839381\n",
      "[5,000] Accuracy: 93.28%, BalancedAccuracy: 91.59%, GeometricMean: 0.914569, CohenKappa: 0.845964\n",
      "[6,000] Accuracy: 87.50%, BalancedAccuracy: 86.57%, GeometricMean: 0.864886, CohenKappa: 0.733074\n",
      "[7,000] Accuracy: 84.43%, BalancedAccuracy: 84.17%, GeometricMean: 0.841526, CohenKappa: 0.679959\n",
      "[8,000] Accuracy: 82.55%, BalancedAccuracy: 82.56%, GeometricMean: 0.825626, CohenKappa: 0.647289\n",
      "[9,000] Accuracy: 80.85%, BalancedAccuracy: 80.98%, GeometricMean: 0.809676, CohenKappa: 0.616305\n",
      "[10,000] Accuracy: 79.18%, BalancedAccuracy: 79.36%, GeometricMean: 0.792921, CohenKappa: 0.584297\n",
      "[11,000] Accuracy: 77.59%, BalancedAccuracy: 77.85%, GeometricMean: 0.777843, CohenKappa: 0.552499\n",
      "[12,000] Accuracy: 78.63%, BalancedAccuracy: 78.85%, GeometricMean: 0.788159, CohenKappa: 0.572009\n",
      "[13,000] Accuracy: 79.72%, BalancedAccuracy: 79.91%, GeometricMean: 0.79894, CohenKappa: 0.592549\n",
      "[14,000] Accuracy: 80.82%, BalancedAccuracy: 80.98%, GeometricMean: 0.809711, CohenKappa: 0.613168\n",
      "[15,000] Accuracy: 81.70%, BalancedAccuracy: 81.81%, GeometricMean: 0.81808, CohenKappa: 0.629616\n",
      "[16,000] Accuracy: 80.84%, BalancedAccuracy: 80.89%, GeometricMean: 0.808913, CohenKappa: 0.613332\n",
      "[17,000] Accuracy: 80.72%, BalancedAccuracy: 80.80%, GeometricMean: 0.807975, CohenKappa: 0.612448\n",
      "[18,000] Accuracy: 80.65%, BalancedAccuracy: 80.74%, GeometricMean: 0.807339, CohenKappa: 0.611916\n",
      "[19,000] Accuracy: 80.64%, BalancedAccuracy: 80.73%, GeometricMean: 0.807217, CohenKappa: 0.612442\n",
      "[20,000] Accuracy: 80.50%, BalancedAccuracy: 80.58%, GeometricMean: 0.805648, CohenKappa: 0.609963\n"
     ]
    },
    {
     "data": {
      "text/plain": [
       "Accuracy: 80.50%, BalancedAccuracy: 80.58%, GeometricMean: 0.805648, CohenKappa: 0.609963"
      ]
     },
     "execution_count": 14,
     "metadata": {},
     "output_type": "execute_result"
    }
   ],
   "source": [
    "from river.ensemble import SRPClassifier\n",
    "from hoeffding_tree_classifier import HoeffdingTreeClassifier\n",
    "from river.drift import ADWIN\n",
    "\n",
    "model = SRPClassifier(model=HoeffdingTreeClassifier(nominal_attributes=['elevel', 'car', 'zipcode']),\n",
    "                      n_models=10,\n",
    "                      drift_detector=ADWIN(delta=0.001),\n",
    "                      warning_detector=ADWIN(delta=0.01),\n",
    "                      seed=42)\n",
    "\n",
    "metrics = Metrics(metrics=[Accuracy(),BalancedAccuracy(),GeometricMean(),CohenKappa()])\n",
    "stream = iter_pandas(X=data[features], y=data['class'])\n",
    "\n",
    "progressive_val_score(dataset=stream, \n",
    "                      model=model, \n",
    "                      metric=metrics, \n",
    "                      print_every=1000)"
   ]
  },
  {
   "cell_type": "markdown",
   "metadata": {},
   "source": [
    "##### ![Quantia Tiny Logo](https://www.quantiaconsulting.com/logos/quantia_logo_tiny.png) Quantia Consulting, srl. All rights reserved."
   ]
  }
 ],
 "metadata": {
  "kernelspec": {
   "display_name": "Python 3 (ipykernel)",
   "language": "python",
   "name": "python3"
  },
  "language_info": {
   "codemirror_mode": {
    "name": "ipython",
    "version": 3
   },
   "file_extension": ".py",
   "mimetype": "text/x-python",
   "name": "python",
   "nbconvert_exporter": "python",
   "pygments_lexer": "ipython3",
   "version": "3.10.2"
  }
 },
 "nbformat": 4,
 "nbformat_minor": 4
}
