{
 "cells": [
  {
   "cell_type": "markdown",
   "metadata": {},
   "source": [
    "<div style=\"text-align: center; line-height: 0; padding-top: 2px;\">\n",
    "  <img src=\"https://www.quantiaconsulting.com/logos/quantia_logo_orizz.png\" alt=\"Quantia Consulting\" style=\"width: 600px; height: 250px\">\n",
    "</div>"
   ]
  },
  {
   "cell_type": "markdown",
   "metadata": {},
   "source": [
    "# Prequential Error"
   ]
  },
  {
   "cell_type": "code",
   "execution_count": null,
   "metadata": {},
   "outputs": [],
   "source": [
    "import numpy as np\n",
    "from sklearn import datasets as skdatasets\n",
    "from river.stream import iter_sklearn_dataset\n",
    "from river.naive_bayes import GaussianNB\n",
    "from river.metrics import Accuracy"
   ]
  },
  {
   "cell_type": "code",
   "execution_count": null,
   "metadata": {},
   "outputs": [],
   "source": [
    "iris = skdatasets.load_iris()"
   ]
  },
  {
   "cell_type": "markdown",
   "metadata": {},
   "source": [
    "## The `progressive_val_score` method\n",
    "\n",
    "The [progressive_val_score](https://riverml.xyz/latest/api/evaluate/progressive-val-score/) method implements the prequential evaluation. It requires three components: \n",
    "\n",
    "- a data stream\n",
    "- a model\n",
    "- a metric"
   ]
  },
  {
   "cell_type": "code",
   "execution_count": null,
   "metadata": {},
   "outputs": [],
   "source": [
    "from river.evaluate import <FILL-IN>\n",
    "\n",
    "# Setup stream and estimators\n",
    "stream = iter_sklearn_dataset(iris, shuffle=True, seed=42)\n",
    "model = GaussianNB()\n",
    "metric = Accuracy()\n",
    "print_every=10\n",
    "\n",
    "# Setup evaluator\n",
    "<FILL-IN>"
   ]
  },
  {
   "cell_type": "markdown",
   "metadata": {},
   "source": [
    "#### The [progressive_val_score](https://riverml.xyz/latest/api/evaluate/progressive-val-score/) method saves all the predictions in memory and uses all of them to compute the metrics"
   ]
  },
  {
   "cell_type": "markdown",
   "metadata": {},
   "source": [
    "## Sliding Window Prequential Error\n",
    "---\n",
    "\n",
    "The [Rolling](https://riverml.xyz/0.11.1/api/metrics/Rolling/) method is a wrapper that allows you to apply a metric over a window of observations. Under the hood, a buffer with the window_size most recent pairs of (y_true, y_pred) is memorised. When the buffer is full, the oldest pair is removed and the revert method of the metric is called with said pair."
   ]
  },
  {
   "cell_type": "code",
   "execution_count": null,
   "metadata": {},
   "outputs": [],
   "source": [
    "from river.metrics import <FILL-IN>\n",
    "\n",
    "window_size=50\n",
    "\n",
    "metric = <FILL-IN>\n",
    "model = GaussianNB()\n",
    "stream = iter_sklearn_dataset(iris, shuffle=True, seed=42)\n",
    "\n",
    "# Setup evaluator\n",
    "<FILL-IN>"
   ]
  },
  {
   "cell_type": "markdown",
   "metadata": {},
   "source": [
    "## Fading Factor Prequential Error\n",
    "---\n",
    "It gives more importance to the new predictions and less importance to the oldest ones.\n",
    "The estimation is updated in this way:\n",
    "\n",
    "- correct_pred = $\\alpha$ * correct_pred + value\n",
    "- total_seen = $\\alpha$ * total_seen + 1.0\n",
    "\n",
    "with $0 < \\alpha \\leq 1$. The larger $\\alpha$ is, the greater the old predictions importance is."
   ]
  },
  {
   "cell_type": "code",
   "execution_count": null,
   "metadata": {},
   "outputs": [],
   "source": [
    "correct_pred = 0.0\n",
    "total_seen = 0.0\n",
    "alpha = 0.95\n",
    "\n",
    "print_every = 10\n",
    "i = 1\n",
    "instance = 1\n",
    "\n",
    "model = GaussianNB()\n",
    "\n",
    "for x, y in iter_sklearn_dataset(iris, shuffle=True, seed=42):\n",
    "    y_p = <FILL-IN>    # Predict class\n",
    "    if y_p is not None:\n",
    "        to_add = 0.0\n",
    "        if y == y_p:\n",
    "            to_add = <FILL-IN>                                \n",
    "        correct_pred = <FILL-IN> \n",
    "        total_seen = <FILL-IN> \n",
    "   \n",
    "    if instance == print_every * i:\n",
    "        if total_seen > 0:\n",
    "            print('[' + str(instance) + '] Accuracy: ' + str(np.round((correct_pred / total_seen * 100),2)) + '%')\n",
    "        else:\n",
    "            print('[' + str(instance) + '] Accuracy: 0.00%')\n",
    "        i += 1\n",
    "        \n",
    "    <FILL-IN>         # Train the model\n",
    "    instance += 1\n",
    "    \n"
   ]
  },
  {
   "cell_type": "markdown",
   "metadata": {},
   "source": [
    "##### ![Quantia Tiny Logo](https://www.quantiaconsulting.com/logos/quantia_logo_tiny.png) Quantia Consulting, srl. All rights reserved."
   ]
  }
 ],
 "metadata": {
  "kernelspec": {
   "display_name": "Python 3 (ipykernel)",
   "language": "python",
   "name": "python3"
  },
  "language_info": {
   "codemirror_mode": {
    "name": "ipython",
    "version": 3
   },
   "file_extension": ".py",
   "mimetype": "text/x-python",
   "name": "python",
   "nbconvert_exporter": "python",
   "pygments_lexer": "ipython3",
   "version": "3.11.3"
  }
 },
 "nbformat": 4,
 "nbformat_minor": 4
}
