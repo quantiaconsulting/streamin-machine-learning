{
 "cells": [
  {
   "cell_type": "markdown",
   "metadata": {},
   "source": [
    "<div style=\"text-align: center; line-height: 0; padding-top: 2px;\">\n",
    "  <img src=\"https://www.quantiaconsulting.com/logos/quantia_logo_orizz.png\" alt=\"Quantia Consulting\" style=\"width: 600px; height: 250px\">\n",
    "</div>"
   ]
  },
  {
   "cell_type": "markdown",
   "metadata": {},
   "source": [
    "# Concept Drift Detectors - Solution\n",
    "---\n",
    "\n",
    "Dynamic environments are challenging for machine learning methods because data changes over time.\n",
    "\n",
    "For this example, we will generate a synthetic data stream by concatenating data from 3 different distributions:\n",
    "- $dist_a$: value from $0.0$ to $0.75$\n",
    "- $dist_b$: value from $0.75$ to $1.0$\n",
    "- $dist_c$: value from $0.0$ to $0.3$"
   ]
  },
  {
   "cell_type": "code",
   "execution_count": null,
   "metadata": {},
   "outputs": [],
   "source": [
    "import numpy as np\n",
    "from bokeh.plotting import figure, output_file, show\n",
    "from bokeh.io import output_notebook\n",
    "from bokeh.layouts import gridplot\n",
    "from bokeh.palettes import Pastel1\n",
    "from bokeh.models import Span"
   ]
  },
  {
   "cell_type": "code",
   "execution_count": null,
   "metadata": {},
   "outputs": [],
   "source": [
    "def plot_data(dist_a, dist_b, dist_c, drifts=None, warnings=None):\n",
    "    output_notebook()\n",
    "    color_0 = Pastel1[3][0]\n",
    "    color_1 = Pastel1[3][1]\n",
    "    color_2 = Pastel1[3][2]\n",
    "\n",
    "    left = figure(plot_width=600, plot_height=400,\n",
    "                  tools=\"pan,box_zoom,reset,save\",\n",
    "                  title=\"drift stream\",\n",
    "                  x_axis_label='samples', y_axis_label='value',\n",
    "                  background_fill_color=\"#fafafa\"\n",
    "                  )\n",
    "    # add some renderers\n",
    "    left.circle(range(1000), dist_a, legend_label=r\"dist_a\",\n",
    "                fill_color=color_0, line_color=color_0, size=4)    \n",
    "    left.circle(range(1000, 2000, 1), dist_b, legend_label=r\"dist_b\",\n",
    "                fill_color=color_1, line_color=color_1, size=4)\n",
    "    left.circle(range(2000, 3000, 1), dist_c, legend_label=r\"dist_c\",\n",
    "                fill_color=color_2, line_color=color_2, size=4)\n",
    "\n",
    "    right = figure(plot_width=300, plot_height=400,\n",
    "                   tools=\"pan,box_zoom,reset,save\",\n",
    "                   title=\"distributions\",\n",
    "                   background_fill_color=\"#fafafa\"\n",
    "                   )\n",
    "    hist, edges = np.histogram(dist_a, density=True, bins=50)\n",
    "    right.quad(top=hist, bottom=0, left=edges[:-1], right=edges[1:],\n",
    "               fill_color=color_0, line_color=color_0, legend_label='dist_a')\n",
    "    hist, edges = np.histogram(dist_b, density=True, bins=50)\n",
    "    right.quad(top=hist, bottom=0, left=edges[:-1], right=edges[1:],\n",
    "                   fill_color=color_1, line_color=color_1, legend_label='dist_b')\n",
    "    hist, edges = np.histogram(dist_c, density=True, bins=50)\n",
    "    right.quad(top=hist, bottom=0, left=edges[:-1], right=edges[1:],\n",
    "                   fill_color=color_2, line_color=color_2, legend_label='dist_c')\n",
    "    \n",
    "    if drifts is not None:\n",
    "        for drift_loc in drifts:\n",
    "            drift_line = Span(location=drift_loc, dimension='height',\n",
    "                              line_color='red', line_width=2)\n",
    "            left.add_layout(drift_line)\n",
    "    \n",
    "    if warnings is not None:\n",
    "        for warning_loc in warnings:\n",
    "            warning_line = Span(location=warning_loc, dimension='height',\n",
    "                              line_color='blue', line_width=2,line_dash='dashed')\n",
    "            left.add_layout(warning_line)\n",
    "    \n",
    "    p = gridplot([[left, right]])\n",
    "    show(p)"
   ]
  },
  {
   "cell_type": "code",
   "execution_count": null,
   "metadata": {},
   "outputs": [],
   "source": [
    "dist_a1 = np.random.uniform(0,0.5,750)\n",
    "dist_a2 = np.random.uniform(0,0.75,250)\n",
    "dist_a = np.concatenate((dist_a1, dist_a2))\n",
    "dist_b = np.random.uniform(0.6,1,1000)\n",
    "dist_c = np.random.uniform(0,0.25,1000)\n",
    "\n",
    "data_stream = np.concatenate((dist_a, dist_b, dist_c))\n",
    "\n",
    "plot_data(dist_a,dist_b,dist_c)"
   ]
  },
  {
   "cell_type": "markdown",
   "metadata": {},
   "source": [
    "As observed above, the synthetic data stream has **1 gradual drifts** and **1 abrupt drift**.\n",
    "\n",
    "The goal is to detect that drift has occurred, after samples **1000** and **2000** in the synthetic data stream."
   ]
  },
  {
   "cell_type": "markdown",
   "metadata": {},
   "source": [
    "## ADWIN\n",
    "---\n",
    "In this example, we will use the [ADaptive WINdowing (`ADWIN`)](https://riverml.xyz/latest/api/drift/ADWIN/) drift detection method."
   ]
  },
  {
   "cell_type": "code",
   "execution_count": null,
   "metadata": {},
   "outputs": [],
   "source": [
    "from river.drift import <FILL-IN>\n",
    "\n",
    "drift_detector = <FILL-IN>\n",
    "drifts = []\n",
    "warnings = []\n",
    "warning = -1\n",
    "\n",
    "for i, val in enumerate(data_stream):\n",
    "    drift_detector.update(val)           # Data is processed one sample at a time\n",
    "    #Warning detection\n",
    "    if drift_detector.<FILL-IN>:\n",
    "        warning = i\n",
    "    #Change detection\n",
    "    if drift_detector.<FILL-IN>:\n",
    "        if warning != -1:\n",
    "            print(f'Warning detected at index {warning} and Change detected at index {i}')\n",
    "            warnings.append(warning)\n",
    "            warning = -1\n",
    "        else: \n",
    "            print(f'Change detected at index {i}')\n",
    "        drifts.append(i)\n",
    "        drift_detector.<FILL-IN>          # As a best practice, we reset the detector"
   ]
  },
  {
   "cell_type": "code",
   "execution_count": null,
   "metadata": {},
   "outputs": [],
   "source": [
    "plot_data(dist_a,dist_b,dist_c,drifts,warnings)"
   ]
  },
  {
   "cell_type": "markdown",
   "metadata": {},
   "source": [
    "## Page Hinkley\n",
    "---\n",
    "In this example, we will use the [Page Hinkley](https://riverml.xyz/latest/api/drift/PageHinkley/) drift detection method. This change detection method works by computing the observed values and their mean up to the current moment. Page-Hinkley does not signal warning zones, only change detections. The method works by means of the Page-Hinkley test. In general lines it will detect a concept drift if the observed mean at some instant is greater then a threshold value lambda."
   ]
  },
  {
   "cell_type": "code",
   "execution_count": null,
   "metadata": {},
   "outputs": [],
   "source": [
    "from river.drift import <FILL-IN>\n",
    "\n",
    "drift_detector = <FILL-IN>\n",
    "drifts = []\n",
    "warnings = []\n",
    "warning = -1\n",
    "\n",
    "for i, val in enumerate(data_stream):\n",
    "    drift_detector.update(val)           # Data is processed one sample at a time\n",
    "    #Warning detection\n",
    "    if drift_detector.<FILL-IN>:\n",
    "        warning = i\n",
    "    #Change detection\n",
    "    if drift_detector.<FILL-IN>:\n",
    "        if warning != -1:\n",
    "            print(f'Warning detected at index {warning} and Change detected at index {i}')\n",
    "            warnings.append(warning)\n",
    "            warning = -1\n",
    "        else: \n",
    "            print(f'Change detected at index {i}')\n",
    "        drifts.append(i)\n",
    "        drift_detector.<FILL-IN>          # As a best practice, we reset the detector"
   ]
  },
  {
   "cell_type": "code",
   "execution_count": null,
   "metadata": {},
   "outputs": [],
   "source": [
    "plot_data(dist_a,dist_b,dist_c,drifts,warnings)"
   ]
  },
  {
   "cell_type": "markdown",
   "metadata": {},
   "source": [
    "## DDM\n",
    "---\n",
    "In this example, we will use the [DDM](https://riverml.xyz/latest/api/drift/DDM/) drift detection method. It is based on the PAC learning model premise, that the learner's error rate will decrease as the number of analysed samples increase, as long as the data distribution is stationary.\n",
    "\n",
    "If the algorithm detects an increase in the error rate, that surpasses a calculated threshold, either change is detected or the algorithm will warn the user that change may occur in the near future, which is called the warning zone."
   ]
  },
  {
   "cell_type": "code",
   "execution_count": null,
   "metadata": {},
   "outputs": [],
   "source": [
    "from river.drift import <FILL-IN>\n",
    "\n",
    "drift_detector = <FILL-IN>\n",
    "drifts = []\n",
    "warnings = []\n",
    "warning = -1\n",
    "\n",
    "for i, val in enumerate(data_stream):\n",
    "    drift_detector.update(val)           # Data is processed one sample at a time\n",
    "    #Warning detection\n",
    "    if drift_detector.<FILL-IN>:\n",
    "        warning = i\n",
    "    #Change detection\n",
    "    if drift_detector.<FILL-IN>:\n",
    "        if warning != -1:\n",
    "            print(f'Warning detected at index {warning} and Change detected at index {i}')\n",
    "            warnings.append(warning)\n",
    "            warning = -1\n",
    "        else: \n",
    "            print(f'Change detected at index {i}')\n",
    "        drifts.append(i)\n",
    "        drift_detector.<FILL-IN>          # As a best practice, we reset the detector"
   ]
  },
  {
   "cell_type": "code",
   "execution_count": null,
   "metadata": {},
   "outputs": [],
   "source": [
    "plot_data(dist_a,dist_b,dist_c,drifts,warnings)"
   ]
  },
  {
   "cell_type": "markdown",
   "metadata": {},
   "source": [
    "## EDDM\n",
    "---\n",
    "In this example, we will use the [EDDM](https://riverml.xyz/latest/api/drift/EDDM/) drift detection method. It works by keeping track of the average distance between two errors instead of only the error rate. For this, it is necessary to keep track of the running average distance and the running standard deviation, as well as the maximum distance and the maximum standard deviation."
   ]
  },
  {
   "cell_type": "code",
   "execution_count": null,
   "metadata": {},
   "outputs": [],
   "source": [
    "from river.drift import <FILL-IN>\n",
    "\n",
    "drift_detector = <FILL-IN>\n",
    "drifts = []\n",
    "warnings = []\n",
    "warning = -1\n",
    "\n",
    "for i, val in enumerate(data_stream):\n",
    "    drift_detector.update(val)           # Data is processed one sample at a time\n",
    "    #Warning detection\n",
    "    if drift_detector.<FILL-IN>:\n",
    "        warning = i\n",
    "    #Change detection\n",
    "    if drift_detector.<FILL-IN>:\n",
    "        if warning != -1:\n",
    "            print(f'Warning detected at index {warning} and Change detected at index {i}')\n",
    "            warnings.append(warning)\n",
    "            warning = -1\n",
    "        else: \n",
    "            print(f'Change detected at index {i}')\n",
    "        drifts.append(i)\n",
    "        drift_detector.<FILL-IN>          # As a best practice, we reset the detector"
   ]
  },
  {
   "cell_type": "code",
   "execution_count": null,
   "metadata": {},
   "outputs": [],
   "source": [
    "plot_data(dist_a,dist_b,dist_c,drifts,warnings)"
   ]
  },
  {
   "cell_type": "markdown",
   "metadata": {},
   "source": [
    "## CUSUM\n",
    "---\n",
    "It gives an alarm when the mean of the input data is significantly different from zero.\n",
    "- $g_0 = 0$\n",
    "- $\\hat{x}$ update\n",
    "- $sum_t = max(0,sum_{t-1}+(x_t - \\hat{x}) - \\delta)$\n",
    "- $n += 1$\n",
    "- if $n > min_{obs}$ and $sum_t > \\lambda:$ Change\n",
    "\n",
    "Use $\\delta=0.005$, $\\lambda=50$, and $min_{obs}=30$"
   ]
  },
  {
   "cell_type": "code",
   "execution_count": null,
   "metadata": {},
   "outputs": [],
   "source": [
    "class CUSUM():\n",
    "    def __init__(self,delta,lamb,min_obs):\n",
    "        # Initialization\n",
    "        self._n = 1\n",
    "        self._x_mean = 0.0\n",
    "        self._sum = 0.0\n",
    "        self._delta = <FILL-IN>\n",
    "        self._lambda = <FILL-IN>\n",
    "        self._min_obs = <FILL-IN>\n",
    "        self.warning_detected = False\n",
    "        self.change_detected = False\n",
    "        \n",
    "    def update(self,value):\n",
    "        self._x_mean += <FILL-IN>\n",
    "        self._sum = <FILL-IN>\n",
    "        self._n += <FILL-IN>\n",
    "        \n",
    "        if <FILL-IN> and <FILL-IN>:\n",
    "            self.change_detected = <FILL-IN>\n",
    "                \n",
    "    def reset(self):\n",
    "        self._n = 1\n",
    "        self._x_mean = 0.0\n",
    "        self._sum = 0.0\n",
    "        self.warning_detected = False\n",
    "        self.change_detected = False"
   ]
  },
  {
   "cell_type": "code",
   "execution_count": null,
   "metadata": {},
   "outputs": [],
   "source": [
    "drift_detector = CUSUM(<FILL-IN>)\n",
    "drifts = []\n",
    "warnings = []\n",
    "warning = -1\n",
    "\n",
    "for i, val in enumerate(data_stream):\n",
    "    drift_detector.update(val)           # Data is processed one sample at a time\n",
    "    #Warning detection\n",
    "    if drift_detector.<FILL-IN>:\n",
    "        warning = i\n",
    "    #Change detection\n",
    "    if drift_detector.<FILL-IN>:\n",
    "        if warning != -1:\n",
    "            print(f'Warning detected at index {warning} and Change detected at index {i}')\n",
    "            warnings.append(warning)\n",
    "            warning = -1\n",
    "        else: \n",
    "            print(f'Change detected at index {i}')\n",
    "        drifts.append(i)\n",
    "        drift_detector.<FILL-IN>          # As a best practice, we reset the detector"
   ]
  },
  {
   "cell_type": "code",
   "execution_count": null,
   "metadata": {},
   "outputs": [],
   "source": [
    "plot_data(dist_a,dist_b,dist_c,drifts,warnings)"
   ]
  },
  {
   "cell_type": "markdown",
   "metadata": {},
   "source": [
    "##### ![Quantia Tiny Logo](https://www.quantiaconsulting.com/logos/quantia_logo_tiny.png) Quantia Consulting, srl. All rights reserved."
   ]
  }
 ],
 "metadata": {
  "kernelspec": {
   "display_name": "Python 3",
   "language": "python",
   "name": "python3"
  },
  "language_info": {
   "codemirror_mode": {
    "name": "ipython",
    "version": 3
   },
   "file_extension": ".py",
   "mimetype": "text/x-python",
   "name": "python",
   "nbconvert_exporter": "python",
   "pygments_lexer": "ipython3",
   "version": "3.7.6"
  }
 },
 "nbformat": 4,
 "nbformat_minor": 4
}
