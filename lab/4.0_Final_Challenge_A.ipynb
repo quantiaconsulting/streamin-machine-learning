{
 "cells": [
  {
   "cell_type": "markdown",
   "metadata": {},
   "source": [
    "<div style=\"text-align: center; line-height: 0; padding-top: 2px;\">\n",
    "  <img src=\"https://www.quantiaconsulting.com/logos/quantia_logo_orizz.png\" alt=\"Quantia Consulting\" style=\"width: 600px; height: 250px\">\n",
    "</div>"
   ]
  },
  {
   "cell_type": "markdown",
   "metadata": {},
   "source": [
    "# Final Challenge A\n",
    "---\n",
    "\n",
    "## Using the KDDCup dataset, find the best SML model"
   ]
  },
  {
   "cell_type": "code",
   "execution_count": null,
   "metadata": {},
   "outputs": [],
   "source": [
    "import matplotlib.pyplot as plt\n",
    "import numpy as np\n",
    "import pandas as pd"
   ]
  },
  {
   "cell_type": "markdown",
   "metadata": {},
   "source": [
    "The KDDCup intrusion detection data stream records intrusions simulated in a military network environment. The task is to classify network traffic into **normal** (80.31% of the cases) or some kind of **intrusion** (19.69% of the cases) described by *41 features*, of which *34 numeric* and *7 nominal*. The problem of temporal dependence is particularly evident here. Inspecting the raw stream confirms that there are time periods of intrusions rather than single instances of intrusions.\n",
    "The *7 nominal* attributes are:\n",
    "- protocol_type\n",
    "- service\n",
    "- flag\n",
    "- land\n",
    "- logged_in\n",
    "- is_host_login\n",
    "- is_guest_login\n",
    "\n",
    "**Class:** `class` | 0: normal, 1: intrusion\n",
    " \n",
    "**Samples:** 494021\n"
   ]
  },
  {
   "cell_type": "code",
   "execution_count": null,
   "metadata": {},
   "outputs": [],
   "source": [
    "df = pd.read_csv(\"../datasets/KDDCup.csv\")#.iloc[:10000,:]\n",
    "features = df.columns[:-1]\n",
    "df.dtypes"
   ]
  },
  {
   "cell_type": "markdown",
   "metadata": {},
   "source": [
    "## Plot data distribution\n",
    "---\n",
    "Encode the protocol_type, service and flag attributes and apply the **PCA**"
   ]
  },
  {
   "cell_type": "code",
   "execution_count": null,
   "metadata": {},
   "outputs": [],
   "source": [
    "from sklearn.preprocessing import OrdinalEncoder\n",
    "from sklearn.preprocessing import StandardScaler\n",
    "from sklearn.decomposition import PCA\n",
    "\n",
    "encoder = OrdinalEncoder()\n",
    "encDf = df.copy()\n",
    "encDf[[\"protocol_type\",\"service\",\"flag\"]] = encoder.fit_transform(encDf[[\"protocol_type\",\"service\",\"flag\"]])\n",
    "\n",
    "\n",
    "features = encDf.drop([\"class\"],axis=1)\n",
    "label = encDf[\"class\"]\n",
    "\n",
    "scaled_features = StandardScaler().fit_transform(features)\n",
    "num_components = 2\n",
    "pca = PCA(n_components=num_components)\n",
    "pca_data = pca.fit_transform(scaled_features)\n",
    "pca_data.shape\n",
    "\n",
    "pc_df = pd.DataFrame(data = pca_data,columns = [\"pc1\", \"pc2\"])\n",
    "pc_df[\"class\"] = label\n",
    "\n",
    "normalities = pc_df[pc_df[\"class\"] == 0]\n",
    "intrusions = pc_df[pc_df[\"class\"] == 1]\n",
    "\n",
    "fig = plt.figure()\n",
    "ax1 = fig.add_subplot(111)\n",
    "ax1.scatter(x=normalities[\"pc1\"], y=normalities[\"pc2\"], marker=\"s\", label='Normalities: # ' + str(normalities.shape[0]))\n",
    "ax1.scatter(x=intrusions[\"pc1\"], y=intrusions[\"pc2\"], marker=\"o\", label='Intrusions: # ' + str(intrusions.shape[0]))\n",
    "plt.legend(loc='upper left');\n",
    "fig.tight_layout()\n",
    "plt.show()"
   ]
  },
  {
   "cell_type": "markdown",
   "metadata": {},
   "source": [
    "## Find the best SML model!\n",
    "---\n",
    "### Hint\n",
    "Since the stream is imbalances, the Accuracy is not a reliable metric. Try using [BalancedAccuracy](https://riverml.xyz/latest/api/metrics/BalancedAccuracy/) and [GeometricMean](https://riverml.xyz/latest/api/metrics/GeometricMean/) instead. To combine them, use [Metrics](https://riverml.xyz/latest/api/metrics/Metrics/)"
   ]
  },
  {
   "cell_type": "code",
   "execution_count": null,
   "metadata": {},
   "outputs": [],
   "source": [
    "from river.stream import iter_pandas\n",
    "from river.evaluate import progressive_val_score\n",
    "from river.metrics import Metrics\n",
    "from river.metrics import BalancedAccuracy\n",
    "from river.metrics import GeometricMean\n",
    "from river import compose"
   ]
  }
 ],
 "metadata": {
  "kernelspec": {
   "display_name": "Python 3",
   "language": "python",
   "name": "python3"
  },
  "language_info": {
   "codemirror_mode": {
    "name": "ipython",
    "version": 3
   },
   "file_extension": ".py",
   "mimetype": "text/x-python",
   "name": "python",
   "nbconvert_exporter": "python",
   "pygments_lexer": "ipython3",
   "version": "3.9.5"
  }
 },
 "nbformat": 4,
 "nbformat_minor": 4
}
