{
 "cells": [
  {
   "cell_type": "markdown",
   "metadata": {},
   "source": [
    "<div style=\"text-align: center; line-height: 0; padding-top: 2px;\">\n",
    "  <img src=\"https://www.quantiaconsulting.com/logos/quantia_logo_orizz.png\" alt=\"Quantia Consulting\" style=\"width: 600px; height: 250px\">\n",
    "</div>"
   ]
  },
  {
   "cell_type": "markdown",
   "metadata": {},
   "source": [
    "# Prequential Error - Solution"
   ]
  },
  {
   "cell_type": "code",
   "execution_count": 1,
   "metadata": {},
   "outputs": [],
   "source": [
    "import numpy as np\n",
    "from sklearn import datasets as skdatasets\n",
    "from river.stream import iter_sklearn_dataset\n",
    "from river.naive_bayes import GaussianNB\n",
    "from river.metrics import Accuracy"
   ]
  },
  {
   "cell_type": "code",
   "execution_count": 2,
   "metadata": {},
   "outputs": [],
   "source": [
    "iris = skdatasets.load_iris()"
   ]
  },
  {
   "cell_type": "markdown",
   "metadata": {},
   "source": [
    "## The `progressive_val_score` method\n",
    "\n",
    "The [progressive_val_score](https://riverml.xyz/latest/api/evaluate/progressive-val-score/) method implements the prequential evaluation. It requires three components: \n",
    "\n",
    "- a data stream\n",
    "- a model\n",
    "- a metric"
   ]
  },
  {
   "cell_type": "code",
   "execution_count": 3,
   "metadata": {},
   "outputs": [
    {
     "name": "stdout",
     "output_type": "stream",
     "text": [
      "[10] Accuracy: 44.44%\n",
      "[20] Accuracy: 73.68%\n",
      "[30] Accuracy: 82.76%\n",
      "[40] Accuracy: 84.62%\n",
      "[50] Accuracy: 85.71%\n",
      "[60] Accuracy: 88.14%\n",
      "[70] Accuracy: 88.41%\n",
      "[80] Accuracy: 89.87%\n",
      "[90] Accuracy: 89.89%\n",
      "[100] Accuracy: 90.91%\n",
      "[110] Accuracy: 91.74%\n",
      "[120] Accuracy: 92.44%\n",
      "[130] Accuracy: 92.25%\n",
      "[140] Accuracy: 92.81%\n",
      "[150] Accuracy: 91.95%\n"
     ]
    },
    {
     "data": {
      "text/plain": [
       "Accuracy: 91.95%"
      ]
     },
     "execution_count": 3,
     "metadata": {},
     "output_type": "execute_result"
    }
   ],
   "source": [
    "from river.evaluate import progressive_val_score\n",
    "\n",
    "# Setup stream and estimators\n",
    "stream = iter_sklearn_dataset(iris, shuffle=True, seed=42)\n",
    "model = GaussianNB()\n",
    "metric = Accuracy()\n",
    "\n",
    "# Setup evaluator\n",
    "progressive_val_score(dataset=stream, model=model, metric=metric, print_every=10)"
   ]
  },
  {
   "cell_type": "markdown",
   "metadata": {},
   "source": [
    "#### The [progressive_val_score](https://riverml.xyz/latest/api/evaluate/progressive-val-score/) method saves all the predictions in memory and uses all of them to compute the metrics"
   ]
  },
  {
   "cell_type": "markdown",
   "metadata": {},
   "source": [
    "## Sliding Window Prequential Error\n",
    "---\n",
    "\n",
    "The [Rolling](https://riverml.xyz/latest/api/metrics/Rolling/) method is a wrapper that allows you to apply a metric over a window of observations. Under the hood, a buffer with the window_size most recent pairs of (y_true, y_pred) is memorised. When the buffer is full, the oldest pair is removed and the revert method of the metric is called with said pair."
   ]
  },
  {
   "cell_type": "code",
   "execution_count": 4,
   "metadata": {},
   "outputs": [
    {
     "name": "stdout",
     "output_type": "stream",
     "text": [
      "Accuracy: 100.00%\t(rolling 50)\n",
      "Accuracy: 50.00%\t(rolling 50)\n",
      "Accuracy: 33.33%\t(rolling 50)\n",
      "Accuracy: 50.00%\t(rolling 50)\n",
      "Accuracy: 40.00%\t(rolling 50)\n",
      "Accuracy: 50.00%\t(rolling 50)\n",
      "Accuracy: 42.86%\t(rolling 50)\n",
      "Accuracy: 50.00%\t(rolling 50)\n",
      "Accuracy: 44.44%\t(rolling 50)\n",
      "Accuracy: 50.00%\t(rolling 50)\n",
      "Accuracy: 54.55%\t(rolling 50)\n",
      "Accuracy: 58.33%\t(rolling 50)\n",
      "Accuracy: 61.54%\t(rolling 50)\n",
      "Accuracy: 64.29%\t(rolling 50)\n",
      "Accuracy: 66.67%\t(rolling 50)\n",
      "Accuracy: 68.75%\t(rolling 50)\n",
      "Accuracy: 70.59%\t(rolling 50)\n",
      "Accuracy: 72.22%\t(rolling 50)\n",
      "Accuracy: 73.68%\t(rolling 50)\n",
      "Accuracy: 75.00%\t(rolling 50)\n",
      "Accuracy: 76.19%\t(rolling 50)\n",
      "Accuracy: 77.27%\t(rolling 50)\n",
      "Accuracy: 78.26%\t(rolling 50)\n",
      "Accuracy: 79.17%\t(rolling 50)\n",
      "Accuracy: 80.00%\t(rolling 50)\n",
      "Accuracy: 80.77%\t(rolling 50)\n",
      "Accuracy: 81.48%\t(rolling 50)\n",
      "Accuracy: 82.14%\t(rolling 50)\n",
      "Accuracy: 82.76%\t(rolling 50)\n",
      "Accuracy: 83.33%\t(rolling 50)\n",
      "Accuracy: 83.87%\t(rolling 50)\n",
      "Accuracy: 81.25%\t(rolling 50)\n",
      "Accuracy: 81.82%\t(rolling 50)\n",
      "Accuracy: 82.35%\t(rolling 50)\n",
      "Accuracy: 82.86%\t(rolling 50)\n",
      "Accuracy: 83.33%\t(rolling 50)\n",
      "Accuracy: 83.78%\t(rolling 50)\n",
      "Accuracy: 84.21%\t(rolling 50)\n",
      "Accuracy: 84.62%\t(rolling 50)\n",
      "Accuracy: 85.00%\t(rolling 50)\n",
      "Accuracy: 82.93%\t(rolling 50)\n",
      "Accuracy: 83.33%\t(rolling 50)\n",
      "Accuracy: 83.72%\t(rolling 50)\n",
      "Accuracy: 84.09%\t(rolling 50)\n",
      "Accuracy: 84.44%\t(rolling 50)\n",
      "Accuracy: 84.78%\t(rolling 50)\n",
      "Accuracy: 85.11%\t(rolling 50)\n",
      "Accuracy: 85.42%\t(rolling 50)\n",
      "Accuracy: 85.71%\t(rolling 50)\n",
      "Accuracy: 86.00%\t(rolling 50)\n",
      "Accuracy: 86.00%\t(rolling 50)\n",
      "Accuracy: 88.00%\t(rolling 50)\n",
      "Accuracy: 90.00%\t(rolling 50)\n",
      "Accuracy: 90.00%\t(rolling 50)\n",
      "Accuracy: 92.00%\t(rolling 50)\n",
      "Accuracy: 92.00%\t(rolling 50)\n",
      "Accuracy: 94.00%\t(rolling 50)\n",
      "Accuracy: 94.00%\t(rolling 50)\n",
      "Accuracy: 96.00%\t(rolling 50)\n",
      "Accuracy: 96.00%\t(rolling 50)\n",
      "Accuracy: 96.00%\t(rolling 50)\n",
      "Accuracy: 96.00%\t(rolling 50)\n",
      "Accuracy: 96.00%\t(rolling 50)\n",
      "Accuracy: 96.00%\t(rolling 50)\n",
      "Accuracy: 96.00%\t(rolling 50)\n",
      "Accuracy: 96.00%\t(rolling 50)\n",
      "Accuracy: 96.00%\t(rolling 50)\n",
      "Accuracy: 96.00%\t(rolling 50)\n",
      "Accuracy: 94.00%\t(rolling 50)\n",
      "Accuracy: 94.00%\t(rolling 50)\n",
      "Accuracy: 94.00%\t(rolling 50)\n",
      "Accuracy: 94.00%\t(rolling 50)\n",
      "Accuracy: 94.00%\t(rolling 50)\n",
      "Accuracy: 94.00%\t(rolling 50)\n",
      "Accuracy: 94.00%\t(rolling 50)\n",
      "Accuracy: 94.00%\t(rolling 50)\n",
      "Accuracy: 94.00%\t(rolling 50)\n",
      "Accuracy: 94.00%\t(rolling 50)\n",
      "Accuracy: 94.00%\t(rolling 50)\n",
      "Accuracy: 94.00%\t(rolling 50)\n",
      "Accuracy: 94.00%\t(rolling 50)\n",
      "Accuracy: 96.00%\t(rolling 50)\n",
      "Accuracy: 96.00%\t(rolling 50)\n",
      "Accuracy: 96.00%\t(rolling 50)\n",
      "Accuracy: 96.00%\t(rolling 50)\n",
      "Accuracy: 96.00%\t(rolling 50)\n",
      "Accuracy: 96.00%\t(rolling 50)\n",
      "Accuracy: 94.00%\t(rolling 50)\n",
      "Accuracy: 94.00%\t(rolling 50)\n",
      "Accuracy: 94.00%\t(rolling 50)\n",
      "Accuracy: 96.00%\t(rolling 50)\n",
      "Accuracy: 96.00%\t(rolling 50)\n",
      "Accuracy: 96.00%\t(rolling 50)\n",
      "Accuracy: 96.00%\t(rolling 50)\n",
      "Accuracy: 96.00%\t(rolling 50)\n",
      "Accuracy: 96.00%\t(rolling 50)\n",
      "Accuracy: 96.00%\t(rolling 50)\n",
      "Accuracy: 96.00%\t(rolling 50)\n",
      "Accuracy: 96.00%\t(rolling 50)\n",
      "Accuracy: 96.00%\t(rolling 50)\n",
      "Accuracy: 96.00%\t(rolling 50)\n",
      "Accuracy: 96.00%\t(rolling 50)\n",
      "Accuracy: 96.00%\t(rolling 50)\n",
      "Accuracy: 96.00%\t(rolling 50)\n",
      "Accuracy: 96.00%\t(rolling 50)\n",
      "Accuracy: 96.00%\t(rolling 50)\n",
      "Accuracy: 96.00%\t(rolling 50)\n",
      "Accuracy: 96.00%\t(rolling 50)\n",
      "Accuracy: 96.00%\t(rolling 50)\n",
      "Accuracy: 96.00%\t(rolling 50)\n",
      "Accuracy: 96.00%\t(rolling 50)\n",
      "Accuracy: 96.00%\t(rolling 50)\n",
      "Accuracy: 96.00%\t(rolling 50)\n",
      "Accuracy: 96.00%\t(rolling 50)\n",
      "Accuracy: 96.00%\t(rolling 50)\n",
      "Accuracy: 96.00%\t(rolling 50)\n",
      "Accuracy: 96.00%\t(rolling 50)\n",
      "Accuracy: 96.00%\t(rolling 50)\n",
      "Accuracy: 98.00%\t(rolling 50)\n",
      "Accuracy: 98.00%\t(rolling 50)\n",
      "Accuracy: 98.00%\t(rolling 50)\n",
      "Accuracy: 98.00%\t(rolling 50)\n",
      "Accuracy: 98.00%\t(rolling 50)\n",
      "Accuracy: 98.00%\t(rolling 50)\n",
      "Accuracy: 98.00%\t(rolling 50)\n",
      "Accuracy: 98.00%\t(rolling 50)\n",
      "Accuracy: 98.00%\t(rolling 50)\n",
      "Accuracy: 98.00%\t(rolling 50)\n",
      "Accuracy: 96.00%\t(rolling 50)\n",
      "Accuracy: 96.00%\t(rolling 50)\n",
      "Accuracy: 96.00%\t(rolling 50)\n",
      "Accuracy: 96.00%\t(rolling 50)\n",
      "Accuracy: 96.00%\t(rolling 50)\n",
      "Accuracy: 96.00%\t(rolling 50)\n",
      "Accuracy: 96.00%\t(rolling 50)\n",
      "Accuracy: 96.00%\t(rolling 50)\n",
      "Accuracy: 96.00%\t(rolling 50)\n",
      "Accuracy: 98.00%\t(rolling 50)\n",
      "Accuracy: 98.00%\t(rolling 50)\n",
      "Accuracy: 98.00%\t(rolling 50)\n",
      "Accuracy: 98.00%\t(rolling 50)\n",
      "Accuracy: 98.00%\t(rolling 50)\n",
      "Accuracy: 98.00%\t(rolling 50)\n",
      "Accuracy: 98.00%\t(rolling 50)\n",
      "Accuracy: 98.00%\t(rolling 50)\n",
      "Accuracy: 96.00%\t(rolling 50)\n",
      "Accuracy: 96.00%\t(rolling 50)\n",
      "Accuracy: 94.00%\t(rolling 50)\n",
      "Accuracy: 94.00%\t(rolling 50)\n"
     ]
    }
   ],
   "source": [
    "from river.metrics import Rolling\n",
    "\n",
    "metric = Rolling(Accuracy(), window_size=50)\n",
    "model = GaussianNB()\n",
    "\n",
    "for x, y in iter_sklearn_dataset(iris, shuffle=True, seed=42):\n",
    "    y_p = model.predict_one(x)   # Predict class\n",
    "    if y_p is not None:\n",
    "        print(metric.update(y_true=y, y_pred=y_p))\n",
    "    model.learn_one(x, y)        # Train the model\n",
    "    "
   ]
  },
  {
   "cell_type": "markdown",
   "metadata": {},
   "source": [
    "## Fading Factor Prequential Error\n",
    "---\n",
    "It gives more importance to the new predictions and less importance to the oldest ones.\n",
    "The estimation is updated in this way:\n",
    "\n",
    "- correct_pred = $\\alpha$ * correct_pred + value\n",
    "- total_seen = $\\alpha$ * total_seen + 1.0\n",
    "\n",
    "with $0 < \\alpha \\leq 1$. The larger $\\alpha$ is, the greater the old predictions importance is."
   ]
  },
  {
   "cell_type": "code",
   "execution_count": 5,
   "metadata": {},
   "outputs": [
    {
     "name": "stdout",
     "output_type": "stream",
     "text": [
      "[10] Accuracy: 43.88%\n",
      "[20] Accuracy: 80.04%\n",
      "[30] Accuracy: 90.39%\n",
      "[40] Accuracy: 90.81%\n",
      "[50] Accuracy: 91.21%\n",
      "[60] Accuracy: 94.92%\n",
      "[70] Accuracy: 91.87%\n",
      "[80] Accuracy: 95.19%\n",
      "[90] Accuracy: 92.34%\n",
      "[100] Accuracy: 95.43%\n",
      "[110] Accuracy: 97.27%\n",
      "[120] Accuracy: 98.37%\n",
      "[130] Accuracy: 94.02%\n",
      "[140] Accuracy: 96.42%\n",
      "[150] Accuracy: 88.82%\n"
     ]
    }
   ],
   "source": [
    "correct_pred = 0.0\n",
    "total = 0.0\n",
    "alpha = 0.95\n",
    "\n",
    "print_every = 10\n",
    "i = 1\n",
    "instance = 1\n",
    "\n",
    "wrong = 0\n",
    "\n",
    "model = GaussianNB()\n",
    "\n",
    "for x, y in iter_sklearn_dataset(iris, shuffle=True, seed=42):\n",
    "    y_p = model.predict_one(x)   # Predict class\n",
    "    if y_p is not None:\n",
    "        to_add = 0.0\n",
    "        if y == y_p:\n",
    "            to_add = 1.0                               \n",
    "        correct_pred = (alpha * correct_pred) + to_add\n",
    "        total = (alpha * total) + 1.0\n",
    "   \n",
    "    if instance == print_every * i:\n",
    "        if total > 0:\n",
    "            print('[' + str(instance) + '] Accuracy: ' + str(np.round((correct_pred / total * 100),2)) + '%')\n",
    "        else:\n",
    "            print('[' + str(instance) + '] Accuracy: 0.00%')\n",
    "        i += 1\n",
    "        \n",
    "    model.learn_one(x, y)        # Train the model\n",
    "    instance += 1\n",
    "    \n"
   ]
  },
  {
   "cell_type": "markdown",
   "metadata": {},
   "source": [
    "##### ![Quantia Tiny Logo](https://www.quantiaconsulting.com/logos/quantia_logo_tiny.png) Quantia Consulting, srl. All rights reserved."
   ]
  }
 ],
 "metadata": {
  "kernelspec": {
   "display_name": "Python 3",
   "language": "python",
   "name": "python3"
  },
  "language_info": {
   "codemirror_mode": {
    "name": "ipython",
    "version": 3
   },
   "file_extension": ".py",
   "mimetype": "text/x-python",
   "name": "python",
   "nbconvert_exporter": "python",
   "pygments_lexer": "ipython3",
   "version": "3.7.6"
  }
 },
 "nbformat": 4,
 "nbformat_minor": 4
}
