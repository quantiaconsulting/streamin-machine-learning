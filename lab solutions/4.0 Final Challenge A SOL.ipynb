{
 "cells": [
  {
   "cell_type": "markdown",
   "metadata": {},
   "source": [
    "<div style=\"text-align: center; line-height: 0; padding-top: 2px;\">\n",
    "  <img src=\"https://www.quantiaconsulting.com/logos/quantia_logo_orizz.png\" alt=\"Quantia Consulting\" style=\"width: 600px; height: 250px\">\n",
    "</div>"
   ]
  },
  {
   "cell_type": "markdown",
   "metadata": {},
   "source": [
    "# Final Challenge - Solution\n",
    "---\n",
    "\n",
    "## Using the KDDCup dataset, find the best SML model"
   ]
  },
  {
   "cell_type": "code",
   "execution_count": 2,
   "metadata": {},
   "outputs": [],
   "source": [
    "import matplotlib.pyplot as plt\n",
    "import numpy as np\n",
    "import pandas as pd"
   ]
  },
  {
   "cell_type": "markdown",
   "metadata": {},
   "source": [
    "The KDDCup intrusion detection data stream records intrusions simulated in a military network environment. The task is to classify network traffic into **normal** (80.31% of the cases) or some kind of **intrusion** (19.69% of the cases) described by *41 features*, of which *34 numeric* and *7 nominal*. The problem of temporal dependence is particularly evident here. Inspecting the raw stream confirms that there are time periods of intrusions rather than single instances of intrusions.\n",
    "The *7 nominal* attributes are:\n",
    "- protocol_type\n",
    "- service\n",
    "- flag\n",
    "- land\n",
    "- logged_in\n",
    "- is_host_login\n",
    "- is_guest_login\n",
    "\n",
    "**Class:** `class` | 0: normal, 1: intrusion\n",
    " \n",
    "**Samples:** 494021\n"
   ]
  },
  {
   "cell_type": "code",
   "execution_count": 14,
   "metadata": {},
   "outputs": [
    {
     "data": {
      "text/plain": [
       "duration                         int64\n",
       "protocol_type                   object\n",
       "service                         object\n",
       "flag                            object\n",
       "src_bytes                        int64\n",
       "dst_bytes                        int64\n",
       "land                             int64\n",
       "wrong_fragment                   int64\n",
       "urgent                           int64\n",
       "hot                              int64\n",
       "num_failed_logins                int64\n",
       "logged_in                        int64\n",
       "num_compromised                  int64\n",
       "root_shell                       int64\n",
       "su_attempted                     int64\n",
       "num_root                         int64\n",
       "num_file_creations               int64\n",
       "num_shells                       int64\n",
       "num_access_files                 int64\n",
       "num_outbound_cmds                int64\n",
       "is_host_login                    int64\n",
       "is_guest_login                   int64\n",
       "count                            int64\n",
       "srv_count                        int64\n",
       "serror_rate                    float64\n",
       "srv_serror_rate                float64\n",
       "rerror_rate                    float64\n",
       "srv_rerror_rate                float64\n",
       "same_srv_rate                  float64\n",
       "diff_srv_rate                  float64\n",
       "srv_diff_host_rate             float64\n",
       "dst_host_count                   int64\n",
       "dst_host_srv_count               int64\n",
       "dst_host_same_srv_rate         float64\n",
       "dst_host_diff_srv_rate         float64\n",
       "dst_host_same_src_port_rate    float64\n",
       "dst_host_srv_diff_host_rate    float64\n",
       "dst_host_serror_rate           float64\n",
       "dst_host_srv_serror_rate       float64\n",
       "dst_host_rerror_rate           float64\n",
       "dst_host_srv_rerror_rate       float64\n",
       "class                            int64\n",
       "dtype: object"
      ]
     },
     "execution_count": 14,
     "metadata": {},
     "output_type": "execute_result"
    }
   ],
   "source": [
    "df = pd.read_csv(\"../datasets/KDDCup.csv\")#.iloc[:10000,:]\n",
    "features = df.columns[:-1]\n",
    "df.dtypes"
   ]
  },
  {
   "cell_type": "markdown",
   "metadata": {},
   "source": [
    "## Plot data distribution\n",
    "---\n",
    "Encode the protocol_type, service and flag attributes and apply the **PCA**"
   ]
  },
  {
   "cell_type": "code",
   "execution_count": 13,
   "metadata": {},
   "outputs": [
    {
     "data": {
      "image/png": "[encoded data removed]",
      "text/plain": [
       "<Figure size 432x288 with 1 Axes>"
      ]
     },
     "metadata": {
      "needs_background": "light"
     },
     "output_type": "display_data"
    }
   ],
   "source": [
    "from sklearn.preprocessing import OrdinalEncoder\n",
    "from sklearn.preprocessing import StandardScaler\n",
    "from sklearn.decomposition import PCA\n",
    "\n",
    "encoder = OrdinalEncoder()\n",
    "encDf = df.copy()\n",
    "encDf[[\"protocol_type\",\"service\",\"flag\"]] = encoder.fit_transform(encDf[[\"protocol_type\",\"service\",\"flag\"]])\n",
    "\n",
    "\n",
    "features = encDf.drop([\"class\"],axis=1)\n",
    "label = encDf[\"class\"]\n",
    "\n",
    "scaled_features = StandardScaler().fit_transform(features)\n",
    "num_components = 2\n",
    "pca = PCA(n_components=num_components)\n",
    "pca_data = pca.fit_transform(scaled_features)\n",
    "pca_data.shape\n",
    "\n",
    "pc_df = pd.DataFrame(data = pca_data,columns = [\"pc1\", \"pc2\"])\n",
    "pc_df[\"class\"] = label\n",
    "\n",
    "normalities = pc_df[pc_df[\"class\"] == 0]\n",
    "intrusions = pc_df[pc_df[\"class\"] == 1]\n",
    "\n",
    "fig = plt.figure()\n",
    "ax1 = fig.add_subplot(111)\n",
    "ax1.scatter(x=normalities[\"pc1\"], y=normalities[\"pc2\"], marker=\"s\", label='Normalities: # ' + str(normalities.shape[0]))\n",
    "ax1.scatter(x=intrusions[\"pc1\"], y=intrusions[\"pc2\"], marker=\"o\", label='Intrusions: # ' + str(intrusions.shape[0]))\n",
    "plt.legend(loc='upper left');\n",
    "fig.tight_layout()\n",
    "plt.show()"
   ]
  },
  {
   "cell_type": "markdown",
   "metadata": {},
   "source": [
    "## Find the best SML model!\n",
    "---\n",
    "### Hint\n",
    "Since the stream is imbalances, the Accuracy is not a reliable metric. Try using [BalancedAccuracy](https://riverml.xyz/latest/api/metrics/BalancedAccuracy/) and [GeometricMean](https://riverml.xyz/latest/api/metrics/GeometricMean/) instead. To combine them, use [Metrics](https://riverml.xyz/latest/api/metrics/Metrics/)"
   ]
  },
  {
   "cell_type": "code",
   "execution_count": 36,
   "metadata": {},
   "outputs": [],
   "source": [
    "from river.stream import iter_pandas\n",
    "from river.evaluate import progressive_val_score\n",
    "from river.metrics import BalancedAccuracy\n",
    "from river.metrics import GeometricMean\n",
    "from river import compose\n",
    "from river.metrics import Metrics"
   ]
  },
  {
   "cell_type": "markdown",
   "metadata": {},
   "source": [
    "## Naïve Bayes"
   ]
  },
  {
   "cell_type": "code",
   "execution_count": 39,
   "metadata": {},
   "outputs": [
    {
     "name": "stdout",
     "output_type": "stream",
     "text": [
      "[50,000] BalancedAccuracy: 79.69%, GeometricMean: 0.784116\n",
      "[100,000] BalancedAccuracy: 88.58%, GeometricMean: 0.885725\n",
      "[150,000] BalancedAccuracy: 87.94%, GeometricMean: 0.877084\n",
      "[200,000] BalancedAccuracy: 89.05%, GeometricMean: 0.887413\n",
      "[250,000] BalancedAccuracy: 89.54%, GeometricMean: 0.891926\n",
      "[300,000] BalancedAccuracy: 89.82%, GeometricMean: 0.894456\n",
      "[350,000] BalancedAccuracy: 87.85%, GeometricMean: 0.872211\n",
      "[400,000] BalancedAccuracy: 87.82%, GeometricMean: 0.871664\n",
      "[450,000] BalancedAccuracy: 87.82%, GeometricMean: 0.871344\n"
     ]
    },
    {
     "data": {
      "text/plain": [
       "BalancedAccuracy: 84.92%, GeometricMean: 0.837914"
      ]
     },
     "execution_count": 39,
     "metadata": {},
     "output_type": "execute_result"
    }
   ],
   "source": [
    "from river.naive_bayes import GaussianNB\n",
    "\n",
    "model = (\n",
    "    compose.Discard('protocol_type','service', 'flag') |\n",
    "    GaussianNB()\n",
    ")\n",
    "metric = Metrics(metrics=[BalancedAccuracy(),GeometricMean()])\n",
    "stream = iter_pandas(X=df[features], y=df['class'])\n",
    "\n",
    "progressive_val_score(dataset=stream,\n",
    "                      model=model,\n",
    "                      metric=metric,\n",
    "                      print_every=50000)"
   ]
  },
  {
   "cell_type": "markdown",
   "metadata": {},
   "source": [
    "## Hoeffding Adaptive Tree"
   ]
  },
  {
   "cell_type": "code",
   "execution_count": 40,
   "metadata": {},
   "outputs": [
    {
     "name": "stdout",
     "output_type": "stream",
     "text": [
      "[50,000] BalancedAccuracy: 99.34%, GeometricMean: 0.993363\n",
      "[100,000] BalancedAccuracy: 98.57%, GeometricMean: 0.985713\n",
      "[150,000] BalancedAccuracy: 98.51%, GeometricMean: 0.985123\n",
      "[200,000] BalancedAccuracy: 98.80%, GeometricMean: 0.987992\n",
      "[250,000] BalancedAccuracy: 98.93%, GeometricMean: 0.989254\n",
      "[300,000] BalancedAccuracy: 99.00%, GeometricMean: 0.989963\n",
      "[350,000] BalancedAccuracy: 98.71%, GeometricMean: 0.987052\n",
      "[400,000] BalancedAccuracy: 98.51%, GeometricMean: 0.985032\n",
      "[450,000] BalancedAccuracy: 98.55%, GeometricMean: 0.985486\n"
     ]
    },
    {
     "data": {
      "text/plain": [
       "BalancedAccuracy: 98.67%, GeometricMean: 0.986714"
      ]
     },
     "execution_count": 40,
     "metadata": {},
     "output_type": "execute_result"
    }
   ],
   "source": [
    "from river.tree import HoeffdingAdaptiveTreeClassifier\n",
    "\n",
    "model = HoeffdingAdaptiveTreeClassifier(nominal_attributes=['protocol_type','service', 'flag'], seed=42)\n",
    "metric = Metrics(metrics=[BalancedAccuracy(),GeometricMean()])\n",
    "stream = iter_pandas(X=df[features], y=df['class'])\n",
    "\n",
    "progressive_val_score(dataset=stream, \n",
    "                      model=model, \n",
    "                      metric=metric, \n",
    "                      print_every=50000)"
   ]
  },
  {
   "cell_type": "markdown",
   "metadata": {},
   "source": [
    "## Adaptive Random Forest"
   ]
  },
  {
   "cell_type": "code",
   "execution_count": 42,
   "metadata": {},
   "outputs": [
    {
     "name": "stdout",
     "output_type": "stream",
     "text": [
      "[50,000] BalancedAccuracy: 99.65%, GeometricMean: 0.996469\n",
      "[100,000] BalancedAccuracy: 99.70%, GeometricMean: 0.997023\n",
      "[150,000] BalancedAccuracy: 99.69%, GeometricMean: 0.996925\n",
      "[200,000] BalancedAccuracy: 99.79%, GeometricMean: 0.997855\n",
      "[250,000] BalancedAccuracy: 99.83%, GeometricMean: 0.998265\n",
      "[300,000] BalancedAccuracy: 99.85%, GeometricMean: 0.998495\n",
      "[350,000] BalancedAccuracy: 99.84%, GeometricMean: 0.998377\n",
      "[400,000] BalancedAccuracy: 99.84%, GeometricMean: 0.998369\n",
      "[450,000] BalancedAccuracy: 99.84%, GeometricMean: 0.998433\n"
     ]
    },
    {
     "data": {
      "text/plain": [
       "BalancedAccuracy: 99.84%, GeometricMean: 0.99843"
      ]
     },
     "execution_count": 42,
     "metadata": {},
     "output_type": "execute_result"
    }
   ],
   "source": [
    "from river.ensemble import AdaptiveRandomForestClassifier\n",
    "\n",
    "model = AdaptiveRandomForestClassifier(n_models=5,nominal_attributes=['protocol_type','service', 'flag'])\n",
    "metric = Metrics(metrics=[BalancedAccuracy(),GeometricMean()])\n",
    "stream = iter_pandas(X=df[features], y=df['class'])\n",
    "\n",
    "progressive_val_score(dataset=stream,\n",
    "                      model=model,\n",
    "                      metric=metric,\n",
    "                      print_every=50000)"
   ]
  },
  {
   "cell_type": "markdown",
   "metadata": {},
   "source": [
    "## ADWIN Online Bagging"
   ]
  },
  {
   "cell_type": "code",
   "execution_count": 43,
   "metadata": {},
   "outputs": [
    {
     "name": "stdout",
     "output_type": "stream",
     "text": [
      "[50,000] BalancedAccuracy: 97.85%, GeometricMean: 0.978347\n",
      "[100,000] BalancedAccuracy: 98.86%, GeometricMean: 0.98862\n",
      "[150,000] BalancedAccuracy: 98.90%, GeometricMean: 0.988987\n",
      "[200,000] BalancedAccuracy: 99.17%, GeometricMean: 0.991743\n",
      "[250,000] BalancedAccuracy: 99.30%, GeometricMean: 0.992954\n",
      "[300,000] BalancedAccuracy: 99.36%, GeometricMean: 0.993636\n",
      "[350,000] BalancedAccuracy: 99.26%, GeometricMean: 0.992635\n",
      "[400,000] BalancedAccuracy: 99.29%, GeometricMean: 0.992924\n",
      "[450,000] BalancedAccuracy: 99.33%, GeometricMean: 0.993313\n"
     ]
    },
    {
     "data": {
      "text/plain": [
       "BalancedAccuracy: 99.36%, GeometricMean: 0.993563"
      ]
     },
     "execution_count": 43,
     "metadata": {},
     "output_type": "execute_result"
    }
   ],
   "source": [
    "from river.ensemble import ADWINBaggingClassifier\n",
    "from river.tree import HoeffdingTreeClassifier\n",
    "\n",
    "model = ADWINBaggingClassifier(model=HoeffdingTreeClassifier(nominal_attributes=['protocol_type','service', 'flag']),\n",
    "                          n_models=5,\n",
    "                          seed=42)\n",
    "metric = Metrics(metrics=[BalancedAccuracy(),GeometricMean()])\n",
    "stream = iter_pandas(X=df[features], y=df['class'])\n",
    "\n",
    "progressive_val_score(dataset=stream,\n",
    "                      model=model,\n",
    "                      metric=metric,\n",
    "                      print_every=50000)\n"
   ]
  },
  {
   "cell_type": "markdown",
   "metadata": {},
   "source": [
    "## Leveraging Bagging"
   ]
  },
  {
   "cell_type": "code",
   "execution_count": 44,
   "metadata": {},
   "outputs": [
    {
     "name": "stdout",
     "output_type": "stream",
     "text": [
      "[50,000] BalancedAccuracy: 99.54%, GeometricMean: 0.995347\n",
      "[100,000] BalancedAccuracy: 99.68%, GeometricMean: 0.996783\n",
      "[150,000] BalancedAccuracy: 99.56%, GeometricMean: 0.995635\n",
      "[200,000] BalancedAccuracy: 99.68%, GeometricMean: 0.996805\n",
      "[250,000] BalancedAccuracy: 99.73%, GeometricMean: 0.997319\n",
      "[300,000] BalancedAccuracy: 99.76%, GeometricMean: 0.997609\n",
      "[350,000] BalancedAccuracy: 99.73%, GeometricMean: 0.997343\n",
      "[400,000] BalancedAccuracy: 99.73%, GeometricMean: 0.997279\n",
      "[450,000] BalancedAccuracy: 99.73%, GeometricMean: 0.997336\n"
     ]
    },
    {
     "data": {
      "text/plain": [
       "BalancedAccuracy: 99.75%, GeometricMean: 0.997492"
      ]
     },
     "execution_count": 44,
     "metadata": {},
     "output_type": "execute_result"
    }
   ],
   "source": [
    "from river.ensemble import LeveragingBaggingClassifier\n",
    "from river.tree import HoeffdingTreeClassifier\n",
    "\n",
    "model = LeveragingBaggingClassifier(model=HoeffdingTreeClassifier(nominal_attributes=['protocol_type','service', 'flag']),\n",
    "                          n_models=5,\n",
    "                          seed=42)\n",
    "metric = Metrics(metrics=[BalancedAccuracy(),GeometricMean()])\n",
    "stream = iter_pandas(X=df[features], y=df['class'])\n",
    "\n",
    "progressive_val_score(dataset=stream,\n",
    "                      model=model,\n",
    "                      metric=metric,\n",
    "                      print_every=50000)"
   ]
  },
  {
   "cell_type": "markdown",
   "metadata": {},
   "source": [
    "## Streaming Random Patches"
   ]
  },
  {
   "cell_type": "code",
   "execution_count": 45,
   "metadata": {},
   "outputs": [
    {
     "name": "stdout",
     "output_type": "stream",
     "text": [
      "[50,000] BalancedAccuracy: 99.33%, GeometricMean: 0.993303\n",
      "[100,000] BalancedAccuracy: 99.56%, GeometricMean: 0.995624\n",
      "[150,000] BalancedAccuracy: 99.42%, GeometricMean: 0.994165\n",
      "[200,000] BalancedAccuracy: 99.57%, GeometricMean: 0.995685\n",
      "[250,000] BalancedAccuracy: 99.64%, GeometricMean: 0.996354\n",
      "[300,000] BalancedAccuracy: 99.67%, GeometricMean: 0.99673\n",
      "[350,000] BalancedAccuracy: 99.65%, GeometricMean: 0.996515\n",
      "[400,000] BalancedAccuracy: 99.66%, GeometricMean: 0.996616\n",
      "[450,000] BalancedAccuracy: 99.67%, GeometricMean: 0.996727\n"
     ]
    },
    {
     "data": {
      "text/plain": [
       "BalancedAccuracy: 99.68%, GeometricMean: 0.99679"
      ]
     },
     "execution_count": 45,
     "metadata": {},
     "output_type": "execute_result"
    }
   ],
   "source": [
    "from river.ensemble import SRPClassifier\n",
    "from river.tree import HoeffdingTreeClassifier\n",
    "from river.drift import ADWIN\n",
    "\n",
    "model = SRPClassifier(model=HoeffdingTreeClassifier(nominal_attributes=['protocol_type','service', 'flag']),\n",
    "                      n_models=5,\n",
    "                      drift_detector=ADWIN(delta=0.001),\n",
    "                      warning_detector=ADWIN(delta=0.01),\n",
    "                      seed=42)\n",
    "metric = Metrics(metrics=[BalancedAccuracy(),GeometricMean()])\n",
    "stream = iter_pandas(X=df[features], y=df['class'])\n",
    "\n",
    "progressive_val_score(dataset=stream, \n",
    "                      model=model, \n",
    "                      metric=metric, \n",
    "                      print_every=50000)"
   ]
  }
 ],
 "metadata": {
  "kernelspec": {
   "display_name": "Python 3",
   "language": "python",
   "name": "python3"
  },
  "language_info": {
   "codemirror_mode": {
    "name": "ipython",
    "version": 3
   },
   "file_extension": ".py",
   "mimetype": "text/x-python",
   "name": "python",
   "nbconvert_exporter": "python",
   "pygments_lexer": "ipython3",
   "version": "3.7.6"
  }
 },
 "nbformat": 4,
 "nbformat_minor": 4
}
